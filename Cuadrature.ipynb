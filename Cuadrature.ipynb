{
 "cells": [
  {
   "cell_type": "code",
   "execution_count": 3,
   "metadata": {
    "ExecuteTime": {
     "end_time": "2022-04-04T07:48:48.874057Z",
     "start_time": "2022-04-04T07:48:39.505502Z"
    }
   },
   "outputs": [],
   "source": [
    "import numpy as np  \n",
    "import numpy.polynomial.legendre as npl\n",
    "import sympy as sp\n",
    "from scipy.special import legendre"
   ]
  },
  {
   "cell_type": "code",
   "execution_count": 79,
   "metadata": {
    "ExecuteTime": {
     "end_time": "2022-03-28T09:13:04.178710Z",
     "start_time": "2022-03-28T09:13:04.171723Z"
    }
   },
   "outputs": [],
   "source": [
    "def Transformation(nodes, weight,a,b):\n",
    "    nodes=(b-a)/2*nodes+(a+b)/2\n",
    "    weight=(b-a)/2 *weight\n",
    "    return (nodes,weight)"
   ]
  },
  {
   "cell_type": "code",
   "execution_count": 21,
   "metadata": {
    "ExecuteTime": {
     "end_time": "2022-04-03T21:57:20.175068Z",
     "start_time": "2022-04-03T21:57:20.166096Z"
    }
   },
   "outputs": [],
   "source": [
    "def Derivate(f,nodes):\n",
    "    d=np.zeros(len(nodes))\n",
    "    for i in range(0,len(nodes)):\n",
    "        if i==0:\n",
    "            d[i]=(f(nodes[i+1])-f(nodes[i]))/(nodes[i+1]-nodes[i])\n",
    "        elif i==(len(nodes)-1):\n",
    "            d[i]=(f(nodes[i])-f(nodes[i-1]))/(nodes[i]-nodes[i-1])\n",
    "        else:\n",
    "            d[i]=(f(nodes[i+1])-f(nodes[i-1]))/(nodes[i+1]-nodes[i-1])\n",
    "    return d"
   ]
  },
  {
   "cell_type": "markdown",
   "metadata": {},
   "source": [
    "Probando que funciona la Derivada por la definición de $\\frac{f(x+h)-f(x)}{h}$"
   ]
  },
  {
   "cell_type": "code",
   "execution_count": 26,
   "metadata": {
    "ExecuteTime": {
     "end_time": "2022-04-03T21:58:41.976096Z",
     "start_time": "2022-04-03T21:58:41.969143Z"
    }
   },
   "outputs": [
    {
     "data": {
      "text/plain": [
       "array([0.1 , 0.2 , 0.35, 0.5 , 0.55])"
      ]
     },
     "execution_count": 26,
     "metadata": {},
     "output_type": "execute_result"
    }
   ],
   "source": [
    "f= lambda x: x**2\n",
    "nodes=[0,0.1,0.2,0.25,0.3]\n",
    "\n",
    "Derivate(f,nodes)"
   ]
  },
  {
   "cell_type": "markdown",
   "metadata": {},
   "source": [
    "Tengo que ver como crear phi con la funcion legendre y las funciones para derivadas"
   ]
  },
  {
   "cell_type": "code",
   "execution_count": 5,
   "metadata": {
    "ExecuteTime": {
     "end_time": "2022-04-04T07:48:55.342979Z",
     "start_time": "2022-04-04T07:48:51.326806Z"
    },
    "scrolled": true
   },
   "outputs": [
    {
     "name": "stdout",
     "output_type": "stream",
     "text": [
      "0 x*(0.875*x**3 - 0.875*x**2 - 0.375*x + 0.375)\n",
      "3.5*x**3 - 2.625*x**2 - 0.75*x + 0.375\n",
      "1 -(0.875*x**5 - 1.25*x**3 + 0.375*x)/(0.2890625*x + 0.14453125)\n",
      "(-3.5*x**5 - 2.1875*x**4 + 2.5*x**3 + 1.875*x**2 - 0.1875)/(0.2890625*x**2 + 0.2890625*x + 0.072265625)\n",
      "2 2.33333333333333*x**4 - 3.33333333333333*x**2 + 1.0\n",
      "x*(9.33333333333333*x**2 - 6.66666666666667)\n",
      "3 -(0.875*x**5 - 1.25*x**3 + 0.375*x)/(0.2890625*x - 0.14453125)\n",
      "(-3.5*x**5 + 2.1875*x**4 + 2.5*x**3 - 1.875*x**2 + 0.1875)/(0.2890625*x**2 - 0.2890625*x + 0.072265625)\n",
      "4 x*(0.875*x**3 + 0.875*x**2 - 0.375*x - 0.375)\n",
      "3.5*x**3 + 2.625*x**2 - 0.75*x - 0.375\n"
     ]
    }
   ],
   "source": [
    "x = sp.symbols('x')\n",
    "\n",
    "def P(n, x): \n",
    "    if(n == 0):\n",
    "        return 1 # P0 = 1\n",
    "    elif(n == 1):\n",
    "        return x # P1 = x\n",
    "    else:\n",
    "        return (((2 * n)-1)*x * P(n-1, x)-(n-1)*P(n-2, x))/float(n)\n",
    "    \n",
    "N=4\n",
    "xvals = np.linspace(-1,1,N+1)\n",
    "\n",
    "x = sp.symbols('x')\n",
    "\n",
    "L_n_p = lambda x:sp.diff(sp.simplify(P(N,x)))\n",
    "L_n = lambda x:sp.simplify(P(N,x))\n",
    "\n",
    "i=0\n",
    "phi0=lambda x:((-1)/(N*(N+1)))*((1-x**2)*(L_n_p(x))/((x-xvals[[i]])*(L_n(xvals)[[i]])))\n",
    "simp0=lambda x:sp.simplify(phi0(x))\n",
    "dif0=lambda x:sp.simplify(sp.diff(simp0(x)))\n",
    "print(i,simp0(x))\n",
    "print(dif0(x))\n",
    "\n",
    "i=1\n",
    "phi1=lambda x:((-1)/(N*(N+1)))*((1-x**2)*(L_n_p(x))/((x-xvals[[i]])*(L_n(xvals)[[i]])))\n",
    "simp1=lambda x:sp.simplify(phi1(x))\n",
    "dif1=lambda x:sp.simplify(sp.diff(simp1(x)))\n",
    "print(i,simp1(x))\n",
    "print(dif1(x))\n",
    "\n",
    "i=2\n",
    "phi2=lambda x:((-1)/(N*(N+1)))*((1-x**2)*(L_n_p(x))/((x-xvals[[i]])*(L_n(xvals)[[i]])))\n",
    "simp2=lambda x:sp.simplify(phi2(x))\n",
    "dif2=lambda x:sp.simplify(sp.diff(simp2(x)))\n",
    "print(i,simp2(x))\n",
    "print(dif2(x))\n",
    "\n",
    "i=3\n",
    "phi3=lambda x:((-1)/(N*(N+1)))*((1-x**2)*(L_n_p(x))/((x-xvals[[i]])*(L_n(xvals)[[i]])))\n",
    "simp3=lambda x:sp.simplify(phi3(x))\n",
    "dif3=lambda x:sp.simplify(sp.diff(simp3(x)))\n",
    "print(i,simp3(x))\n",
    "print(dif3(x))\n",
    "\n",
    "i=4\n",
    "phi4=lambda x:((-1)/(N*(N+1)))*((1-x**2)*(L_n_p(x))/((x-xvals[[i]])*(L_n(xvals)[[i]])))\n",
    "simp4=lambda x:sp.simplify(phi4(x))\n",
    "dif4=lambda x:sp.simplify(sp.diff(simp4(x)))\n",
    "print(i,simp4(x))\n",
    "print(dif4(x))"
   ]
  },
  {
   "cell_type": "code",
   "execution_count": 112,
   "metadata": {
    "ExecuteTime": {
     "end_time": "2022-04-03T22:42:57.057799Z",
     "start_time": "2022-04-03T22:42:56.905187Z"
    }
   },
   "outputs": [
    {
     "name": "stdout",
     "output_type": "stream",
     "text": [
      "2 2.33333333333333*x**4 - 3.33333333333333*x**2 + 1.0\n"
     ]
    }
   ],
   "source": [
    "i=2\n",
    "print(i,simp1(x)) #¿Que pasa?"
   ]
  },
  {
   "cell_type": "code",
   "execution_count": 117,
   "metadata": {
    "ExecuteTime": {
     "end_time": "2022-04-03T22:44:04.216404Z",
     "start_time": "2022-04-03T22:44:04.100903Z"
    }
   },
   "outputs": [
    {
     "data": {
      "text/latex": [
       "$\\displaystyle x \\left(9.33333333333333 x^{2} - 6.66666666666667\\right)$"
      ],
      "text/plain": [
       "x*(9.33333333333333*x**2 - 6.66666666666667)"
      ]
     },
     "execution_count": 117,
     "metadata": {},
     "output_type": "execute_result"
    }
   ],
   "source": [
    "dif4(x) #aqui pasa igual que arriba"
   ]
  },
  {
   "cell_type": "code",
   "execution_count": null,
   "metadata": {},
   "outputs": [],
   "source": []
  },
  {
   "cell_type": "code",
   "execution_count": 168,
   "metadata": {
    "ExecuteTime": {
     "end_time": "2022-04-03T23:22:40.341222Z",
     "start_time": "2022-04-03T23:22:40.335222Z"
    }
   },
   "outputs": [],
   "source": [
    "def Integrate2(a,b,f,g,weight,nodes):\n",
    "    fe=ge=np.zeros(len(nodes))\n",
    "\n",
    "    for i in range(len(nodes)):\n",
    "        fe[i]=f(nodes[i])\n",
    "        ge[i]=g(nodes[i])\n",
    "\n",
    "    return (b-a)/2 *np.array(fe*ge).dot(np.array(weight))"
   ]
  },
  {
   "cell_type": "code",
   "execution_count": 176,
   "metadata": {
    "ExecuteTime": {
     "end_time": "2022-04-03T23:26:54.958784Z",
     "start_time": "2022-04-03T23:26:54.947814Z"
    }
   },
   "outputs": [
    {
     "data": {
      "text/plain": [
       "10.333333391611308"
      ]
     },
     "execution_count": 176,
     "metadata": {},
     "output_type": "execute_result"
    }
   ],
   "source": [
    "f=lambda x: x**2+1\n",
    "g=lambda x: 2*x+3\n",
    "nodes= [-0.77459667 , 0.,          0.77459667] \n",
    "weight=[0.55555556, 0.88888889, 0.55555556]\n",
    "\n",
    "Integrate2(0,1,f,g,weight,nodes)"
   ]
  },
  {
   "cell_type": "code",
   "execution_count": null,
   "metadata": {},
   "outputs": [],
   "source": []
  },
  {
   "cell_type": "code",
   "execution_count": null,
   "metadata": {},
   "outputs": [],
   "source": []
  },
  {
   "cell_type": "code",
   "execution_count": null,
   "metadata": {},
   "outputs": [],
   "source": []
  },
  {
   "cell_type": "code",
   "execution_count": 57,
   "metadata": {
    "ExecuteTime": {
     "end_time": "2022-03-28T08:54:02.475899Z",
     "start_time": "2022-03-28T08:54:02.461879Z"
    }
   },
   "outputs": [],
   "source": [
    "class Cuadrature:\n",
    "    def __init__(self,nodes=None,weight=None):\n",
    "        if(list(nodes)!=None):\n",
    "                self.nodes=nodes\n",
    "        if(list(weight)!=None):\n",
    "                self.weight=weight\n",
    "    def getNodes(self):\n",
    "        return self.nodes\n",
    "    def getWeight(self):\n",
    "        return self.weight\n",
    "    def getNumPoints(self):\n",
    "        return len(self.nodes)\n",
    "    \n",
    "    def Integrate(self,f):\n",
    "        return self.Integrate_List(f(np.array(self.nodes)))\n",
    "    \n",
    "    def Integrate_List(self,lista):\n",
    "        if (len(lista)==len(self.weight)):\n",
    "            return np.array(lista).dot(np.array(self.weight))\n",
    "        else:\n",
    "            raise Exception(\"No has metido correctamente la lista\")"
   ]
  },
  {
   "cell_type": "markdown",
   "metadata": {},
   "source": [
    "Pasar todos los self.nodes y self.weight arriba poniendo num_points.\n",
    "\n",
    "Intentar integrar bien las funciones o su funcion derivada."
   ]
  },
  {
   "cell_type": "code",
   "execution_count": 83,
   "metadata": {
    "ExecuteTime": {
     "end_time": "2022-03-28T09:13:54.234641Z",
     "start_time": "2022-03-28T09:13:54.225172Z"
    }
   },
   "outputs": [],
   "source": [
    "class Legendre(Cuadrature):\n",
    "    def __init__(self,num_points,a,b):\n",
    "        Cuadrature.__init__(self,nodes=npl.leggauss(num_points)[0], weight=npl.leggauss(num_points)[1]) \n",
    "        self.nodes,self.weight=Transformation(self.nodes, self.weight, a, b)\n",
    "    def __str__(self):\n",
    "        return \"Nodos: %s \\nPesos: %s \" %(self.nodes,self.weight)"
   ]
  },
  {
   "cell_type": "code",
   "execution_count": 105,
   "metadata": {
    "ExecuteTime": {
     "end_time": "2022-03-28T09:26:13.881716Z",
     "start_time": "2022-03-28T09:26:13.872738Z"
    }
   },
   "outputs": [],
   "source": [
    "class Trapecio_Compuesto(Cuadrature): #están considerados los extremos(-1,1)\n",
    "    def __init__(self,num_points,a,b):\n",
    "        Cuadrature.__init__(self, nodes=np.array([*np.arange(-1,1,float(2/num_points)).tolist(),1]), weight=np.array([2/(2*num_points),*[2/num_points]*(num_points-1),2/(2*num_points)]))\n",
    "        self.nodes,self.weight=Transformation(self.nodes, self.weight, a, b)\n",
    "    def __str__(self):\n",
    "        return \"Nodos: %s \\nPesos: %s \" %(self.nodes,self.weight)"
   ]
  },
  {
   "cell_type": "code",
   "execution_count": 109,
   "metadata": {
    "ExecuteTime": {
     "end_time": "2022-03-28T09:27:11.159218Z",
     "start_time": "2022-03-28T09:27:11.149470Z"
    }
   },
   "outputs": [],
   "source": [
    "class Lobato(Cuadrature):\n",
    "    def __init__(self, num_points,a,b):\n",
    "        aux=[-1,*sorted(list(legendre(num_points).deriv().r)),1]\n",
    "        Cuadrature.__init__(self, nodes=np.array(aux), weight=np.array(2/(num_points*(num_points+1)*(legendre(num_points)(aux))**2)))\n",
    "        self.nodes,self.weight=Transformation(self.nodes, self.weight, a, b)\n",
    "    def __str__(self):\n",
    "        return \"Nodos: %s \\nPesos: %s \" %(self.nodes,self.weight)"
   ]
  },
  {
   "cell_type": "code",
   "execution_count": 56,
   "metadata": {
    "ExecuteTime": {
     "end_time": "2022-03-28T08:50:16.808563Z",
     "start_time": "2022-03-28T08:50:16.782855Z"
    }
   },
   "outputs": [
    {
     "ename": "TypeError",
     "evalue": "'NoneType' object is not iterable",
     "output_type": "error",
     "traceback": [
      "\u001b[1;31m---------------------------------------------------------------------------\u001b[0m",
      "\u001b[1;31mTypeError\u001b[0m                                 Traceback (most recent call last)",
      "\u001b[1;32m<ipython-input-56-5303aa3e061a>\u001b[0m in \u001b[0;36m<module>\u001b[1;34m\u001b[0m\n\u001b[1;32m----> 1\u001b[1;33m \u001b[0mCuadrature\u001b[0m\u001b[1;33m(\u001b[0m\u001b[1;36m3\u001b[0m\u001b[1;33m)\u001b[0m\u001b[1;33m\u001b[0m\u001b[1;33m\u001b[0m\u001b[0m\n\u001b[0m",
      "\u001b[1;32m<ipython-input-2-8fb7c04267f4>\u001b[0m in \u001b[0;36m__init__\u001b[1;34m(self, num_points, nodes, weight)\u001b[0m\n\u001b[0;32m      1\u001b[0m \u001b[1;32mclass\u001b[0m \u001b[0mCuadrature\u001b[0m\u001b[1;33m:\u001b[0m\u001b[1;33m\u001b[0m\u001b[1;33m\u001b[0m\u001b[0m\n\u001b[0;32m      2\u001b[0m     \u001b[1;32mdef\u001b[0m \u001b[0m__init__\u001b[0m\u001b[1;33m(\u001b[0m\u001b[0mself\u001b[0m\u001b[1;33m,\u001b[0m\u001b[0mnum_points\u001b[0m\u001b[1;33m,\u001b[0m\u001b[0mnodes\u001b[0m\u001b[1;33m=\u001b[0m\u001b[1;32mNone\u001b[0m\u001b[1;33m,\u001b[0m\u001b[0mweight\u001b[0m\u001b[1;33m=\u001b[0m\u001b[1;32mNone\u001b[0m\u001b[1;33m)\u001b[0m\u001b[1;33m:\u001b[0m\u001b[1;33m\u001b[0m\u001b[1;33m\u001b[0m\u001b[0m\n\u001b[1;32m----> 3\u001b[1;33m         \u001b[1;32mif\u001b[0m \u001b[1;33m(\u001b[0m\u001b[0mlist\u001b[0m\u001b[1;33m(\u001b[0m\u001b[0mnodes\u001b[0m\u001b[1;33m)\u001b[0m\u001b[1;33m==\u001b[0m\u001b[1;32mNone\u001b[0m \u001b[1;32mand\u001b[0m \u001b[0mlist\u001b[0m\u001b[1;33m(\u001b[0m\u001b[0mweight\u001b[0m\u001b[1;33m)\u001b[0m\u001b[1;33m==\u001b[0m\u001b[1;32mNone\u001b[0m\u001b[1;33m)\u001b[0m\u001b[1;33m:\u001b[0m\u001b[1;33m\u001b[0m\u001b[1;33m\u001b[0m\u001b[0m\n\u001b[0m\u001b[0;32m      4\u001b[0m             \u001b[0mself\u001b[0m\u001b[1;33m.\u001b[0m\u001b[0mnum_points\u001b[0m\u001b[1;33m=\u001b[0m\u001b[0mnum_points\u001b[0m\u001b[1;33m\u001b[0m\u001b[1;33m\u001b[0m\u001b[0m\n\u001b[0;32m      5\u001b[0m         \u001b[1;32melse\u001b[0m\u001b[1;33m:\u001b[0m\u001b[1;33m\u001b[0m\u001b[1;33m\u001b[0m\u001b[0m\n",
      "\u001b[1;31mTypeError\u001b[0m: 'NoneType' object is not iterable"
     ]
    }
   ],
   "source": [
    "Cuadrature(3)"
   ]
  },
  {
   "cell_type": "code",
   "execution_count": 121,
   "metadata": {
    "ExecuteTime": {
     "end_time": "2022-03-28T09:29:40.657113Z",
     "start_time": "2022-03-28T09:29:40.647407Z"
    }
   },
   "outputs": [
    {
     "name": "stdout",
     "output_type": "stream",
     "text": [
      "Nodos: [-0.77459667  0.          0.77459667] \n",
      "Pesos: [0.55555556 0.88888889 0.55555556] \n"
     ]
    }
   ],
   "source": [
    "print(Legendre(3,-1,1))"
   ]
  },
  {
   "cell_type": "code",
   "execution_count": 122,
   "metadata": {
    "ExecuteTime": {
     "end_time": "2022-03-28T09:29:54.482169Z",
     "start_time": "2022-03-28T09:29:54.473973Z"
    }
   },
   "outputs": [
    {
     "name": "stdout",
     "output_type": "stream",
     "text": [
      "Nodos: [0.338105 1.5      2.661895] \n",
      "Pesos: [0.83333333 1.33333333 0.83333333] \n"
     ]
    }
   ],
   "source": [
    "print(Legendre(3,0,3))"
   ]
  },
  {
   "cell_type": "code",
   "execution_count": 112,
   "metadata": {
    "ExecuteTime": {
     "end_time": "2022-03-28T09:27:28.458033Z",
     "start_time": "2022-03-28T09:27:28.451225Z"
    }
   },
   "outputs": [
    {
     "name": "stdout",
     "output_type": "stream",
     "text": [
      "Nodos: [0.  0.8 1.6 2.4 3.2 4. ] \n",
      "Pesos: [0.4 0.8 0.8 0.8 0.8 0.4] \n"
     ]
    }
   ],
   "source": [
    "print(Trapecio_Compuesto(5,0,4))"
   ]
  },
  {
   "cell_type": "code",
   "execution_count": 114,
   "metadata": {
    "ExecuteTime": {
     "end_time": "2022-03-28T09:27:43.811224Z",
     "start_time": "2022-03-28T09:27:43.803591Z"
    },
    "scrolled": true
   },
   "outputs": [
    {
     "name": "stdout",
     "output_type": "stream",
     "text": [
      "Nodos: [0.         1.38196601 3.61803399 5.        ] \n",
      "Pesos: [0.41666667 2.08333333 2.08333333 0.41666667] \n"
     ]
    }
   ],
   "source": [
    "print(Lobato(3,0,5))"
   ]
  },
  {
   "cell_type": "markdown",
   "metadata": {},
   "source": [
    "Veamos que integra correctamente:"
   ]
  },
  {
   "cell_type": "code",
   "execution_count": 98,
   "metadata": {
    "ExecuteTime": {
     "end_time": "2022-03-28T09:20:41.395227Z",
     "start_time": "2022-03-28T09:20:41.380089Z"
    }
   },
   "outputs": [
    {
     "data": {
      "text/latex": [
       "$\\displaystyle \\frac{243}{2}$"
      ],
      "text/plain": [
       "243/2"
      ]
     },
     "execution_count": 98,
     "metadata": {},
     "output_type": "execute_result"
    }
   ],
   "source": [
    "x = sp.Symbol('x')\n",
    "y=x**5\n",
    "sp.integrate(y,(x,0,3))"
   ]
  },
  {
   "cell_type": "code",
   "execution_count": 99,
   "metadata": {
    "ExecuteTime": {
     "end_time": "2022-03-28T09:20:43.082617Z",
     "start_time": "2022-03-28T09:20:43.071993Z"
    }
   },
   "outputs": [
    {
     "data": {
      "text/plain": [
       "121.50000000000003"
      ]
     },
     "execution_count": 99,
     "metadata": {},
     "output_type": "execute_result"
    }
   ],
   "source": [
    "f= lambda x: x**5\n",
    "\n",
    "Legendre(3,0,3).Integrate(f)"
   ]
  },
  {
   "cell_type": "code",
   "execution_count": 100,
   "metadata": {
    "ExecuteTime": {
     "end_time": "2022-03-28T09:20:44.719863Z",
     "start_time": "2022-03-28T09:20:44.711507Z"
    }
   },
   "outputs": [
    {
     "data": {
      "text/plain": [
       "121.49999999999993"
      ]
     },
     "execution_count": 100,
     "metadata": {},
     "output_type": "execute_result"
    }
   ],
   "source": [
    "Legendre(10,0,3).Integrate(f)"
   ]
  },
  {
   "cell_type": "code",
   "execution_count": 118,
   "metadata": {
    "ExecuteTime": {
     "end_time": "2022-03-28T09:28:30.809428Z",
     "start_time": "2022-03-28T09:28:30.800452Z"
    }
   },
   "outputs": [
    {
     "data": {
      "text/plain": [
       "154.5"
      ]
     },
     "execution_count": 118,
     "metadata": {},
     "output_type": "execute_result"
    }
   ],
   "source": [
    "Trapecio_Compuesto(3,0,3).Integrate(f)"
   ]
  },
  {
   "cell_type": "code",
   "execution_count": 119,
   "metadata": {
    "ExecuteTime": {
     "end_time": "2022-03-28T09:28:36.082292Z",
     "start_time": "2022-03-28T09:28:36.071949Z"
    }
   },
   "outputs": [
    {
     "data": {
      "text/plain": [
       "121.50000000000003"
      ]
     },
     "execution_count": 119,
     "metadata": {},
     "output_type": "execute_result"
    }
   ],
   "source": [
    "Lobato(3,0,3).Integrate(f)"
   ]
  },
  {
   "cell_type": "code",
   "execution_count": 120,
   "metadata": {
    "ExecuteTime": {
     "end_time": "2022-03-28T09:28:41.795657Z",
     "start_time": "2022-03-28T09:28:41.681013Z"
    }
   },
   "outputs": [
    {
     "data": {
      "text/plain": [
       "121.49999999999986"
      ]
     },
     "execution_count": 120,
     "metadata": {},
     "output_type": "execute_result"
    }
   ],
   "source": [
    "Lobato(10,0,3).Integrate(f)"
   ]
  },
  {
   "cell_type": "markdown",
   "metadata": {},
   "source": [
    "# Pasos que he seguido a la hora de construir las clases"
   ]
  },
  {
   "cell_type": "markdown",
   "metadata": {},
   "source": [
    "## Legendre:\n",
    "Los nodos y pesos de Legendre se obtienen directamente con la función"
   ]
  },
  {
   "cell_type": "code",
   "execution_count": 17,
   "metadata": {
    "ExecuteTime": {
     "end_time": "2022-03-20T16:55:53.255622Z",
     "start_time": "2022-03-20T16:55:53.245651Z"
    }
   },
   "outputs": [
    {
     "data": {
      "text/plain": [
       "(array([-0.77459667,  0.        ,  0.77459667]),\n",
       " array([0.55555556, 0.88888889, 0.55555556]))"
      ]
     },
     "execution_count": 17,
     "metadata": {},
     "output_type": "execute_result"
    }
   ],
   "source": [
    "npl.leggauss(3)"
   ]
  },
  {
   "cell_type": "markdown",
   "metadata": {},
   "source": [
    "## Lobato:\n",
    "En la fórmula de Gauss_Lobato los nodos interiores son los ceros de la derivada del polinomio de Legendre $L_N'(x_i)=0$ y los pesos los he sacado de la fórmula del libro de Quarteroni."
   ]
  },
  {
   "cell_type": "code",
   "execution_count": 41,
   "metadata": {
    "ExecuteTime": {
     "end_time": "2022-03-28T08:46:05.575437Z",
     "start_time": "2022-03-28T08:46:05.565716Z"
    }
   },
   "outputs": [
    {
     "name": "stdout",
     "output_type": "stream",
     "text": [
      "[-1, 0.0, 1] [0.33333333 1.33333333 0.33333333]\n"
     ]
    }
   ],
   "source": [
    "n=2 #son n+1 puntos en total del x_0 al x_n\n",
    "\n",
    "interior=legendre(n).deriv().r\n",
    "nodos=[-1,*sorted(list(interior)),1]\n",
    "\n",
    "pesos=2/(n*(n+1)*(legendre(n)(nodos))**2)\n",
    "\n",
    "print(nodos,pesos)"
   ]
  },
  {
   "cell_type": "code",
   "execution_count": 43,
   "metadata": {
    "ExecuteTime": {
     "end_time": "2022-03-28T08:46:20.620530Z",
     "start_time": "2022-03-28T08:46:20.614161Z"
    }
   },
   "outputs": [
    {
     "data": {
      "text/plain": [
       "array([-1.,  0.,  1.])"
      ]
     },
     "execution_count": 43,
     "metadata": {},
     "output_type": "execute_result"
    }
   ],
   "source": [
    "legendre(3)(nodos)"
   ]
  },
  {
   "cell_type": "code",
   "execution_count": 22,
   "metadata": {
    "ExecuteTime": {
     "end_time": "2022-03-27T23:48:53.793496Z",
     "start_time": "2022-03-27T23:48:53.785655Z"
    }
   },
   "outputs": [
    {
     "data": {
      "text/plain": [
       "array([ 1. , -0.5,  1. ])"
      ]
     },
     "execution_count": 22,
     "metadata": {},
     "output_type": "execute_result"
    }
   ],
   "source": [
    "legendre(n)(nodos)"
   ]
  },
  {
   "cell_type": "markdown",
   "metadata": {},
   "source": [
    "## Trapecios Compuestos:\n",
    "En la fórmula de los trapecios he considerado el intervalo $(-1,1)$ en $n$ intervalos, de modo que tengo $n+1$ puntos, el incremento y por tanto h es, $h=\\frac{b-a}n$ y los pesos en los extremos son $\\frac h 2$ y en los nodos interiores $h$."
   ]
  },
  {
   "cell_type": "code",
   "execution_count": 19,
   "metadata": {
    "ExecuteTime": {
     "end_time": "2022-03-20T16:55:55.851648Z",
     "start_time": "2022-03-20T16:55:55.842675Z"
    }
   },
   "outputs": [
    {
     "data": {
      "text/plain": [
       "[-1.0,\n",
       " -0.6666666666666667,\n",
       " -0.3333333333333335,\n",
       " -2.220446049250313e-16,\n",
       " 0.33333333333333304,\n",
       " 0.6666666666666663,\n",
       " 1]"
      ]
     },
     "execution_count": 19,
     "metadata": {},
     "output_type": "execute_result"
    }
   ],
   "source": [
    "a,b=-1,1\n",
    "n=6\n",
    "[*np.arange(-1,1,float((b-a)/n)).tolist(),1] #nodos en Trapecios"
   ]
  },
  {
   "cell_type": "code",
   "execution_count": 20,
   "metadata": {
    "ExecuteTime": {
     "end_time": "2022-03-20T16:55:56.534049Z",
     "start_time": "2022-03-20T16:55:56.388653Z"
    }
   },
   "outputs": [
    {
     "data": {
      "text/plain": [
       "[0.16666666666666666,\n",
       " 0.3333333333333333,\n",
       " 0.3333333333333333,\n",
       " 0.3333333333333333,\n",
       " 0.3333333333333333,\n",
       " 0.3333333333333333,\n",
       " 0.16666666666666666]"
      ]
     },
     "execution_count": 20,
     "metadata": {},
     "output_type": "execute_result"
    }
   ],
   "source": [
    "n=6 #x_0,...x_6 7 puntos\n",
    "[2/(2*n),*[2/n]*(n-1),2/(2*n)] #pesos en Trapecios"
   ]
  },
  {
   "cell_type": "code",
   "execution_count": null,
   "metadata": {},
   "outputs": [],
   "source": []
  },
  {
   "cell_type": "markdown",
   "metadata": {},
   "source": [
    "## Con Dani y Rafa Lunes 14 Marzo"
   ]
  },
  {
   "cell_type": "code",
   "execution_count": 21,
   "metadata": {
    "ExecuteTime": {
     "end_time": "2022-03-20T16:55:57.918703Z",
     "start_time": "2022-03-20T16:55:57.906719Z"
    }
   },
   "outputs": [],
   "source": [
    "class Cuadrature:\n",
    "    def __init__(self,nodes=None,weight=None,num_points=None):\n",
    "        if (nodes!=None and weight!=None):\n",
    "            self.nodes = nodes\n",
    "            self.weight = weight\n",
    "            print(self.nodes,self.weight)\n",
    "        elif(num_points!=None):\n",
    "            self.nodes, self.weight= npl.leggauss(num_points)\n",
    "            print(self.nodes,self.weight)\n",
    "        else:\n",
    "            raise Exception(\"No has metido correctamente los parámetros en la clase\")\n",
    "    def getNodes(self):\n",
    "        return self.nodes\n",
    "    def getWeight(self):\n",
    "        return self.weight\n",
    "    def Integrate(self,f):\n",
    "        return self.Integrate_List(f(np.array(self.nodes)))\n",
    "    def Integrate_List(self,lista):\n",
    "        if (len(lista)==len(self.weight)):\n",
    "            return np.array(lista).dot(np.array(self.weight))\n",
    "        else:\n",
    "            raise Exception(\"No has metido correctamente la lista\")\n",
    "        "
   ]
  },
  {
   "cell_type": "code",
   "execution_count": 22,
   "metadata": {
    "ExecuteTime": {
     "end_time": "2022-03-20T16:55:58.923822Z",
     "start_time": "2022-03-20T16:55:58.397353Z"
    }
   },
   "outputs": [
    {
     "ename": "Exception",
     "evalue": "No has metido correctamente los parámetros en la clase",
     "output_type": "error",
     "traceback": [
      "\u001b[1;31m---------------------------------------------------------------------------\u001b[0m",
      "\u001b[1;31mException\u001b[0m                                 Traceback (most recent call last)",
      "\u001b[1;32m<ipython-input-22-44296fb4d876>\u001b[0m in \u001b[0;36m<module>\u001b[1;34m\u001b[0m\n\u001b[1;32m----> 1\u001b[1;33m \u001b[0mCuadrature\u001b[0m\u001b[1;33m(\u001b[0m\u001b[1;36m4\u001b[0m\u001b[1;33m)\u001b[0m\u001b[1;33m\u001b[0m\u001b[1;33m\u001b[0m\u001b[0m\n\u001b[0m",
      "\u001b[1;32m<ipython-input-21-c34c1944001e>\u001b[0m in \u001b[0;36m__init__\u001b[1;34m(self, nodes, weight, num_points)\u001b[0m\n\u001b[0;32m      9\u001b[0m             \u001b[0mprint\u001b[0m\u001b[1;33m(\u001b[0m\u001b[0mself\u001b[0m\u001b[1;33m.\u001b[0m\u001b[0mnodes\u001b[0m\u001b[1;33m,\u001b[0m\u001b[0mself\u001b[0m\u001b[1;33m.\u001b[0m\u001b[0mweight\u001b[0m\u001b[1;33m)\u001b[0m\u001b[1;33m\u001b[0m\u001b[1;33m\u001b[0m\u001b[0m\n\u001b[0;32m     10\u001b[0m         \u001b[1;32melse\u001b[0m\u001b[1;33m:\u001b[0m\u001b[1;33m\u001b[0m\u001b[1;33m\u001b[0m\u001b[0m\n\u001b[1;32m---> 11\u001b[1;33m             \u001b[1;32mraise\u001b[0m \u001b[0mException\u001b[0m\u001b[1;33m(\u001b[0m\u001b[1;34m\"No has metido correctamente los parámetros en la clase\"\u001b[0m\u001b[1;33m)\u001b[0m\u001b[1;33m\u001b[0m\u001b[1;33m\u001b[0m\u001b[0m\n\u001b[0m\u001b[0;32m     12\u001b[0m     \u001b[1;32mdef\u001b[0m \u001b[0mgetNodes\u001b[0m\u001b[1;33m(\u001b[0m\u001b[0mself\u001b[0m\u001b[1;33m)\u001b[0m\u001b[1;33m:\u001b[0m\u001b[1;33m\u001b[0m\u001b[1;33m\u001b[0m\u001b[0m\n\u001b[0;32m     13\u001b[0m         \u001b[1;32mreturn\u001b[0m \u001b[0mself\u001b[0m\u001b[1;33m.\u001b[0m\u001b[0mnodes\u001b[0m\u001b[1;33m\u001b[0m\u001b[1;33m\u001b[0m\u001b[0m\n",
      "\u001b[1;31mException\u001b[0m: No has metido correctamente los parámetros en la clase"
     ]
    }
   ],
   "source": [
    "Cuadrature(4)"
   ]
  },
  {
   "cell_type": "code",
   "execution_count": 25,
   "metadata": {
    "ExecuteTime": {
     "end_time": "2022-03-20T16:56:06.130694Z",
     "start_time": "2022-03-20T16:56:06.123715Z"
    },
    "scrolled": true
   },
   "outputs": [
    {
     "name": "stdout",
     "output_type": "stream",
     "text": [
      "[-0.93246951 -0.66120939 -0.23861919  0.23861919  0.66120939  0.93246951] [0.17132449 0.36076157 0.46791393 0.46791393 0.36076157 0.17132449]\n"
     ]
    }
   ],
   "source": [
    "cuad_gauss=Cuadrature(num_points=6)"
   ]
  },
  {
   "cell_type": "code",
   "execution_count": 26,
   "metadata": {
    "ExecuteTime": {
     "end_time": "2022-03-20T16:56:07.395849Z",
     "start_time": "2022-03-20T16:56:07.387869Z"
    }
   },
   "outputs": [
    {
     "data": {
      "text/plain": [
       "0.18181818181818124"
      ]
     },
     "execution_count": 26,
     "metadata": {},
     "output_type": "execute_result"
    }
   ],
   "source": [
    "f= lambda x: x**10\n",
    "cuad_gauss.Integrate(f)"
   ]
  },
  {
   "cell_type": "code",
   "execution_count": 27,
   "metadata": {
    "ExecuteTime": {
     "end_time": "2022-03-20T16:56:08.379016Z",
     "start_time": "2022-03-20T16:56:08.351572Z"
    }
   },
   "outputs": [
    {
     "ename": "Exception",
     "evalue": "No has metido correctamente la lista",
     "output_type": "error",
     "traceback": [
      "\u001b[1;31m---------------------------------------------------------------------------\u001b[0m",
      "\u001b[1;31mException\u001b[0m                                 Traceback (most recent call last)",
      "\u001b[1;32m<ipython-input-27-938dde4e908f>\u001b[0m in \u001b[0;36m<module>\u001b[1;34m\u001b[0m\n\u001b[0;32m      1\u001b[0m \u001b[0mlista\u001b[0m\u001b[1;33m=\u001b[0m\u001b[1;33m[\u001b[0m\u001b[1;36m2\u001b[0m\u001b[1;33m,\u001b[0m\u001b[1;36m4\u001b[0m\u001b[1;33m,\u001b[0m\u001b[1;36m5\u001b[0m\u001b[1;33m,\u001b[0m\u001b[1;36m0\u001b[0m\u001b[1;33m]\u001b[0m\u001b[1;33m\u001b[0m\u001b[1;33m\u001b[0m\u001b[0m\n\u001b[1;32m----> 2\u001b[1;33m \u001b[0mcuad_gauss\u001b[0m\u001b[1;33m.\u001b[0m\u001b[0mIntegrate_List\u001b[0m\u001b[1;33m(\u001b[0m\u001b[0mlista\u001b[0m\u001b[1;33m)\u001b[0m\u001b[1;33m\u001b[0m\u001b[1;33m\u001b[0m\u001b[0m\n\u001b[0m",
      "\u001b[1;32m<ipython-input-21-c34c1944001e>\u001b[0m in \u001b[0;36mIntegrate_List\u001b[1;34m(self, lista)\u001b[0m\n\u001b[0;32m     20\u001b[0m             \u001b[1;32mreturn\u001b[0m \u001b[0mnp\u001b[0m\u001b[1;33m.\u001b[0m\u001b[0marray\u001b[0m\u001b[1;33m(\u001b[0m\u001b[0mlista\u001b[0m\u001b[1;33m)\u001b[0m\u001b[1;33m.\u001b[0m\u001b[0mdot\u001b[0m\u001b[1;33m(\u001b[0m\u001b[0mnp\u001b[0m\u001b[1;33m.\u001b[0m\u001b[0marray\u001b[0m\u001b[1;33m(\u001b[0m\u001b[0mself\u001b[0m\u001b[1;33m.\u001b[0m\u001b[0mweight\u001b[0m\u001b[1;33m)\u001b[0m\u001b[1;33m)\u001b[0m\u001b[1;33m\u001b[0m\u001b[1;33m\u001b[0m\u001b[0m\n\u001b[0;32m     21\u001b[0m         \u001b[1;32melse\u001b[0m\u001b[1;33m:\u001b[0m\u001b[1;33m\u001b[0m\u001b[1;33m\u001b[0m\u001b[0m\n\u001b[1;32m---> 22\u001b[1;33m             \u001b[1;32mraise\u001b[0m \u001b[0mException\u001b[0m\u001b[1;33m(\u001b[0m\u001b[1;34m\"No has metido correctamente la lista\"\u001b[0m\u001b[1;33m)\u001b[0m\u001b[1;33m\u001b[0m\u001b[1;33m\u001b[0m\u001b[0m\n\u001b[0m\u001b[0;32m     23\u001b[0m \u001b[1;33m\u001b[0m\u001b[0m\n",
      "\u001b[1;31mException\u001b[0m: No has metido correctamente la lista"
     ]
    }
   ],
   "source": [
    "lista=[2,4,5,0]\n",
    "cuad_gauss.Integrate_List(lista)"
   ]
  },
  {
   "cell_type": "code",
   "execution_count": null,
   "metadata": {},
   "outputs": [],
   "source": []
  },
  {
   "cell_type": "code",
   "execution_count": null,
   "metadata": {},
   "outputs": [],
   "source": []
  },
  {
   "cell_type": "code",
   "execution_count": null,
   "metadata": {},
   "outputs": [],
   "source": []
  }
 ],
 "metadata": {
  "kernelspec": {
   "display_name": "Python 3",
   "language": "python",
   "name": "python3"
  },
  "language_info": {
   "codemirror_mode": {
    "name": "ipython",
    "version": 3
   },
   "file_extension": ".py",
   "mimetype": "text/x-python",
   "name": "python",
   "nbconvert_exporter": "python",
   "pygments_lexer": "ipython3",
   "version": "3.7.6"
  },
  "latex_envs": {
   "LaTeX_envs_menu_present": true,
   "autoclose": false,
   "autocomplete": true,
   "bibliofile": "biblio.bib",
   "cite_by": "apalike",
   "current_citInitial": 1,
   "eqLabelWithNumbers": true,
   "eqNumInitial": 1,
   "hotkeys": {
    "equation": "Ctrl-E",
    "itemize": "Ctrl-I"
   },
   "labels_anchors": false,
   "latex_user_defs": false,
   "report_style_numbering": false,
   "user_envs_cfg": false
  }
 },
 "nbformat": 4,
 "nbformat_minor": 2
}
