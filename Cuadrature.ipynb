{
 "cells": [
  {
   "cell_type": "code",
   "execution_count": 1,
   "metadata": {
    "ExecuteTime": {
     "end_time": "2022-04-17T16:48:07.209884Z",
     "start_time": "2022-04-17T16:47:56.518422Z"
    }
   },
   "outputs": [],
   "source": [
    "import numpy as np  \n",
    "import numpy.polynomial.legendre as npl\n",
    "import sympy as sp\n",
    "from scipy.special import legendre"
   ]
  },
  {
   "cell_type": "code",
   "execution_count": 2,
   "metadata": {
    "ExecuteTime": {
     "end_time": "2022-04-17T16:48:07.240694Z",
     "start_time": "2022-04-17T16:48:07.219757Z"
    }
   },
   "outputs": [],
   "source": [
    "def Transformation(nodes, weight,a,b):\n",
    "    nodes=(b-a)/2*nodes+(a+b)/2\n",
    "    weight=(b-a)/2 *weight\n",
    "    return (nodes,weight)"
   ]
  },
  {
   "cell_type": "code",
   "execution_count": 3,
   "metadata": {
    "ExecuteTime": {
     "end_time": "2022-04-17T16:48:07.917466Z",
     "start_time": "2022-04-17T16:48:07.253657Z"
    }
   },
   "outputs": [],
   "source": [
    "def chop(lista):\n",
    "    for i in range(len(lista)):\n",
    "        if(abs(lista[i])<(10**(-10))):\n",
    "            lista[i]=0\n",
    "    return lista"
   ]
  },
  {
   "cell_type": "code",
   "execution_count": 3,
   "metadata": {
    "ExecuteTime": {
     "end_time": "2022-04-04T09:08:20.780905Z",
     "start_time": "2022-04-04T09:08:20.767948Z"
    }
   },
   "outputs": [],
   "source": [
    "def Derivate(f,nodes):\n",
    "    d=np.zeros(len(nodes))\n",
    "    for i in range(0,len(nodes)):\n",
    "        if i==0:\n",
    "            d[i]=(f(nodes[i+1])-f(nodes[i]))/(nodes[i+1]-nodes[i])\n",
    "        elif i==(len(nodes)-1):\n",
    "            d[i]=(f(nodes[i])-f(nodes[i-1]))/(nodes[i]-nodes[i-1])\n",
    "        else:\n",
    "            d[i]=(f(nodes[i+1])-f(nodes[i-1]))/(nodes[i+1]-nodes[i-1])\n",
    "    return d"
   ]
  },
  {
   "cell_type": "markdown",
   "metadata": {},
   "source": [
    "Probando que funciona la Derivada por la definición de $\\frac{f(x+h)-f(x)}{h}$"
   ]
  },
  {
   "cell_type": "code",
   "execution_count": 4,
   "metadata": {
    "ExecuteTime": {
     "end_time": "2022-04-04T09:08:24.311747Z",
     "start_time": "2022-04-04T09:08:24.290511Z"
    }
   },
   "outputs": [
    {
     "data": {
      "text/plain": [
       "array([0.1 , 0.2 , 0.35, 0.5 , 0.55])"
      ]
     },
     "execution_count": 4,
     "metadata": {},
     "output_type": "execute_result"
    }
   ],
   "source": [
    "f= lambda x: x**2\n",
    "nodes=[0,0.1,0.2,0.25,0.3]\n",
    "\n",
    "Derivate(f,nodes)"
   ]
  },
  {
   "cell_type": "code",
   "execution_count": 17,
   "metadata": {
    "ExecuteTime": {
     "end_time": "2022-04-17T16:54:40.841993Z",
     "start_time": "2022-04-17T16:54:40.805094Z"
    }
   },
   "outputs": [],
   "source": [
    "N=4\n",
    "x = sp.symbols('x')\n",
    "Ln = lambda x:chop(legendre(4))(x)\n",
    "Lnp= lambda x:chop(legendre(4)).deriv()(x)\n",
    "xvals = np.linspace(-1,1,N+1)\n",
    "\n",
    "phi0 = lambda x: sp.simplify(((-1)/(N*(N+1)))*((1-x**2)*(Lnp(x))/((x-xvals[[0]])*(Ln(xvals)[[0]]))))\n",
    "difphi0 = lambda x: sp.simplify(sp.diff(phi0(x)))\n",
    "difphi0 = lambda x: 3.5*x**3-2.625*x**2-0.75*x+0.375\n",
    "\n",
    "phi1 = lambda x: sp.simplify(((-1)/(N*(N+1)))*((1-x**2)*(Lnp(x))/((x-xvals[[1]])*(Ln(xvals)[[1]]))))\n",
    "difphi1 = lambda x: sp.simplify(sp.diff(phi1(x)))\n",
    "difphi1 = lambda x: (-3.5*x**5-2.1875*x**4+2.5*x**3+1.875*x**2-0.1875)/(0.2890625*x**2+0.2890625*x+0.072265625)\n",
    "\n",
    "phi2 = lambda x: sp.simplify(((-1)/(N*(N+1)))*((1-x**2)*(Lnp(x))/((x-xvals[[2]])*(Ln(xvals)[[2]]))))\n",
    "difphi2 = lambda x: sp.simplify(sp.diff(phi2(x)))\n",
    "difphi2 = lambda x: x*(9.33333333333333*x**2-6.66666666666667)\n",
    "\n",
    "phi3 = lambda x: sp.simplify(((-1)/(N*(N+1)))*((1-x**2)*(Lnp(x))/((x-xvals[[3]])*(Ln(xvals)[[3]]))))\n",
    "difphi3 = lambda x: sp.simplify(sp.diff(phi3(x)))\n",
    "difphi3 = lambda x: (-3.5*x**5+2.1875*x**4+2.5*x**3-1.875*x**2+0.1875)/(0.2890625*x**2-0.2890625*x+0.072265625)\n",
    "\n",
    "phi4 = lambda x: sp.simplify(((-1)/(N*(N+1)))*((1-x**2)*(Lnp(x))/((x-xvals[[4]])*(Ln(xvals)[[4]]))))\n",
    "difphi4 = lambda x: sp.simplify(sp.diff(phi4(x)))\n",
    "difphi4 = lambda x: 3.5*x**3+2.625*x**2-0.75*x-0.375"
   ]
  },
  {
   "cell_type": "markdown",
   "metadata": {},
   "source": [
    "## Hay problemas con los infinitos"
   ]
  },
  {
   "cell_type": "code",
   "execution_count": 22,
   "metadata": {
    "ExecuteTime": {
     "end_time": "2022-04-17T16:55:34.581898Z",
     "start_time": "2022-04-17T16:55:34.573924Z"
    }
   },
   "outputs": [
    {
     "name": "stdout",
     "output_type": "stream",
     "text": [
      "[ 2.30630631 -1.2027027   2.59459459         inf -6.91891892] [-0.5      0.21875 -0.375    0.34375  5.     ]\n"
     ]
    },
    {
     "name": "stderr",
     "output_type": "stream",
     "text": [
      "C:\\Users\\isabe\\Desktop\\WPy64-3760\\python-3.7.6.amd64\\lib\\site-packages\\ipykernel_launcher.py:21: RuntimeWarning: divide by zero encountered in true_divide\n"
     ]
    }
   ],
   "source": [
    "print(difphi3(xvals),difphi4(xvals))"
   ]
  },
  {
   "cell_type": "code",
   "execution_count": 20,
   "metadata": {
    "ExecuteTime": {
     "end_time": "2022-04-17T16:55:08.455678Z",
     "start_time": "2022-04-17T16:55:08.417780Z"
    }
   },
   "outputs": [
    {
     "name": "stderr",
     "output_type": "stream",
     "text": [
      "C:\\Users\\isabe\\Desktop\\WPy64-3760\\python-3.7.6.amd64\\lib\\site-packages\\ipykernel_launcher.py:21: RuntimeWarning: divide by zero encountered in true_divide\n"
     ]
    },
    {
     "data": {
      "text/plain": [
       "array([ -1.15315315,  -0.26309122,  -0.97297297,          inf,\n",
       "       -34.59459459])"
      ]
     },
     "execution_count": 20,
     "metadata": {},
     "output_type": "execute_result"
    }
   ],
   "source": [
    "difphi4(xvals)*difphi3(xvals)"
   ]
  },
  {
   "cell_type": "code",
   "execution_count": null,
   "metadata": {},
   "outputs": [],
   "source": []
  },
  {
   "cell_type": "code",
   "execution_count": null,
   "metadata": {},
   "outputs": [],
   "source": []
  },
  {
   "cell_type": "code",
   "execution_count": 24,
   "metadata": {
    "ExecuteTime": {
     "end_time": "2022-04-17T16:57:48.757149Z",
     "start_time": "2022-04-17T16:57:48.742193Z"
    }
   },
   "outputs": [],
   "source": [
    "class Cuadrature:\n",
    "    def __init__(self,nodes=None,weight=None):\n",
    "        if(list(nodes)!=None):\n",
    "                self.nodes=nodes\n",
    "        if(list(weight)!=None):\n",
    "                self.weight=weight\n",
    "        \n",
    "    def getNodes(self):\n",
    "        return self.nodes\n",
    "    def getWeight(self):\n",
    "        return self.weight\n",
    "    def getNumPoints(self):\n",
    "        return len(self.nodes)\n",
    "    \n",
    "    def Integrate(self,f):\n",
    "        return self.Integrate_List(f(np.array(self.nodes)))\n",
    "    \n",
    "    def Integrate_List(self,lista):\n",
    "        if (len(lista)==len(self.weight)):\n",
    "            return np.array(lista).dot(np.array(self.weight))\n",
    "        else:\n",
    "            raise Exception(\"No has metido correctamente la lista\")"
   ]
  },
  {
   "cell_type": "markdown",
   "metadata": {},
   "source": [
    "Pasar todos los self.nodes y self.weight arriba poniendo num_points.\n",
    "\n",
    "Intentar integrar bien las funciones o su funcion derivada."
   ]
  },
  {
   "cell_type": "code",
   "execution_count": 25,
   "metadata": {
    "ExecuteTime": {
     "end_time": "2022-04-17T16:57:50.094899Z",
     "start_time": "2022-04-17T16:57:49.903090Z"
    }
   },
   "outputs": [],
   "source": [
    "class Legendre(Cuadrature):\n",
    "    def __init__(self,num_points,a,b):\n",
    "        Cuadrature.__init__(self,nodes=npl.leggauss(num_points)[0], weight=npl.leggauss(num_points)[1]) \n",
    "        self.nodes,self.weight=Transformation(self.nodes, self.weight, a, b)\n",
    "    def __str__(self):\n",
    "        return \"Nodos: %s \\nPesos: %s \" %(self.nodes,self.weight)"
   ]
  },
  {
   "cell_type": "code",
   "execution_count": 26,
   "metadata": {
    "ExecuteTime": {
     "end_time": "2022-04-17T16:57:51.241510Z",
     "start_time": "2022-04-17T16:57:50.417981Z"
    }
   },
   "outputs": [],
   "source": [
    "class Trapecio_Compuesto(Cuadrature): #están considerados los extremos(-1,1)\n",
    "    def __init__(self,num_points,a,b):\n",
    "        Cuadrature.__init__(self, nodes=np.array([*np.arange(-1,1,float(2/num_points)).tolist(),1]), weight=np.array([2/(2*num_points),*[2/num_points]*(num_points-1),2/(2*num_points)]))\n",
    "        self.nodes,self.weight=Transformation(self.nodes, self.weight, a, b)\n",
    "    def __str__(self):\n",
    "        return \"Nodos: %s \\nPesos: %s \" %(self.nodes,self.weight)"
   ]
  },
  {
   "cell_type": "code",
   "execution_count": 27,
   "metadata": {
    "ExecuteTime": {
     "end_time": "2022-04-17T16:57:51.632923Z",
     "start_time": "2022-04-17T16:57:51.251496Z"
    }
   },
   "outputs": [],
   "source": [
    "class Lobato(Cuadrature):\n",
    "    def __init__(self, num_points,a,b):\n",
    "        aux=[-1,*sorted(list(legendre(num_points).deriv().r)),1]\n",
    "        Cuadrature.__init__(self, nodes=np.array(aux), weight=np.array(2/(num_points*(num_points+1)*(legendre(num_points)(aux))**2)))\n",
    "        self.nodes,self.weight=Transformation(self.nodes, self.weight, a, b)\n",
    "    def __str__(self):\n",
    "        return \"Nodos: %s \\nPesos: %s \" %(self.nodes,self.weight)"
   ]
  },
  {
   "cell_type": "code",
   "execution_count": 29,
   "metadata": {
    "ExecuteTime": {
     "end_time": "2022-04-17T16:57:59.132472Z",
     "start_time": "2022-04-17T16:57:52.756307Z"
    }
   },
   "outputs": [
    {
     "name": "stdout",
     "output_type": "stream",
     "text": [
      "Nodos: [-0.77459667  0.          0.77459667] \n",
      "Pesos: [0.55555556 0.88888889 0.55555556] \n"
     ]
    }
   ],
   "source": [
    "print(Legendre(3,-1,1))"
   ]
  },
  {
   "cell_type": "code",
   "execution_count": 30,
   "metadata": {
    "ExecuteTime": {
     "end_time": "2022-04-17T16:58:00.028705Z",
     "start_time": "2022-04-17T16:57:59.136461Z"
    }
   },
   "outputs": [
    {
     "name": "stdout",
     "output_type": "stream",
     "text": [
      "Nodos: [0.338105 1.5      2.661895] \n",
      "Pesos: [0.83333333 1.33333333 0.83333333] \n"
     ]
    }
   ],
   "source": [
    "print(Legendre(3,0,3))"
   ]
  },
  {
   "cell_type": "code",
   "execution_count": 31,
   "metadata": {
    "ExecuteTime": {
     "end_time": "2022-04-17T16:58:00.726955Z",
     "start_time": "2022-04-17T16:58:00.034687Z"
    }
   },
   "outputs": [
    {
     "name": "stdout",
     "output_type": "stream",
     "text": [
      "Nodos: [0.  0.2 0.4 0.6 0.8 1. ] \n",
      "Pesos: [0.1 0.2 0.2 0.2 0.2 0.1] \n"
     ]
    }
   ],
   "source": [
    "print(Trapecio_Compuesto(5,0,1))"
   ]
  },
  {
   "cell_type": "code",
   "execution_count": 32,
   "metadata": {
    "ExecuteTime": {
     "end_time": "2022-04-17T16:58:03.184259Z",
     "start_time": "2022-04-17T16:58:00.741903Z"
    },
    "scrolled": true
   },
   "outputs": [
    {
     "name": "stdout",
     "output_type": "stream",
     "text": [
      "Nodos: [0.         1.38196601 3.61803399 5.        ] \n",
      "Pesos: [0.41666667 2.08333333 2.08333333 0.41666667] \n"
     ]
    }
   ],
   "source": [
    "print(Lobato(3,0,5))"
   ]
  },
  {
   "cell_type": "markdown",
   "metadata": {},
   "source": [
    "Veamos que integra correctamente:"
   ]
  },
  {
   "cell_type": "code",
   "execution_count": 42,
   "metadata": {
    "ExecuteTime": {
     "end_time": "2022-04-17T17:45:11.944624Z",
     "start_time": "2022-04-17T17:45:11.933257Z"
    }
   },
   "outputs": [
    {
     "data": {
      "text/plain": [
       "59.49999999999999"
      ]
     },
     "execution_count": 42,
     "metadata": {},
     "output_type": "execute_result"
    }
   ],
   "source": [
    "f= lambda x: (x**2+1)*(2*x+3)\n",
    "\n",
    "a=2\n",
    "b=3\n",
    "\n",
    "Legendre(10,a,b).Integrate(f)"
   ]
  },
  {
   "cell_type": "code",
   "execution_count": 43,
   "metadata": {
    "ExecuteTime": {
     "end_time": "2022-04-17T17:45:13.284772Z",
     "start_time": "2022-04-17T17:45:12.730994Z"
    }
   },
   "outputs": [
    {
     "data": {
      "text/plain": [
       "59.50000000000001"
      ]
     },
     "execution_count": 43,
     "metadata": {},
     "output_type": "execute_result"
    }
   ],
   "source": [
    "Lobato(3,a,b).Integrate(f)"
   ]
  },
  {
   "cell_type": "code",
   "execution_count": 46,
   "metadata": {
    "ExecuteTime": {
     "end_time": "2022-04-17T17:46:03.672728Z",
     "start_time": "2022-04-17T17:46:03.668340Z"
    }
   },
   "outputs": [],
   "source": [
    "xvals3 = np.linspace(a,b,4)"
   ]
  },
  {
   "cell_type": "code",
   "execution_count": 52,
   "metadata": {
    "ExecuteTime": {
     "end_time": "2022-04-17T17:47:17.702203Z",
     "start_time": "2022-04-17T17:47:17.690726Z"
    }
   },
   "outputs": [
    {
     "data": {
      "text/plain": [
       "59.162198819932584"
      ]
     },
     "execution_count": 52,
     "metadata": {},
     "output_type": "execute_result"
    }
   ],
   "source": [
    "Legendre(10,a,b).Integrate_List(f(np.linspace(a,b,10)))"
   ]
  },
  {
   "cell_type": "code",
   "execution_count": 56,
   "metadata": {
    "ExecuteTime": {
     "end_time": "2022-04-17T17:47:43.071068Z",
     "start_time": "2022-04-17T17:47:43.060538Z"
    }
   },
   "outputs": [
    {
     "data": {
      "text/plain": [
       "58.93094961484155"
      ]
     },
     "execution_count": 56,
     "metadata": {},
     "output_type": "execute_result"
    }
   ],
   "source": [
    "Lobato(10,a,b).Integrate_List(f(np.linspace(a,b,11)))"
   ]
  },
  {
   "cell_type": "code",
   "execution_count": null,
   "metadata": {},
   "outputs": [],
   "source": []
  },
  {
   "cell_type": "code",
   "execution_count": null,
   "metadata": {},
   "outputs": [],
   "source": []
  },
  {
   "cell_type": "markdown",
   "metadata": {},
   "source": [
    "Para cada l = 1...m siendo m intervalos (m=5):\n",
    "\n",
    "Vamos a construir la matriz local:\n",
    "\n",
    "Para cada i=0..p (p=4)\n",
    "    \n",
    "  Para cada j=0...p\n",
    "    \n",
    "   ($A_l)_{ij}=\\sum_{q=1}^{Nq} w_q J_{x_l}(x_q) \\varphi_i'(x_q)\\varphi_j'(x_q)$\n",
    "   (Nq=8)"
   ]
  },
  {
   "cell_type": "code",
   "execution_count": null,
   "metadata": {},
   "outputs": [],
   "source": [
    "m=5\n",
    "intervals=np.linspace(-1,1,m+1)"
   ]
  },
  {
   "cell_type": "code",
   "execution_count": 77,
   "metadata": {
    "ExecuteTime": {
     "end_time": "2022-04-17T22:27:31.838242Z",
     "start_time": "2022-04-17T22:27:31.804286Z"
    }
   },
   "outputs": [],
   "source": [
    "def Matriz_Local(m,p,Nq,num_interval):\n",
    "    \n",
    "    intervals=np.linspace(-1,1,m+1)\n",
    "    A=np.zeros((p+1, p+1))\n",
    "    a=intervals[num_interval-1]\n",
    "    b=intervals[num_interval]\n",
    "    xvals2=np.linspace(a,b,Nq)\n",
    "    \n",
    "    A[0][0]=Lobato(Nq-1,a,b).Integrate_List(difphi0(xvals2)*difphi0(xvals2))\n",
    "    A[0][1]=Lobato(Nq-1,a,b).Integrate_List(difphi0(xvals2)*difphi1(xvals2))\n",
    "    A[0][2]=Lobato(Nq-1,a,b).Integrate_List(difphi0(xvals2)*difphi2(xvals2))\n",
    "    A[0][3]=Lobato(Nq-1,a,b).Integrate_List(difphi0(xvals2)*difphi3(xvals2))\n",
    "    A[0][4]=Lobato(Nq-1,a,b).Integrate_List(difphi0(xvals2)*difphi4(xvals2))\n",
    "\n",
    "    A[1][0]=Lobato(Nq-1,a,b).Integrate_List(difphi1(xvals2)*difphi0(xvals2))\n",
    "    A[1][1]=Lobato(Nq-1,a,b).Integrate_List(difphi1(xvals2)*difphi1(xvals2))\n",
    "    A[1][2]=Lobato(Nq-1,a,b).Integrate_List(difphi1(xvals2)*difphi2(xvals2))\n",
    "    A[1][3]=Lobato(Nq-1,a,b).Integrate_List(difphi1(xvals2)*difphi3(xvals2))\n",
    "    A[1][4]=Lobato(Nq-1,a,b).Integrate_List(difphi1(xvals2)*difphi4(xvals2))\n",
    "\n",
    "    A[2][0]=Lobato(Nq-1,a,b).Integrate_List(difphi2(xvals2)*difphi0(xvals2))\n",
    "    A[2][1]=Lobato(Nq-1,a,b).Integrate_List(difphi2(xvals2)*difphi1(xvals2))\n",
    "    A[2][2]=Lobato(Nq-1,a,b).Integrate_List(difphi2(xvals2)*difphi2(xvals2))\n",
    "    A[2][3]=Lobato(Nq-1,a,b).Integrate_List(difphi2(xvals2)*difphi3(xvals2))\n",
    "    A[2][4]=Lobato(Nq-1,a,b).Integrate_List(difphi2(xvals2)*difphi4(xvals2))\n",
    "\n",
    "    A[3][0]=Lobato(Nq-1,a,b).Integrate_List(difphi3(xvals2)*difphi0(xvals2))\n",
    "    A[3][1]=Lobato(Nq-1,a,b).Integrate_List(difphi3(xvals2)*difphi1(xvals2))\n",
    "    A[3][2]=Lobato(Nq-1,a,b).Integrate_List(difphi3(xvals2)*difphi2(xvals2))\n",
    "    A[3][3]=Lobato(Nq-1,a,b).Integrate_List(difphi3(xvals2)*difphi3(xvals2))\n",
    "    A[3][4]=Lobato(Nq-1,a,b).Integrate_List(difphi3(xvals2)*difphi4(xvals2))\n",
    "\n",
    "    A[4][0]=Lobato(Nq-1,a,b).Integrate_List(difphi4(xvals2)*difphi0(xvals2))\n",
    "    A[4][1]=Lobato(Nq-1,a,b).Integrate_List(difphi4(xvals2)*difphi1(xvals2))\n",
    "    A[4][2]=Lobato(Nq-1,a,b).Integrate_List(difphi4(xvals2)*difphi2(xvals2))\n",
    "    A[4][3]=Lobato(Nq-1,a,b).Integrate_List(difphi4(xvals2)*difphi3(xvals2))\n",
    "    A[4][4]=Lobato(Nq-1,a,b).Integrate_List(difphi4(xvals2)*difphi4(xvals2))\n",
    "    \n",
    "    return A"
   ]
  },
  {
   "cell_type": "code",
   "execution_count": 84,
   "metadata": {
    "ExecuteTime": {
     "end_time": "2022-04-17T22:33:27.687634Z",
     "start_time": "2022-04-17T22:33:27.471319Z"
    }
   },
   "outputs": [],
   "source": [
    "A1=Matriz_Local(7,4,3,1) #m=7 intervalos dentro del (-1,1)\n",
    "A2=Matriz_Local(7,4,3,2) #las phi siguen siendo del 0 al 4 (5) grados de libertad\n",
    "A3=Matriz_Local(7,4,3,3) #Consideramos 3 nodos de cuadratura\n",
    "A4=Matriz_Local(7,4,3,4)\n",
    "A5=Matriz_Local(7,4,3,5)\n",
    "A6=Matriz_Local(7,4,3,6)\n",
    "A7=Matriz_Local(7,4,3,7)"
   ]
  },
  {
   "cell_type": "code",
   "execution_count": 85,
   "metadata": {
    "ExecuteTime": {
     "end_time": "2022-04-17T22:33:54.128721Z",
     "start_time": "2022-04-17T22:33:31.155414Z"
    }
   },
   "outputs": [
    {
     "data": {
      "text/plain": [
       "array([[ 3.17674803, -2.15023291,  0.6213813 , -0.50130904,  0.10537152],\n",
       "       [-2.15023291,  3.68491396, -1.22016217,  1.01330519, -0.21568762],\n",
       "       [ 0.6213813 , -1.22016217,  0.43184828, -0.36487401,  0.07827426],\n",
       "       [-0.50130904,  1.01330519, -0.36487401,  0.30961424, -0.06654742],\n",
       "       [ 0.10537152, -0.21568762,  0.07827426, -0.06654742,  0.01431571]])"
      ]
     },
     "execution_count": 85,
     "metadata": {},
     "output_type": "execute_result"
    }
   ],
   "source": [
    "A1"
   ]
  },
  {
   "cell_type": "code",
   "execution_count": null,
   "metadata": {},
   "outputs": [],
   "source": []
  },
  {
   "cell_type": "code",
   "execution_count": null,
   "metadata": {},
   "outputs": [],
   "source": []
  },
  {
   "cell_type": "code",
   "execution_count": null,
   "metadata": {},
   "outputs": [],
   "source": []
  },
  {
   "cell_type": "code",
   "execution_count": null,
   "metadata": {},
   "outputs": [],
   "source": []
  },
  {
   "cell_type": "code",
   "execution_count": null,
   "metadata": {},
   "outputs": [],
   "source": []
  },
  {
   "cell_type": "code",
   "execution_count": null,
   "metadata": {},
   "outputs": [],
   "source": []
  },
  {
   "cell_type": "code",
   "execution_count": null,
   "metadata": {},
   "outputs": [],
   "source": []
  },
  {
   "cell_type": "code",
   "execution_count": 76,
   "metadata": {
    "ExecuteTime": {
     "end_time": "2022-04-17T18:02:19.029497Z",
     "start_time": "2022-04-17T18:02:18.921303Z"
    }
   },
   "outputs": [
    {
     "data": {
      "text/plain": [
       "array([[ 3.05003153e+00, -2.69366332e-01,  3.42020675e-02,\n",
       "        -1.19744778e-02,  9.45263963e-04],\n",
       "       [-2.69366332e-01,  1.04939086e+01, -2.06459147e+00,\n",
       "         1.58248311e+00, -3.25235027e-01],\n",
       "       [ 3.42020675e-02, -2.06459147e+00,  5.18781471e-01,\n",
       "        -4.11821518e-01,  8.58805375e-02],\n",
       "       [-1.19744778e-02,  1.58248311e+00, -4.11821518e-01,\n",
       "         3.28833285e-01, -6.87467329e-02],\n",
       "       [ 9.45263963e-04, -3.25235027e-01,  8.58805375e-02,\n",
       "        -6.87467329e-02,  1.43879501e-02]])"
      ]
     },
     "execution_count": 76,
     "metadata": {},
     "output_type": "execute_result"
    }
   ],
   "source": [
    "p=4\n",
    "A1 = np.zeros((p+1, p+1))\n",
    "\n",
    "Nq=8\n",
    "a=intervals[0]\n",
    "b=intervals[1]\n",
    "xvals2=np.linspace(a,b,8)\n",
    "A1[0][0]=Lobato(7,a,b).Integrate_List(difphi0(xvals2)*difphi0(xvals2))\n",
    "A1[0][1]=Lobato(7,a,b).Integrate_List(difphi0(xvals2)*difphi1(xvals2))\n",
    "A1[0][2]=Lobato(7,a,b).Integrate_List(difphi0(xvals2)*difphi2(xvals2))\n",
    "A1[0][3]=Lobato(7,a,b).Integrate_List(difphi0(xvals2)*difphi3(xvals2))\n",
    "A1[0][4]=Lobato(7,a,b).Integrate_List(difphi0(xvals2)*difphi4(xvals2))\n",
    "\n",
    "A1[1][0]=Lobato(7,a,b).Integrate_List(difphi1(xvals2)*difphi0(xvals2))\n",
    "A1[1][1]=Lobato(7,a,b).Integrate_List(difphi1(xvals2)*difphi1(xvals2))\n",
    "A1[1][2]=Lobato(7,a,b).Integrate_List(difphi1(xvals2)*difphi2(xvals2))\n",
    "A1[1][3]=Lobato(7,a,b).Integrate_List(difphi1(xvals2)*difphi3(xvals2))\n",
    "A1[1][4]=Lobato(7,a,b).Integrate_List(difphi1(xvals2)*difphi4(xvals2))\n",
    "\n",
    "A1[2][0]=Lobato(7,a,b).Integrate_List(difphi2(xvals2)*difphi0(xvals2))\n",
    "A1[2][1]=Lobato(7,a,b).Integrate_List(difphi2(xvals2)*difphi1(xvals2))\n",
    "A1[2][2]=Lobato(7,a,b).Integrate_List(difphi2(xvals2)*difphi2(xvals2))\n",
    "A1[2][3]=Lobato(7,a,b).Integrate_List(difphi2(xvals2)*difphi3(xvals2))\n",
    "A1[2][4]=Lobato(7,a,b).Integrate_List(difphi2(xvals2)*difphi4(xvals2))\n",
    "\n",
    "A1[3][0]=Lobato(7,a,b).Integrate_List(difphi3(xvals2)*difphi0(xvals2))\n",
    "A1[3][1]=Lobato(7,a,b).Integrate_List(difphi3(xvals2)*difphi1(xvals2))\n",
    "A1[3][2]=Lobato(7,a,b).Integrate_List(difphi3(xvals2)*difphi2(xvals2))\n",
    "A1[3][3]=Lobato(7,a,b).Integrate_List(difphi3(xvals2)*difphi3(xvals2))\n",
    "A1[3][4]=Lobato(7,a,b).Integrate_List(difphi3(xvals2)*difphi4(xvals2))\n",
    "\n",
    "A1[4][0]=Lobato(7,a,b).Integrate_List(difphi4(xvals2)*difphi0(xvals2))\n",
    "A1[4][1]=Lobato(7,a,b).Integrate_List(difphi4(xvals2)*difphi1(xvals2))\n",
    "A1[4][2]=Lobato(7,a,b).Integrate_List(difphi4(xvals2)*difphi2(xvals2))\n",
    "A1[4][3]=Lobato(7,a,b).Integrate_List(difphi4(xvals2)*difphi3(xvals2))\n",
    "A1[4][4]=Lobato(7,a,b).Integrate_List(difphi4(xvals2)*difphi4(xvals2))\n",
    "\n",
    "A1"
   ]
  },
  {
   "cell_type": "code",
   "execution_count": null,
   "metadata": {},
   "outputs": [],
   "source": []
  },
  {
   "cell_type": "code",
   "execution_count": null,
   "metadata": {},
   "outputs": [],
   "source": []
  },
  {
   "cell_type": "code",
   "execution_count": null,
   "metadata": {},
   "outputs": [],
   "source": []
  },
  {
   "cell_type": "markdown",
   "metadata": {},
   "source": [
    "# Pasos que he seguido a la hora de construir las clases"
   ]
  },
  {
   "cell_type": "markdown",
   "metadata": {},
   "source": [
    "## Legendre:\n",
    "Los nodos y pesos de Legendre se obtienen directamente con la función"
   ]
  },
  {
   "cell_type": "code",
   "execution_count": 17,
   "metadata": {
    "ExecuteTime": {
     "end_time": "2022-03-20T16:55:53.255622Z",
     "start_time": "2022-03-20T16:55:53.245651Z"
    }
   },
   "outputs": [
    {
     "data": {
      "text/plain": [
       "(array([-0.77459667,  0.        ,  0.77459667]),\n",
       " array([0.55555556, 0.88888889, 0.55555556]))"
      ]
     },
     "execution_count": 17,
     "metadata": {},
     "output_type": "execute_result"
    }
   ],
   "source": [
    "npl.leggauss(3)"
   ]
  },
  {
   "cell_type": "markdown",
   "metadata": {},
   "source": [
    "## Lobato:\n",
    "En la fórmula de Gauss_Lobato los nodos interiores son los ceros de la derivada del polinomio de Legendre $L_N'(x_i)=0$ y los pesos los he sacado de la fórmula del libro de Quarteroni."
   ]
  },
  {
   "cell_type": "code",
   "execution_count": 41,
   "metadata": {
    "ExecuteTime": {
     "end_time": "2022-03-28T08:46:05.575437Z",
     "start_time": "2022-03-28T08:46:05.565716Z"
    }
   },
   "outputs": [
    {
     "name": "stdout",
     "output_type": "stream",
     "text": [
      "[-1, 0.0, 1] [0.33333333 1.33333333 0.33333333]\n"
     ]
    }
   ],
   "source": [
    "n=2 #son n+1 puntos en total del x_0 al x_n\n",
    "\n",
    "interior=legendre(n).deriv().r\n",
    "nodos=[-1,*sorted(list(interior)),1]\n",
    "\n",
    "pesos=2/(n*(n+1)*(legendre(n)(nodos))**2)\n",
    "\n",
    "print(nodos,pesos)"
   ]
  },
  {
   "cell_type": "code",
   "execution_count": 43,
   "metadata": {
    "ExecuteTime": {
     "end_time": "2022-03-28T08:46:20.620530Z",
     "start_time": "2022-03-28T08:46:20.614161Z"
    }
   },
   "outputs": [
    {
     "data": {
      "text/plain": [
       "array([-1.,  0.,  1.])"
      ]
     },
     "execution_count": 43,
     "metadata": {},
     "output_type": "execute_result"
    }
   ],
   "source": [
    "legendre(3)(nodos)"
   ]
  },
  {
   "cell_type": "code",
   "execution_count": 22,
   "metadata": {
    "ExecuteTime": {
     "end_time": "2022-03-27T23:48:53.793496Z",
     "start_time": "2022-03-27T23:48:53.785655Z"
    }
   },
   "outputs": [
    {
     "data": {
      "text/plain": [
       "array([ 1. , -0.5,  1. ])"
      ]
     },
     "execution_count": 22,
     "metadata": {},
     "output_type": "execute_result"
    }
   ],
   "source": [
    "legendre(n)(nodos)"
   ]
  },
  {
   "cell_type": "markdown",
   "metadata": {},
   "source": [
    "## Trapecios Compuestos:\n",
    "En la fórmula de los trapecios he considerado el intervalo $(-1,1)$ en $n$ intervalos, de modo que tengo $n+1$ puntos, el incremento y por tanto h es, $h=\\frac{b-a}n$ y los pesos en los extremos son $\\frac h 2$ y en los nodos interiores $h$."
   ]
  },
  {
   "cell_type": "code",
   "execution_count": 19,
   "metadata": {
    "ExecuteTime": {
     "end_time": "2022-03-20T16:55:55.851648Z",
     "start_time": "2022-03-20T16:55:55.842675Z"
    }
   },
   "outputs": [
    {
     "data": {
      "text/plain": [
       "[-1.0,\n",
       " -0.6666666666666667,\n",
       " -0.3333333333333335,\n",
       " -2.220446049250313e-16,\n",
       " 0.33333333333333304,\n",
       " 0.6666666666666663,\n",
       " 1]"
      ]
     },
     "execution_count": 19,
     "metadata": {},
     "output_type": "execute_result"
    }
   ],
   "source": [
    "a,b=-1,1\n",
    "n=6\n",
    "[*np.arange(-1,1,float((b-a)/n)).tolist(),1] #nodos en Trapecios"
   ]
  },
  {
   "cell_type": "code",
   "execution_count": 20,
   "metadata": {
    "ExecuteTime": {
     "end_time": "2022-03-20T16:55:56.534049Z",
     "start_time": "2022-03-20T16:55:56.388653Z"
    }
   },
   "outputs": [
    {
     "data": {
      "text/plain": [
       "[0.16666666666666666,\n",
       " 0.3333333333333333,\n",
       " 0.3333333333333333,\n",
       " 0.3333333333333333,\n",
       " 0.3333333333333333,\n",
       " 0.3333333333333333,\n",
       " 0.16666666666666666]"
      ]
     },
     "execution_count": 20,
     "metadata": {},
     "output_type": "execute_result"
    }
   ],
   "source": [
    "n=6 #x_0,...x_6 7 puntos\n",
    "[2/(2*n),*[2/n]*(n-1),2/(2*n)] #pesos en Trapecios"
   ]
  },
  {
   "cell_type": "code",
   "execution_count": null,
   "metadata": {},
   "outputs": [],
   "source": []
  },
  {
   "cell_type": "markdown",
   "metadata": {},
   "source": [
    "## Con Dani y Rafa Lunes 14 Marzo"
   ]
  },
  {
   "cell_type": "code",
   "execution_count": 21,
   "metadata": {
    "ExecuteTime": {
     "end_time": "2022-03-20T16:55:57.918703Z",
     "start_time": "2022-03-20T16:55:57.906719Z"
    }
   },
   "outputs": [],
   "source": [
    "class Cuadrature:\n",
    "    def __init__(self,nodes=None,weight=None,num_points=None):\n",
    "        if (nodes!=None and weight!=None):\n",
    "            self.nodes = nodes\n",
    "            self.weight = weight\n",
    "            print(self.nodes,self.weight)\n",
    "        elif(num_points!=None):\n",
    "            self.nodes, self.weight= npl.leggauss(num_points)\n",
    "            print(self.nodes,self.weight)\n",
    "        else:\n",
    "            raise Exception(\"No has metido correctamente los parámetros en la clase\")\n",
    "    def getNodes(self):\n",
    "        return self.nodes\n",
    "    def getWeight(self):\n",
    "        return self.weight\n",
    "    def Integrate(self,f):\n",
    "        return self.Integrate_List(f(np.array(self.nodes)))\n",
    "    def Integrate_List(self,lista):\n",
    "        if (len(lista)==len(self.weight)):\n",
    "            return np.array(lista).dot(np.array(self.weight))\n",
    "        else:\n",
    "            raise Exception(\"No has metido correctamente la lista\")\n",
    "        "
   ]
  },
  {
   "cell_type": "code",
   "execution_count": 22,
   "metadata": {
    "ExecuteTime": {
     "end_time": "2022-03-20T16:55:58.923822Z",
     "start_time": "2022-03-20T16:55:58.397353Z"
    }
   },
   "outputs": [
    {
     "ename": "Exception",
     "evalue": "No has metido correctamente los parámetros en la clase",
     "output_type": "error",
     "traceback": [
      "\u001b[1;31m---------------------------------------------------------------------------\u001b[0m",
      "\u001b[1;31mException\u001b[0m                                 Traceback (most recent call last)",
      "\u001b[1;32m<ipython-input-22-44296fb4d876>\u001b[0m in \u001b[0;36m<module>\u001b[1;34m\u001b[0m\n\u001b[1;32m----> 1\u001b[1;33m \u001b[0mCuadrature\u001b[0m\u001b[1;33m(\u001b[0m\u001b[1;36m4\u001b[0m\u001b[1;33m)\u001b[0m\u001b[1;33m\u001b[0m\u001b[1;33m\u001b[0m\u001b[0m\n\u001b[0m",
      "\u001b[1;32m<ipython-input-21-c34c1944001e>\u001b[0m in \u001b[0;36m__init__\u001b[1;34m(self, nodes, weight, num_points)\u001b[0m\n\u001b[0;32m      9\u001b[0m             \u001b[0mprint\u001b[0m\u001b[1;33m(\u001b[0m\u001b[0mself\u001b[0m\u001b[1;33m.\u001b[0m\u001b[0mnodes\u001b[0m\u001b[1;33m,\u001b[0m\u001b[0mself\u001b[0m\u001b[1;33m.\u001b[0m\u001b[0mweight\u001b[0m\u001b[1;33m)\u001b[0m\u001b[1;33m\u001b[0m\u001b[1;33m\u001b[0m\u001b[0m\n\u001b[0;32m     10\u001b[0m         \u001b[1;32melse\u001b[0m\u001b[1;33m:\u001b[0m\u001b[1;33m\u001b[0m\u001b[1;33m\u001b[0m\u001b[0m\n\u001b[1;32m---> 11\u001b[1;33m             \u001b[1;32mraise\u001b[0m \u001b[0mException\u001b[0m\u001b[1;33m(\u001b[0m\u001b[1;34m\"No has metido correctamente los parámetros en la clase\"\u001b[0m\u001b[1;33m)\u001b[0m\u001b[1;33m\u001b[0m\u001b[1;33m\u001b[0m\u001b[0m\n\u001b[0m\u001b[0;32m     12\u001b[0m     \u001b[1;32mdef\u001b[0m \u001b[0mgetNodes\u001b[0m\u001b[1;33m(\u001b[0m\u001b[0mself\u001b[0m\u001b[1;33m)\u001b[0m\u001b[1;33m:\u001b[0m\u001b[1;33m\u001b[0m\u001b[1;33m\u001b[0m\u001b[0m\n\u001b[0;32m     13\u001b[0m         \u001b[1;32mreturn\u001b[0m \u001b[0mself\u001b[0m\u001b[1;33m.\u001b[0m\u001b[0mnodes\u001b[0m\u001b[1;33m\u001b[0m\u001b[1;33m\u001b[0m\u001b[0m\n",
      "\u001b[1;31mException\u001b[0m: No has metido correctamente los parámetros en la clase"
     ]
    }
   ],
   "source": [
    "Cuadrature(4)"
   ]
  },
  {
   "cell_type": "code",
   "execution_count": 25,
   "metadata": {
    "ExecuteTime": {
     "end_time": "2022-03-20T16:56:06.130694Z",
     "start_time": "2022-03-20T16:56:06.123715Z"
    },
    "scrolled": true
   },
   "outputs": [
    {
     "name": "stdout",
     "output_type": "stream",
     "text": [
      "[-0.93246951 -0.66120939 -0.23861919  0.23861919  0.66120939  0.93246951] [0.17132449 0.36076157 0.46791393 0.46791393 0.36076157 0.17132449]\n"
     ]
    }
   ],
   "source": [
    "cuad_gauss=Cuadrature(num_points=6)"
   ]
  },
  {
   "cell_type": "code",
   "execution_count": 26,
   "metadata": {
    "ExecuteTime": {
     "end_time": "2022-03-20T16:56:07.395849Z",
     "start_time": "2022-03-20T16:56:07.387869Z"
    }
   },
   "outputs": [
    {
     "data": {
      "text/plain": [
       "0.18181818181818124"
      ]
     },
     "execution_count": 26,
     "metadata": {},
     "output_type": "execute_result"
    }
   ],
   "source": [
    "f= lambda x: x**10\n",
    "cuad_gauss.Integrate(f)"
   ]
  },
  {
   "cell_type": "code",
   "execution_count": 27,
   "metadata": {
    "ExecuteTime": {
     "end_time": "2022-03-20T16:56:08.379016Z",
     "start_time": "2022-03-20T16:56:08.351572Z"
    }
   },
   "outputs": [
    {
     "ename": "Exception",
     "evalue": "No has metido correctamente la lista",
     "output_type": "error",
     "traceback": [
      "\u001b[1;31m---------------------------------------------------------------------------\u001b[0m",
      "\u001b[1;31mException\u001b[0m                                 Traceback (most recent call last)",
      "\u001b[1;32m<ipython-input-27-938dde4e908f>\u001b[0m in \u001b[0;36m<module>\u001b[1;34m\u001b[0m\n\u001b[0;32m      1\u001b[0m \u001b[0mlista\u001b[0m\u001b[1;33m=\u001b[0m\u001b[1;33m[\u001b[0m\u001b[1;36m2\u001b[0m\u001b[1;33m,\u001b[0m\u001b[1;36m4\u001b[0m\u001b[1;33m,\u001b[0m\u001b[1;36m5\u001b[0m\u001b[1;33m,\u001b[0m\u001b[1;36m0\u001b[0m\u001b[1;33m]\u001b[0m\u001b[1;33m\u001b[0m\u001b[1;33m\u001b[0m\u001b[0m\n\u001b[1;32m----> 2\u001b[1;33m \u001b[0mcuad_gauss\u001b[0m\u001b[1;33m.\u001b[0m\u001b[0mIntegrate_List\u001b[0m\u001b[1;33m(\u001b[0m\u001b[0mlista\u001b[0m\u001b[1;33m)\u001b[0m\u001b[1;33m\u001b[0m\u001b[1;33m\u001b[0m\u001b[0m\n\u001b[0m",
      "\u001b[1;32m<ipython-input-21-c34c1944001e>\u001b[0m in \u001b[0;36mIntegrate_List\u001b[1;34m(self, lista)\u001b[0m\n\u001b[0;32m     20\u001b[0m             \u001b[1;32mreturn\u001b[0m \u001b[0mnp\u001b[0m\u001b[1;33m.\u001b[0m\u001b[0marray\u001b[0m\u001b[1;33m(\u001b[0m\u001b[0mlista\u001b[0m\u001b[1;33m)\u001b[0m\u001b[1;33m.\u001b[0m\u001b[0mdot\u001b[0m\u001b[1;33m(\u001b[0m\u001b[0mnp\u001b[0m\u001b[1;33m.\u001b[0m\u001b[0marray\u001b[0m\u001b[1;33m(\u001b[0m\u001b[0mself\u001b[0m\u001b[1;33m.\u001b[0m\u001b[0mweight\u001b[0m\u001b[1;33m)\u001b[0m\u001b[1;33m)\u001b[0m\u001b[1;33m\u001b[0m\u001b[1;33m\u001b[0m\u001b[0m\n\u001b[0;32m     21\u001b[0m         \u001b[1;32melse\u001b[0m\u001b[1;33m:\u001b[0m\u001b[1;33m\u001b[0m\u001b[1;33m\u001b[0m\u001b[0m\n\u001b[1;32m---> 22\u001b[1;33m             \u001b[1;32mraise\u001b[0m \u001b[0mException\u001b[0m\u001b[1;33m(\u001b[0m\u001b[1;34m\"No has metido correctamente la lista\"\u001b[0m\u001b[1;33m)\u001b[0m\u001b[1;33m\u001b[0m\u001b[1;33m\u001b[0m\u001b[0m\n\u001b[0m\u001b[0;32m     23\u001b[0m \u001b[1;33m\u001b[0m\u001b[0m\n",
      "\u001b[1;31mException\u001b[0m: No has metido correctamente la lista"
     ]
    }
   ],
   "source": [
    "lista=[2,4,5,0]\n",
    "cuad_gauss.Integrate_List(lista)"
   ]
  },
  {
   "cell_type": "code",
   "execution_count": null,
   "metadata": {},
   "outputs": [],
   "source": []
  },
  {
   "cell_type": "code",
   "execution_count": null,
   "metadata": {},
   "outputs": [],
   "source": []
  },
  {
   "cell_type": "code",
   "execution_count": null,
   "metadata": {},
   "outputs": [],
   "source": []
  }
 ],
 "metadata": {
  "kernelspec": {
   "display_name": "Python 3",
   "language": "python",
   "name": "python3"
  },
  "language_info": {
   "codemirror_mode": {
    "name": "ipython",
    "version": 3
   },
   "file_extension": ".py",
   "mimetype": "text/x-python",
   "name": "python",
   "nbconvert_exporter": "python",
   "pygments_lexer": "ipython3",
   "version": "3.7.6"
  },
  "latex_envs": {
   "LaTeX_envs_menu_present": true,
   "autoclose": false,
   "autocomplete": true,
   "bibliofile": "biblio.bib",
   "cite_by": "apalike",
   "current_citInitial": 1,
   "eqLabelWithNumbers": true,
   "eqNumInitial": 1,
   "hotkeys": {
    "equation": "Ctrl-E",
    "itemize": "Ctrl-I"
   },
   "labels_anchors": false,
   "latex_user_defs": false,
   "report_style_numbering": false,
   "user_envs_cfg": false
  }
 },
 "nbformat": 4,
 "nbformat_minor": 2
}
