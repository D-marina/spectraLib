{
 "cells": [
  {
   "cell_type": "code",
   "execution_count": 1,
   "metadata": {
    "ExecuteTime": {
     "end_time": "2022-03-20T16:55:12.079650Z",
     "start_time": "2022-03-20T16:55:10.845952Z"
    }
   },
   "outputs": [],
   "source": [
    "import numpy as np  \n",
    "import numpy.polynomial.legendre as npl\n",
    "import sympy as sp\n",
    "from scipy.special import legendre"
   ]
  },
  {
   "cell_type": "code",
   "execution_count": 2,
   "metadata": {
    "ExecuteTime": {
     "end_time": "2022-03-20T16:55:14.268746Z",
     "start_time": "2022-03-20T16:55:14.255778Z"
    }
   },
   "outputs": [],
   "source": [
    "class Cuadrature:\n",
    "    def __init__(self,num_points,nodes=None,weight=None):\n",
    "        self.num_points=num_points\n",
    "    def getNodes(self):\n",
    "        return self.nodes\n",
    "    def getWeight(self):\n",
    "        return self.weight\n",
    "    def Integrate(self,f):\n",
    "        return self.Integrate_List(f(np.array(self.nodes)))\n",
    "    def Integrate_List(self,lista):\n",
    "        if (len(lista)==len(self.weight)):\n",
    "            return np.array(lista).dot(np.array(self.weight))\n",
    "        else:\n",
    "            raise Exception(\"No has metido correctamente la lista\")"
   ]
  },
  {
   "cell_type": "code",
   "execution_count": 3,
   "metadata": {
    "ExecuteTime": {
     "end_time": "2022-03-20T16:55:15.334595Z",
     "start_time": "2022-03-20T16:55:15.326650Z"
    }
   },
   "outputs": [],
   "source": [
    "class Legendre(Cuadrature):\n",
    "    def __init__(self,num_points,nodes=None,weight=None):\n",
    "        Cuadrature.__init__(self,num_points)\n",
    "        self.nodes=npl.leggauss(self.num_points)[0]  \n",
    "        self.weight=npl.leggauss(self.num_points)[1]  \n",
    "    def __str__(self):\n",
    "        return \"Nodos: %s \\nPesos: %s \" %(self.nodes,self.weight)"
   ]
  },
  {
   "cell_type": "code",
   "execution_count": 4,
   "metadata": {
    "ExecuteTime": {
     "end_time": "2022-03-20T16:55:17.420294Z",
     "start_time": "2022-03-20T16:55:16.316566Z"
    }
   },
   "outputs": [],
   "source": [
    "class Trapecio(Cuadrature):\n",
    "    def __init__(self,num_points,nodes=None,weight=None):\n",
    "        Cuadrature.__init__(self,num_points)\n",
    "        self.nodes=[*np.arange(-1,1,float(2/self.num_points)).tolist(),1]\n",
    "        self.weight=[2/(2*self.num_points),*[2/self.num_points]*(self.num_points-1),2/(2*self.num_points)]\n",
    "    def __str__(self):\n",
    "        return \"Nodos: %s \\nPesos: %s \" %(self.nodes,self.weight)"
   ]
  },
  {
   "cell_type": "code",
   "execution_count": 5,
   "metadata": {
    "ExecuteTime": {
     "end_time": "2022-03-20T16:55:19.381656Z",
     "start_time": "2022-03-20T16:55:18.099311Z"
    }
   },
   "outputs": [],
   "source": [
    "class Lobato(Cuadrature):\n",
    "    def __init__(self, num_points,nodes=None,weight=None):\n",
    "        Cuadrature.__init__(self, num_points)\n",
    "        self.nodes=[-1,*sorted(list(legendre(self.num_points).deriv().r)),1]\n",
    "        self.weight=2/(self.num_points*(self.num_points+1)*(legendre(self.num_points)(self.nodes))**2)\n",
    "    def __str__(self):\n",
    "        return \"Nodos: %s \\nPesos: %s \" %(self.nodes,self.weight)"
   ]
  },
  {
   "cell_type": "code",
   "execution_count": 6,
   "metadata": {
    "ExecuteTime": {
     "end_time": "2022-03-20T16:55:20.048570Z",
     "start_time": "2022-03-20T16:55:20.029621Z"
    }
   },
   "outputs": [
    {
     "name": "stdout",
     "output_type": "stream",
     "text": [
      "Nodos: [-0.77459667  0.          0.77459667] \n",
      "Pesos: [0.55555556 0.88888889 0.55555556] \n"
     ]
    }
   ],
   "source": [
    "print(Legendre(3))"
   ]
  },
  {
   "cell_type": "code",
   "execution_count": 7,
   "metadata": {
    "ExecuteTime": {
     "end_time": "2022-03-20T16:55:21.292831Z",
     "start_time": "2022-03-20T16:55:21.286845Z"
    }
   },
   "outputs": [
    {
     "name": "stdout",
     "output_type": "stream",
     "text": [
      "Nodos: [-1.0, -0.6, -0.19999999999999996, 0.20000000000000018, 0.6000000000000001, 1] \n",
      "Pesos: [0.2, 0.4, 0.4, 0.4, 0.4, 0.2] \n"
     ]
    }
   ],
   "source": [
    "print(Trapecio(5))"
   ]
  },
  {
   "cell_type": "code",
   "execution_count": 8,
   "metadata": {
    "ExecuteTime": {
     "end_time": "2022-03-20T16:55:22.824682Z",
     "start_time": "2022-03-20T16:55:22.813711Z"
    }
   },
   "outputs": [
    {
     "name": "stdout",
     "output_type": "stream",
     "text": [
      "Nodos: [-1, -0.6546536707079773, 3.23815048849004e-17, 0.6546536707079773, 1] \n",
      "Pesos: [0.1        0.54444444 0.71111111 0.54444444 0.1       ] \n"
     ]
    }
   ],
   "source": [
    "print(Lobato(4))"
   ]
  },
  {
   "cell_type": "markdown",
   "metadata": {},
   "source": [
    "Veamos que integra correctamente:"
   ]
  },
  {
   "cell_type": "code",
   "execution_count": 10,
   "metadata": {
    "ExecuteTime": {
     "end_time": "2022-03-20T16:55:38.918870Z",
     "start_time": "2022-03-20T16:55:38.815319Z"
    }
   },
   "outputs": [
    {
     "data": {
      "text/latex": [
       "$\\displaystyle \\frac{2}{11}$"
      ],
      "text/plain": [
       "2/11"
      ]
     },
     "execution_count": 10,
     "metadata": {},
     "output_type": "execute_result"
    }
   ],
   "source": [
    "x = sp.Symbol('x')\n",
    "y=x**10\n",
    "sp.integrate(y,(x,-1,1))"
   ]
  },
  {
   "cell_type": "code",
   "execution_count": 11,
   "metadata": {
    "ExecuteTime": {
     "end_time": "2022-03-20T16:55:40.076820Z",
     "start_time": "2022-03-20T16:55:40.066846Z"
    }
   },
   "outputs": [
    {
     "data": {
      "text/plain": [
       "0.08640000000000005"
      ]
     },
     "execution_count": 11,
     "metadata": {},
     "output_type": "execute_result"
    }
   ],
   "source": [
    "f= lambda x: x**10\n",
    "\n",
    "Legendre(3).Integrate(f)"
   ]
  },
  {
   "cell_type": "code",
   "execution_count": 12,
   "metadata": {
    "ExecuteTime": {
     "end_time": "2022-03-20T16:55:41.186210Z",
     "start_time": "2022-03-20T16:55:41.176237Z"
    }
   },
   "outputs": [
    {
     "data": {
      "text/plain": [
       "0.18181818181818166"
      ]
     },
     "execution_count": 12,
     "metadata": {},
     "output_type": "execute_result"
    }
   ],
   "source": [
    "Legendre(10).Integrate(f)"
   ]
  },
  {
   "cell_type": "code",
   "execution_count": 13,
   "metadata": {
    "ExecuteTime": {
     "end_time": "2022-03-20T16:55:46.055634Z",
     "start_time": "2022-03-20T16:55:46.046692Z"
    }
   },
   "outputs": [
    {
     "data": {
      "text/plain": [
       "0.6666892467837445"
      ]
     },
     "execution_count": 13,
     "metadata": {},
     "output_type": "execute_result"
    }
   ],
   "source": [
    "Trapecio(3).Integrate(f)"
   ]
  },
  {
   "cell_type": "code",
   "execution_count": 14,
   "metadata": {
    "ExecuteTime": {
     "end_time": "2022-03-20T16:55:48.129628Z",
     "start_time": "2022-03-20T16:55:48.123639Z"
    }
   },
   "outputs": [
    {
     "data": {
      "text/plain": [
       "0.2454103039999999"
      ]
     },
     "execution_count": 14,
     "metadata": {},
     "output_type": "execute_result"
    }
   ],
   "source": [
    "Trapecio(10).Integrate(f)"
   ]
  },
  {
   "cell_type": "code",
   "execution_count": 15,
   "metadata": {
    "ExecuteTime": {
     "end_time": "2022-03-20T16:55:49.837567Z",
     "start_time": "2022-03-20T16:55:49.828592Z"
    }
   },
   "outputs": [
    {
     "data": {
      "text/plain": [
       "0.33386666666666664"
      ]
     },
     "execution_count": 15,
     "metadata": {},
     "output_type": "execute_result"
    }
   ],
   "source": [
    "Lobato(3).Integrate(f)"
   ]
  },
  {
   "cell_type": "code",
   "execution_count": 16,
   "metadata": {
    "ExecuteTime": {
     "end_time": "2022-03-20T16:55:50.784996Z",
     "start_time": "2022-03-20T16:55:50.775026Z"
    }
   },
   "outputs": [
    {
     "data": {
      "text/plain": [
       "0.1818181818181771"
      ]
     },
     "execution_count": 16,
     "metadata": {},
     "output_type": "execute_result"
    }
   ],
   "source": [
    "Lobato(10).Integrate(f)"
   ]
  },
  {
   "cell_type": "markdown",
   "metadata": {},
   "source": [
    "# Pasos que he seguido a la hora de construir las clases"
   ]
  },
  {
   "cell_type": "markdown",
   "metadata": {},
   "source": [
    "## Legendre:\n",
    "Los nodos y pesos de Legendre se obtienen directamente con la función"
   ]
  },
  {
   "cell_type": "code",
   "execution_count": 17,
   "metadata": {
    "ExecuteTime": {
     "end_time": "2022-03-20T16:55:53.255622Z",
     "start_time": "2022-03-20T16:55:53.245651Z"
    }
   },
   "outputs": [
    {
     "data": {
      "text/plain": [
       "(array([-0.77459667,  0.        ,  0.77459667]),\n",
       " array([0.55555556, 0.88888889, 0.55555556]))"
      ]
     },
     "execution_count": 17,
     "metadata": {},
     "output_type": "execute_result"
    }
   ],
   "source": [
    "npl.leggauss(3)"
   ]
  },
  {
   "cell_type": "markdown",
   "metadata": {},
   "source": [
    "## Lobato:\n",
    "En la fórmula de Gauss_Lobato los nodos interiores son los ceros de la derivada del polinomio de Legendre $L_N'(x_i)=0$ y los pesos los he sacado de la fórmula del libro de Quarteroni."
   ]
  },
  {
   "cell_type": "code",
   "execution_count": 18,
   "metadata": {
    "ExecuteTime": {
     "end_time": "2022-03-20T16:55:54.691920Z",
     "start_time": "2022-03-20T16:55:54.678954Z"
    }
   },
   "outputs": [
    {
     "name": "stdout",
     "output_type": "stream",
     "text": [
      "[-1, 0.0, 1] [0.33333333 1.33333333 0.33333333]\n"
     ]
    }
   ],
   "source": [
    "n=2 #son n+1 puntos en total del x_0 al x_n\n",
    "\n",
    "interior=legendre(n).deriv().r\n",
    "nodos=[-1,*sorted(list(interior)),1]\n",
    "\n",
    "pesos=2/(n*(n+1)*(legendre(n)(nodos))**2)\n",
    "\n",
    "print(nodos,pesos)"
   ]
  },
  {
   "cell_type": "markdown",
   "metadata": {},
   "source": [
    "## Trapecios:\n",
    "En la fórmula de los trapecios he considerado el intervalo $(-1,1)$ en $n$ intervalos, de modo que tengo $n+1$ puntos, el incremento y por tanto h es, $h=\\frac{b-a}n$ y los pesos en los extremos son $\\frac h 2$ y en los nodos interiores $h$."
   ]
  },
  {
   "cell_type": "code",
   "execution_count": 19,
   "metadata": {
    "ExecuteTime": {
     "end_time": "2022-03-20T16:55:55.851648Z",
     "start_time": "2022-03-20T16:55:55.842675Z"
    }
   },
   "outputs": [
    {
     "data": {
      "text/plain": [
       "[-1.0,\n",
       " -0.6666666666666667,\n",
       " -0.3333333333333335,\n",
       " -2.220446049250313e-16,\n",
       " 0.33333333333333304,\n",
       " 0.6666666666666663,\n",
       " 1]"
      ]
     },
     "execution_count": 19,
     "metadata": {},
     "output_type": "execute_result"
    }
   ],
   "source": [
    "a,b=-1,1\n",
    "n=6\n",
    "[*np.arange(-1,1,float((b-a)/n)).tolist(),1] #nodos en Trapecios"
   ]
  },
  {
   "cell_type": "code",
   "execution_count": 20,
   "metadata": {
    "ExecuteTime": {
     "end_time": "2022-03-20T16:55:56.534049Z",
     "start_time": "2022-03-20T16:55:56.388653Z"
    }
   },
   "outputs": [
    {
     "data": {
      "text/plain": [
       "[0.16666666666666666,\n",
       " 0.3333333333333333,\n",
       " 0.3333333333333333,\n",
       " 0.3333333333333333,\n",
       " 0.3333333333333333,\n",
       " 0.3333333333333333,\n",
       " 0.16666666666666666]"
      ]
     },
     "execution_count": 20,
     "metadata": {},
     "output_type": "execute_result"
    }
   ],
   "source": [
    "n=6 #x_0,...x_6 7 puntos\n",
    "[2/(2*n),*[2/n]*(n-1),2/(2*n)] #pesos en Trapecios"
   ]
  },
  {
   "cell_type": "code",
   "execution_count": null,
   "metadata": {},
   "outputs": [],
   "source": []
  },
  {
   "cell_type": "markdown",
   "metadata": {},
   "source": [
    "## Con Dani y Rafa Lunes 14 Marzo"
   ]
  },
  {
   "cell_type": "code",
   "execution_count": 21,
   "metadata": {
    "ExecuteTime": {
     "end_time": "2022-03-20T16:55:57.918703Z",
     "start_time": "2022-03-20T16:55:57.906719Z"
    }
   },
   "outputs": [],
   "source": [
    "class Cuadrature:\n",
    "    def __init__(self,nodes=None,weight=None,num_points=None):\n",
    "        if (nodes!=None and weight!=None):\n",
    "            self.nodes = nodes\n",
    "            self.weight = weight\n",
    "            print(self.nodes,self.weight)\n",
    "        elif(num_points!=None):\n",
    "            self.nodes, self.weight= npl.leggauss(num_points)\n",
    "            print(self.nodes,self.weight)\n",
    "        else:\n",
    "            raise Exception(\"No has metido correctamente los parámetros en la clase\")\n",
    "    def getNodes(self):\n",
    "        return self.nodes\n",
    "    def getWeight(self):\n",
    "        return self.weight\n",
    "    def Integrate(self,f):\n",
    "        return self.Integrate_List(f(np.array(self.nodes)))\n",
    "    def Integrate_List(self,lista):\n",
    "        if (len(lista)==len(self.weight)):\n",
    "            return np.array(lista).dot(np.array(self.weight))\n",
    "        else:\n",
    "            raise Exception(\"No has metido correctamente la lista\")\n",
    "        "
   ]
  },
  {
   "cell_type": "code",
   "execution_count": 22,
   "metadata": {
    "ExecuteTime": {
     "end_time": "2022-03-20T16:55:58.923822Z",
     "start_time": "2022-03-20T16:55:58.397353Z"
    }
   },
   "outputs": [
    {
     "ename": "Exception",
     "evalue": "No has metido correctamente los parámetros en la clase",
     "output_type": "error",
     "traceback": [
      "\u001b[1;31m---------------------------------------------------------------------------\u001b[0m",
      "\u001b[1;31mException\u001b[0m                                 Traceback (most recent call last)",
      "\u001b[1;32m<ipython-input-22-44296fb4d876>\u001b[0m in \u001b[0;36m<module>\u001b[1;34m\u001b[0m\n\u001b[1;32m----> 1\u001b[1;33m \u001b[0mCuadrature\u001b[0m\u001b[1;33m(\u001b[0m\u001b[1;36m4\u001b[0m\u001b[1;33m)\u001b[0m\u001b[1;33m\u001b[0m\u001b[1;33m\u001b[0m\u001b[0m\n\u001b[0m",
      "\u001b[1;32m<ipython-input-21-c34c1944001e>\u001b[0m in \u001b[0;36m__init__\u001b[1;34m(self, nodes, weight, num_points)\u001b[0m\n\u001b[0;32m      9\u001b[0m             \u001b[0mprint\u001b[0m\u001b[1;33m(\u001b[0m\u001b[0mself\u001b[0m\u001b[1;33m.\u001b[0m\u001b[0mnodes\u001b[0m\u001b[1;33m,\u001b[0m\u001b[0mself\u001b[0m\u001b[1;33m.\u001b[0m\u001b[0mweight\u001b[0m\u001b[1;33m)\u001b[0m\u001b[1;33m\u001b[0m\u001b[1;33m\u001b[0m\u001b[0m\n\u001b[0;32m     10\u001b[0m         \u001b[1;32melse\u001b[0m\u001b[1;33m:\u001b[0m\u001b[1;33m\u001b[0m\u001b[1;33m\u001b[0m\u001b[0m\n\u001b[1;32m---> 11\u001b[1;33m             \u001b[1;32mraise\u001b[0m \u001b[0mException\u001b[0m\u001b[1;33m(\u001b[0m\u001b[1;34m\"No has metido correctamente los parámetros en la clase\"\u001b[0m\u001b[1;33m)\u001b[0m\u001b[1;33m\u001b[0m\u001b[1;33m\u001b[0m\u001b[0m\n\u001b[0m\u001b[0;32m     12\u001b[0m     \u001b[1;32mdef\u001b[0m \u001b[0mgetNodes\u001b[0m\u001b[1;33m(\u001b[0m\u001b[0mself\u001b[0m\u001b[1;33m)\u001b[0m\u001b[1;33m:\u001b[0m\u001b[1;33m\u001b[0m\u001b[1;33m\u001b[0m\u001b[0m\n\u001b[0;32m     13\u001b[0m         \u001b[1;32mreturn\u001b[0m \u001b[0mself\u001b[0m\u001b[1;33m.\u001b[0m\u001b[0mnodes\u001b[0m\u001b[1;33m\u001b[0m\u001b[1;33m\u001b[0m\u001b[0m\n",
      "\u001b[1;31mException\u001b[0m: No has metido correctamente los parámetros en la clase"
     ]
    }
   ],
   "source": [
    "Cuadrature(4)"
   ]
  },
  {
   "cell_type": "code",
   "execution_count": 25,
   "metadata": {
    "ExecuteTime": {
     "end_time": "2022-03-20T16:56:06.130694Z",
     "start_time": "2022-03-20T16:56:06.123715Z"
    },
    "scrolled": true
   },
   "outputs": [
    {
     "name": "stdout",
     "output_type": "stream",
     "text": [
      "[-0.93246951 -0.66120939 -0.23861919  0.23861919  0.66120939  0.93246951] [0.17132449 0.36076157 0.46791393 0.46791393 0.36076157 0.17132449]\n"
     ]
    }
   ],
   "source": [
    "cuad_gauss=Cuadrature(num_points=6)"
   ]
  },
  {
   "cell_type": "code",
   "execution_count": 26,
   "metadata": {
    "ExecuteTime": {
     "end_time": "2022-03-20T16:56:07.395849Z",
     "start_time": "2022-03-20T16:56:07.387869Z"
    }
   },
   "outputs": [
    {
     "data": {
      "text/plain": [
       "0.18181818181818124"
      ]
     },
     "execution_count": 26,
     "metadata": {},
     "output_type": "execute_result"
    }
   ],
   "source": [
    "f= lambda x: x**10\n",
    "cuad_gauss.Integrate(f)"
   ]
  },
  {
   "cell_type": "code",
   "execution_count": 27,
   "metadata": {
    "ExecuteTime": {
     "end_time": "2022-03-20T16:56:08.379016Z",
     "start_time": "2022-03-20T16:56:08.351572Z"
    }
   },
   "outputs": [
    {
     "ename": "Exception",
     "evalue": "No has metido correctamente la lista",
     "output_type": "error",
     "traceback": [
      "\u001b[1;31m---------------------------------------------------------------------------\u001b[0m",
      "\u001b[1;31mException\u001b[0m                                 Traceback (most recent call last)",
      "\u001b[1;32m<ipython-input-27-938dde4e908f>\u001b[0m in \u001b[0;36m<module>\u001b[1;34m\u001b[0m\n\u001b[0;32m      1\u001b[0m \u001b[0mlista\u001b[0m\u001b[1;33m=\u001b[0m\u001b[1;33m[\u001b[0m\u001b[1;36m2\u001b[0m\u001b[1;33m,\u001b[0m\u001b[1;36m4\u001b[0m\u001b[1;33m,\u001b[0m\u001b[1;36m5\u001b[0m\u001b[1;33m,\u001b[0m\u001b[1;36m0\u001b[0m\u001b[1;33m]\u001b[0m\u001b[1;33m\u001b[0m\u001b[1;33m\u001b[0m\u001b[0m\n\u001b[1;32m----> 2\u001b[1;33m \u001b[0mcuad_gauss\u001b[0m\u001b[1;33m.\u001b[0m\u001b[0mIntegrate_List\u001b[0m\u001b[1;33m(\u001b[0m\u001b[0mlista\u001b[0m\u001b[1;33m)\u001b[0m\u001b[1;33m\u001b[0m\u001b[1;33m\u001b[0m\u001b[0m\n\u001b[0m",
      "\u001b[1;32m<ipython-input-21-c34c1944001e>\u001b[0m in \u001b[0;36mIntegrate_List\u001b[1;34m(self, lista)\u001b[0m\n\u001b[0;32m     20\u001b[0m             \u001b[1;32mreturn\u001b[0m \u001b[0mnp\u001b[0m\u001b[1;33m.\u001b[0m\u001b[0marray\u001b[0m\u001b[1;33m(\u001b[0m\u001b[0mlista\u001b[0m\u001b[1;33m)\u001b[0m\u001b[1;33m.\u001b[0m\u001b[0mdot\u001b[0m\u001b[1;33m(\u001b[0m\u001b[0mnp\u001b[0m\u001b[1;33m.\u001b[0m\u001b[0marray\u001b[0m\u001b[1;33m(\u001b[0m\u001b[0mself\u001b[0m\u001b[1;33m.\u001b[0m\u001b[0mweight\u001b[0m\u001b[1;33m)\u001b[0m\u001b[1;33m)\u001b[0m\u001b[1;33m\u001b[0m\u001b[1;33m\u001b[0m\u001b[0m\n\u001b[0;32m     21\u001b[0m         \u001b[1;32melse\u001b[0m\u001b[1;33m:\u001b[0m\u001b[1;33m\u001b[0m\u001b[1;33m\u001b[0m\u001b[0m\n\u001b[1;32m---> 22\u001b[1;33m             \u001b[1;32mraise\u001b[0m \u001b[0mException\u001b[0m\u001b[1;33m(\u001b[0m\u001b[1;34m\"No has metido correctamente la lista\"\u001b[0m\u001b[1;33m)\u001b[0m\u001b[1;33m\u001b[0m\u001b[1;33m\u001b[0m\u001b[0m\n\u001b[0m\u001b[0;32m     23\u001b[0m \u001b[1;33m\u001b[0m\u001b[0m\n",
      "\u001b[1;31mException\u001b[0m: No has metido correctamente la lista"
     ]
    }
   ],
   "source": [
    "lista=[2,4,5,0]\n",
    "cuad_gauss.Integrate_List(lista)"
   ]
  },
  {
   "cell_type": "code",
   "execution_count": null,
   "metadata": {},
   "outputs": [],
   "source": []
  },
  {
   "cell_type": "code",
   "execution_count": null,
   "metadata": {},
   "outputs": [],
   "source": []
  },
  {
   "cell_type": "code",
   "execution_count": null,
   "metadata": {},
   "outputs": [],
   "source": []
  }
 ],
 "metadata": {
  "kernelspec": {
   "display_name": "Python 3",
   "language": "python",
   "name": "python3"
  },
  "language_info": {
   "codemirror_mode": {
    "name": "ipython",
    "version": 3
   },
   "file_extension": ".py",
   "mimetype": "text/x-python",
   "name": "python",
   "nbconvert_exporter": "python",
   "pygments_lexer": "ipython3",
   "version": "3.7.6"
  },
  "latex_envs": {
   "LaTeX_envs_menu_present": true,
   "autoclose": false,
   "autocomplete": true,
   "bibliofile": "biblio.bib",
   "cite_by": "apalike",
   "current_citInitial": 1,
   "eqLabelWithNumbers": true,
   "eqNumInitial": 1,
   "hotkeys": {
    "equation": "Ctrl-E",
    "itemize": "Ctrl-I"
   },
   "labels_anchors": false,
   "latex_user_defs": false,
   "report_style_numbering": false,
   "user_envs_cfg": false
  }
 },
 "nbformat": 4,
 "nbformat_minor": 2
}
