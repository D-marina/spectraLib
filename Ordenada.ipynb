{
 "cells": [
  {
   "cell_type": "code",
   "execution_count": 1,
   "metadata": {
    "ExecuteTime": {
     "end_time": "2022-04-20T22:37:02.221964Z",
     "start_time": "2022-04-20T22:36:43.076740Z"
    }
   },
   "outputs": [],
   "source": [
    "import numpy as np  \n",
    "import numpy.polynomial.legendre as npl\n",
    "import sympy as sp\n",
    "import matplotlib.pyplot as plt\n",
    "from scipy.special import legendre"
   ]
  },
  {
   "cell_type": "code",
   "execution_count": 2,
   "metadata": {
    "ExecuteTime": {
     "end_time": "2022-04-20T22:37:03.541529Z",
     "start_time": "2022-04-20T22:37:03.510128Z"
    }
   },
   "outputs": [],
   "source": [
    "def Transformation(nodes, weight,a,b):\n",
    "    nodes=(b-a)/2*nodes+(a+b)/2\n",
    "    weight=(b-a)/2 *weight\n",
    "    return (nodes,weight)"
   ]
  },
  {
   "cell_type": "code",
   "execution_count": 3,
   "metadata": {
    "ExecuteTime": {
     "end_time": "2022-04-20T22:37:04.344669Z",
     "start_time": "2022-04-20T22:37:04.336679Z"
    }
   },
   "outputs": [],
   "source": [
    "def chop(lista):\n",
    "    for i in range(len(lista)):\n",
    "        if(abs(lista[i])<(10**(-10))):\n",
    "            lista[i]=0\n",
    "    return lista"
   ]
  },
  {
   "cell_type": "code",
   "execution_count": null,
   "metadata": {},
   "outputs": [],
   "source": []
  },
  {
   "cell_type": "code",
   "execution_count": 4,
   "metadata": {
    "ExecuteTime": {
     "end_time": "2022-04-20T22:37:06.070550Z",
     "start_time": "2022-04-20T22:37:06.060574Z"
    }
   },
   "outputs": [],
   "source": [
    "class Cuadrature:\n",
    "    def __init__(self,nodes=None,weight=None):\n",
    "        if(list(nodes)!=None):\n",
    "                self.nodes=nodes\n",
    "        if(list(weight)!=None):\n",
    "                self.weight=weight\n",
    "        \n",
    "    def getNodes(self):\n",
    "        return self.nodes\n",
    "    def getWeight(self):\n",
    "        return self.weight\n",
    "    def getNumPoints(self):\n",
    "        return len(self.nodes)\n",
    "    \n",
    "    def Integrate(self,f):\n",
    "        return self.Integrate_List(f(np.array(self.nodes)))\n",
    "    \n",
    "    def Integrate_List(self,lista):\n",
    "        if (len(lista)==len(self.weight)):\n",
    "            return np.array(lista).dot(np.array(self.weight))\n",
    "        else:\n",
    "            raise Exception(\"No has metido correctamente la lista\")"
   ]
  },
  {
   "cell_type": "code",
   "execution_count": 5,
   "metadata": {
    "ExecuteTime": {
     "end_time": "2022-04-20T22:37:06.913127Z",
     "start_time": "2022-04-20T22:37:06.790798Z"
    }
   },
   "outputs": [],
   "source": [
    "class Lobato(Cuadrature):\n",
    "    def __init__(self, num_points,a,b):\n",
    "        aux=[-1,*sorted(list(legendre(num_points).deriv().r)),1]\n",
    "        Cuadrature.__init__(self, nodes=np.array(aux), weight=np.array(2/(num_points*(num_points+1)*(legendre(num_points)(aux))**2)))\n",
    "        self.nodes,self.weight=Transformation(self.nodes, self.weight, a, b)\n",
    "    def __str__(self):\n",
    "        return \"Nodos: %s \\nPesos: %s \" %(self.nodes,self.weight)"
   ]
  },
  {
   "cell_type": "code",
   "execution_count": 6,
   "metadata": {
    "ExecuteTime": {
     "end_time": "2022-04-20T22:37:07.618101Z",
     "start_time": "2022-04-20T22:37:07.611120Z"
    }
   },
   "outputs": [],
   "source": [
    "class Legendre(Cuadrature):\n",
    "    def __init__(self,num_points,a,b):\n",
    "        Cuadrature.__init__(self,nodes=npl.leggauss(num_points)[0], weight=npl.leggauss(num_points)[1]) \n",
    "        self.nodes,self.weight=Transformation(self.nodes, self.weight, a, b)\n",
    "    def __str__(self):\n",
    "        return \"Nodos: %s \\nPesos: %s \" %(self.nodes,self.weight)"
   ]
  },
  {
   "cell_type": "code",
   "execution_count": 7,
   "metadata": {
    "ExecuteTime": {
     "end_time": "2022-04-20T22:37:09.056656Z",
     "start_time": "2022-04-20T22:37:08.986294Z"
    }
   },
   "outputs": [],
   "source": [
    "class Trapecio_Compuesto(Cuadrature): #están considerados los extremos(-1,1)\n",
    "    def __init__(self,num_points,a,b):\n",
    "        Cuadrature.__init__(self, nodes=np.array([*np.arange(-1,1,float(2/num_points)).tolist(),1]), weight=np.array([2/(2*num_points),*[2/num_points]*(num_points-1),2/(2*num_points)]))\n",
    "        self.nodes,self.weight=Transformation(self.nodes, self.weight, a, b)\n",
    "    def __str__(self):\n",
    "        return \"Nodos: %s \\nPesos: %s \" %(self.nodes,self.weight)"
   ]
  },
  {
   "cell_type": "code",
   "execution_count": null,
   "metadata": {},
   "outputs": [],
   "source": []
  },
  {
   "cell_type": "code",
   "execution_count": 19,
   "metadata": {
    "ExecuteTime": {
     "end_time": "2022-04-20T22:41:57.672494Z",
     "start_time": "2022-04-20T22:41:57.648524Z"
    }
   },
   "outputs": [
    {
     "ename": "SyntaxError",
     "evalue": "invalid syntax (<ipython-input-19-191275b3057e>, line 12)",
     "output_type": "error",
     "traceback": [
      "\u001b[1;36m  File \u001b[1;32m\"<ipython-input-19-191275b3057e>\"\u001b[1;36m, line \u001b[1;32m12\u001b[0m\n\u001b[1;33m    phi1 = lambda x:((-1)/(N*(N+1)))*((1-x**2)*(Lnp(x))/((x-*xvals[1])*(Ln(*xvals[1]))))\u001b[0m\n\u001b[1;37m                                                            ^\u001b[0m\n\u001b[1;31mSyntaxError\u001b[0m\u001b[1;31m:\u001b[0m invalid syntax\n"
     ]
    }
   ],
   "source": [
    "N=4\n",
    "x = sp.symbols('x')\n",
    "Ln = lambda x:chop(legendre(4))(x)\n",
    "Lnp= lambda x:chop(legendre(4)).deriv()(x)\n",
    "xvals = chop(Lobato(N,-1,1).getNodes())\n",
    "print(xvals)\n",
    "\n",
    "phi0 = lambda x: sp.simplify(((-1)/(N*(N+1)))*((1-x**2)*(Lnp(x))/((x-xvals[0])*(Ln(xvals)[0]))))\n",
    "difphi0 = lambda x: sp.simplify(sp.diff(phi0(x)))\n",
    "difphi0 = lambda x: 3.5*x**3-2.625*x**2-0.75*x+0.375\n",
    "                                                                                    \n",
    "phi1 = lambda x:((-1)/(N*(N+1)))*((1-x**2)*(Lnp(x))/((x-xvals[1])*(Ln(xvals[1]))))\n",
    "difphi1 = lambda x: sp.simplify(sp.diff(phi1(x)))\n",
    "difphi1 = lambda x: (-3.5*x**5-2.1875*x**4+2.5*x**3+1.875*x**2-0.1875)/(0.2890625*x**2+0.2890625*x+0.072265625)\n",
    "\n",
    "phi2 = lambda x: sp.simplify(((-1)/(N*(N+1)))*((1-x**2)*(Lnp(x))/((x-xvals[2])*(Ln(xvals)[2]))))\n",
    "difphi2 = lambda x: sp.simplify(sp.diff(phi2(x)))\n",
    "difphi2 = lambda x: x*(9.33333333333333*x**2-6.66666666666667)\n",
    "\n",
    "phi3 = lambda x: sp.simplify(((-1)/(N*(N+1)))*((1-x**2)*(Lnp(x))/((x-xvals[3])*(Ln(xvals)[3]))))\n",
    "difphi3 = lambda x: sp.simplify(sp.diff(phi3(x)))\n",
    "difphi3 = lambda x: (-3.5*x**5+2.1875*x**4+2.5*x**3-1.875*x**2+0.1875)/(0.2890625*x**2-0.2890625*x+0.072265625)\n",
    "\n",
    "phi4 = lambda x: sp.simplify(((-1)/(N*(N+1)))*((1-x**2)*(Lnp(x))/((x-xvals[4])*(Ln(xvals)[4]))))\n",
    "difphi4 = lambda x: sp.simplify(sp.diff(phi4(x)))\n",
    "difphi4 = lambda x: 3.5*x**3+2.625*x**2-0.75*x-0.375\n",
    "\n",
    "sp.simplify(phi1(x))"
   ]
  },
  {
   "cell_type": "code",
   "execution_count": 13,
   "metadata": {
    "ExecuteTime": {
     "end_time": "2022-04-19T09:54:26.078347Z",
     "start_time": "2022-04-19T09:54:26.056591Z"
    }
   },
   "outputs": [
    {
     "data": {
      "text/plain": [
       "[Fraction(7, 8),\n",
       " Fraction(0, 1),\n",
       " Fraction(-5, 4),\n",
       " Fraction(0, 1),\n",
       " Fraction(3377699720527873, 9007199254740992),\n",
       " Fraction(0, 1)]"
      ]
     },
     "execution_count": 13,
     "metadata": {},
     "output_type": "execute_result"
    }
   ],
   "source": [
    "from fractions import Fraction\n",
    "\n",
    "num,den=sp.fraction(phi1(x))\n",
    "aux=sp.Poly(num,x).all_coeffs()\n",
    "[Fraction.from_float(float(i)) for i in aux]"
   ]
  },
  {
   "cell_type": "code",
   "execution_count": null,
   "metadata": {},
   "outputs": [],
   "source": []
  },
  {
   "cell_type": "code",
   "execution_count": 20,
   "metadata": {
    "ExecuteTime": {
     "end_time": "2022-04-20T22:42:57.458667Z",
     "start_time": "2022-04-20T22:42:57.423719Z"
    }
   },
   "outputs": [],
   "source": [
    "def Matriz_Local(m,p,Nq,num_interval): #p siempre será 4 en nuestra actividad\n",
    "    \n",
    "    intervals=np.linspace(-1,1,m+1)\n",
    "    A=np.zeros((p+1, p+1))\n",
    "    a=intervals[num_interval-1]\n",
    "    b=intervals[num_interval]\n",
    "    xvals2=np.linspace(a,b,Nq)\n",
    "    \n",
    "    A[0][0]=Lobato(Nq-1,a,b).Integrate_List(difphi0(xvals2)*difphi0(xvals2))\n",
    "    A[0][1]=Lobato(Nq-1,a,b).Integrate_List(difphi0(xvals2)*difphi1(xvals2))\n",
    "    A[0][2]=Lobato(Nq-1,a,b).Integrate_List(difphi0(xvals2)*difphi2(xvals2))\n",
    "    A[0][3]=Lobato(Nq-1,a,b).Integrate_List(difphi0(xvals2)*difphi3(xvals2))\n",
    "    A[0][4]=Lobato(Nq-1,a,b).Integrate_List(difphi0(xvals2)*difphi4(xvals2))\n",
    "\n",
    "    A[1][0]=Lobato(Nq-1,a,b).Integrate_List(difphi1(xvals2)*difphi0(xvals2))\n",
    "    A[1][1]=Lobato(Nq-1,a,b).Integrate_List(difphi1(xvals2)*difphi1(xvals2))\n",
    "    A[1][2]=Lobato(Nq-1,a,b).Integrate_List(difphi1(xvals2)*difphi2(xvals2))\n",
    "    A[1][3]=Lobato(Nq-1,a,b).Integrate_List(difphi1(xvals2)*difphi3(xvals2))\n",
    "    A[1][4]=Lobato(Nq-1,a,b).Integrate_List(difphi1(xvals2)*difphi4(xvals2))\n",
    "\n",
    "    A[2][0]=Lobato(Nq-1,a,b).Integrate_List(difphi2(xvals2)*difphi0(xvals2))\n",
    "    A[2][1]=Lobato(Nq-1,a,b).Integrate_List(difphi2(xvals2)*difphi1(xvals2))\n",
    "    A[2][2]=Lobato(Nq-1,a,b).Integrate_List(difphi2(xvals2)*difphi2(xvals2))\n",
    "    A[2][3]=Lobato(Nq-1,a,b).Integrate_List(difphi2(xvals2)*difphi3(xvals2))\n",
    "    A[2][4]=Lobato(Nq-1,a,b).Integrate_List(difphi2(xvals2)*difphi4(xvals2))\n",
    "\n",
    "    A[3][0]=Lobato(Nq-1,a,b).Integrate_List(difphi3(xvals2)*difphi0(xvals2))\n",
    "    A[3][1]=Lobato(Nq-1,a,b).Integrate_List(difphi3(xvals2)*difphi1(xvals2))\n",
    "    A[3][2]=Lobato(Nq-1,a,b).Integrate_List(difphi3(xvals2)*difphi2(xvals2))\n",
    "    A[3][3]=Lobato(Nq-1,a,b).Integrate_List(difphi3(xvals2)*difphi3(xvals2))\n",
    "    A[3][4]=Lobato(Nq-1,a,b).Integrate_List(difphi3(xvals2)*difphi4(xvals2))\n",
    "\n",
    "    A[4][0]=Lobato(Nq-1,a,b).Integrate_List(difphi4(xvals2)*difphi0(xvals2))\n",
    "    A[4][1]=Lobato(Nq-1,a,b).Integrate_List(difphi4(xvals2)*difphi1(xvals2))\n",
    "    A[4][2]=Lobato(Nq-1,a,b).Integrate_List(difphi4(xvals2)*difphi2(xvals2))\n",
    "    A[4][3]=Lobato(Nq-1,a,b).Integrate_List(difphi4(xvals2)*difphi3(xvals2))\n",
    "    A[4][4]=Lobato(Nq-1,a,b).Integrate_List(difphi4(xvals2)*difphi4(xvals2))\n",
    "    \n",
    "    return A"
   ]
  },
  {
   "cell_type": "code",
   "execution_count": 63,
   "metadata": {
    "ExecuteTime": {
     "end_time": "2022-04-21T07:39:16.147848Z",
     "start_time": "2022-04-21T07:39:15.944430Z"
    }
   },
   "outputs": [
    {
     "name": "stderr",
     "output_type": "stream",
     "text": [
      "C:\\Users\\isabe\\Desktop\\WPy64-3760\\python-3.7.6.amd64\\lib\\site-packages\\ipykernel_launcher.py:14: RuntimeWarning: divide by zero encountered in true_divide\n",
      "  \n",
      "C:\\Users\\isabe\\Desktop\\WPy64-3760\\python-3.7.6.amd64\\lib\\site-packages\\ipykernel_launcher.py:22: RuntimeWarning: divide by zero encountered in true_divide\n"
     ]
    }
   ],
   "source": [
    "#m,p,Nq,num_interval\n",
    "\n",
    "A1=Matriz_Local(6,4,5,1)#m=7 intervalos dentro del (-1,1)\n",
    "A2=Matriz_Local(6,4,5,2) #las phi siguen siendo del 0 al 4 (5) grados de libertad\n",
    "A3=Matriz_Local(6,4,5,3) #Consideramos 3 nodos de cuadratura\n",
    "A4=Matriz_Local(6,4,5,4)\n",
    "A5=Matriz_Local(6,4,5,5)\n",
    "A6=Matriz_Local(6,4,5,6) #¿Existe algun nombre para cambiar de matriz y que se haga un for?"
   ]
  },
  {
   "cell_type": "code",
   "execution_count": 64,
   "metadata": {
    "ExecuteTime": {
     "end_time": "2022-04-21T07:39:16.901235Z",
     "start_time": "2022-04-21T07:39:16.893258Z"
    }
   },
   "outputs": [
    {
     "data": {
      "text/plain": [
       "-0.19423669243231573"
      ]
     },
     "execution_count": 64,
     "metadata": {},
     "output_type": "execute_result"
    }
   ],
   "source": [
    "A=[A1,A2,A3,A4,A5,A6]\n",
    "A[0][1][4]"
   ]
  },
  {
   "cell_type": "code",
   "execution_count": 59,
   "metadata": {
    "ExecuteTime": {
     "end_time": "2022-04-21T06:09:34.265995Z",
     "start_time": "2022-04-21T06:09:34.257020Z"
    }
   },
   "outputs": [
    {
     "data": {
      "text/plain": [
       "array([[ 3.11373337, -1.37353571,  0.31412673, -0.23511992,  0.04760573],\n",
       "       [-1.37353571,  3.84908852, -1.14565545,  0.92518683, -0.19423669],\n",
       "       [ 0.31412673, -1.14565545,  0.37619861, -0.31002267,  0.06567038],\n",
       "       [-0.23511992,  0.92518683, -0.31002267,  0.25660178, -0.05446004],\n",
       "       [ 0.04760573, -0.19423669,  0.06567038, -0.05446004,  0.01156838]])"
      ]
     },
     "execution_count": 59,
     "metadata": {},
     "output_type": "execute_result"
    }
   ],
   "source": [
    "A1"
   ]
  },
  {
   "cell_type": "code",
   "execution_count": null,
   "metadata": {},
   "outputs": [],
   "source": [
    "intervalo 1: matriz 5x5 0 0 -> 0 0\n",
    "  (k=0)                 0 1 -> 0 1\n",
    "                        .\n",
    "                        .\n",
    "                        4 4 -> 4 4\n",
    "                    \n",
    "intervalo 2: matriz 5x5 0 0 -> 4 4\n",
    " (k=1)                  0 1 -> 4 5\n",
    "                        1 0 -> 5 4\n",
    "                        .\n",
    "                        .\n",
    "                        4 4 -> 8 8\n",
    "intervalo 3: matriz 5x5 0 0 -> 8 8\n",
    "                        0 1 -> 8 9\n",
    "                        1 0 -> 9 8\n",
    "                        .\n",
    "                        .\n",
    "                        4 4 -> 12 12...               "
   ]
  },
  {
   "cell_type": "code",
   "execution_count": 79,
   "metadata": {
    "ExecuteTime": {
     "end_time": "2022-04-21T08:23:35.251785Z",
     "start_time": "2022-04-21T08:23:35.237735Z"
    }
   },
   "outputs": [],
   "source": [
    "def Matriz_Global(A,m,p):#m es nº de intervalos\n",
    "        B=np.zeros(((p+1)*m, (p+1)*m))\n",
    "        for k in range(0,m):\n",
    "            for i in range(0,p+1):\n",
    "                for j in range(0,p+1):\n",
    "                    B[k*p+i][k*p+j] = B[k*p+i][k*p+j] + A[k][i][j]\n",
    "                    print(\"int\",k+1,\"k*p+i:\",k*p+i,\" k*p+j:\",k*p+j,\" k,i,j\",k,i,j)\n",
    "        return B"
   ]
  },
  {
   "cell_type": "code",
   "execution_count": 81,
   "metadata": {
    "ExecuteTime": {
     "end_time": "2022-04-21T08:23:53.236260Z",
     "start_time": "2022-04-21T08:23:53.137031Z"
    }
   },
   "outputs": [
    {
     "name": "stdout",
     "output_type": "stream",
     "text": [
      "int 1 k*p+i: 0  k*p+j: 0  k,i,j 0 0 0\n",
      "int 1 k*p+i: 0  k*p+j: 1  k,i,j 0 0 1\n",
      "int 1 k*p+i: 0  k*p+j: 2  k,i,j 0 0 2\n",
      "int 1 k*p+i: 0  k*p+j: 3  k,i,j 0 0 3\n",
      "int 1 k*p+i: 0  k*p+j: 4  k,i,j 0 0 4\n",
      "int 1 k*p+i: 1  k*p+j: 0  k,i,j 0 1 0\n",
      "int 1 k*p+i: 1  k*p+j: 1  k,i,j 0 1 1\n",
      "int 1 k*p+i: 1  k*p+j: 2  k,i,j 0 1 2\n",
      "int 1 k*p+i: 1  k*p+j: 3  k,i,j 0 1 3\n",
      "int 1 k*p+i: 1  k*p+j: 4  k,i,j 0 1 4\n",
      "int 1 k*p+i: 2  k*p+j: 0  k,i,j 0 2 0\n",
      "int 1 k*p+i: 2  k*p+j: 1  k,i,j 0 2 1\n",
      "int 1 k*p+i: 2  k*p+j: 2  k,i,j 0 2 2\n",
      "int 1 k*p+i: 2  k*p+j: 3  k,i,j 0 2 3\n",
      "int 1 k*p+i: 2  k*p+j: 4  k,i,j 0 2 4\n",
      "int 1 k*p+i: 3  k*p+j: 0  k,i,j 0 3 0\n",
      "int 1 k*p+i: 3  k*p+j: 1  k,i,j 0 3 1\n",
      "int 1 k*p+i: 3  k*p+j: 2  k,i,j 0 3 2\n",
      "int 1 k*p+i: 3  k*p+j: 3  k,i,j 0 3 3\n",
      "int 1 k*p+i: 3  k*p+j: 4  k,i,j 0 3 4\n",
      "int 1 k*p+i: 4  k*p+j: 0  k,i,j 0 4 0\n",
      "int 1 k*p+i: 4  k*p+j: 1  k,i,j 0 4 1\n",
      "int 1 k*p+i: 4  k*p+j: 2  k,i,j 0 4 2\n",
      "int 1 k*p+i: 4  k*p+j: 3  k,i,j 0 4 3\n",
      "int 1 k*p+i: 4  k*p+j: 4  k,i,j 0 4 4\n",
      "int 2 k*p+i: 4  k*p+j: 4  k,i,j 1 0 0\n",
      "int 2 k*p+i: 4  k*p+j: 5  k,i,j 1 0 1\n",
      "int 2 k*p+i: 4  k*p+j: 6  k,i,j 1 0 2\n",
      "int 2 k*p+i: 4  k*p+j: 7  k,i,j 1 0 3\n",
      "int 2 k*p+i: 4  k*p+j: 8  k,i,j 1 0 4\n",
      "int 2 k*p+i: 5  k*p+j: 4  k,i,j 1 1 0\n",
      "int 2 k*p+i: 5  k*p+j: 5  k,i,j 1 1 1\n",
      "int 2 k*p+i: 5  k*p+j: 6  k,i,j 1 1 2\n",
      "int 2 k*p+i: 5  k*p+j: 7  k,i,j 1 1 3\n",
      "int 2 k*p+i: 5  k*p+j: 8  k,i,j 1 1 4\n",
      "int 2 k*p+i: 6  k*p+j: 4  k,i,j 1 2 0\n",
      "int 2 k*p+i: 6  k*p+j: 5  k,i,j 1 2 1\n",
      "int 2 k*p+i: 6  k*p+j: 6  k,i,j 1 2 2\n",
      "int 2 k*p+i: 6  k*p+j: 7  k,i,j 1 2 3\n",
      "int 2 k*p+i: 6  k*p+j: 8  k,i,j 1 2 4\n",
      "int 2 k*p+i: 7  k*p+j: 4  k,i,j 1 3 0\n",
      "int 2 k*p+i: 7  k*p+j: 5  k,i,j 1 3 1\n",
      "int 2 k*p+i: 7  k*p+j: 6  k,i,j 1 3 2\n",
      "int 2 k*p+i: 7  k*p+j: 7  k,i,j 1 3 3\n",
      "int 2 k*p+i: 7  k*p+j: 8  k,i,j 1 3 4\n",
      "int 2 k*p+i: 8  k*p+j: 4  k,i,j 1 4 0\n",
      "int 2 k*p+i: 8  k*p+j: 5  k,i,j 1 4 1\n",
      "int 2 k*p+i: 8  k*p+j: 6  k,i,j 1 4 2\n",
      "int 2 k*p+i: 8  k*p+j: 7  k,i,j 1 4 3\n",
      "int 2 k*p+i: 8  k*p+j: 8  k,i,j 1 4 4\n",
      "int 3 k*p+i: 8  k*p+j: 8  k,i,j 2 0 0\n",
      "int 3 k*p+i: 8  k*p+j: 9  k,i,j 2 0 1\n",
      "int 3 k*p+i: 8  k*p+j: 10  k,i,j 2 0 2\n",
      "int 3 k*p+i: 8  k*p+j: 11  k,i,j 2 0 3\n",
      "int 3 k*p+i: 8  k*p+j: 12  k,i,j 2 0 4\n",
      "int 3 k*p+i: 9  k*p+j: 8  k,i,j 2 1 0\n",
      "int 3 k*p+i: 9  k*p+j: 9  k,i,j 2 1 1\n",
      "int 3 k*p+i: 9  k*p+j: 10  k,i,j 2 1 2\n",
      "int 3 k*p+i: 9  k*p+j: 11  k,i,j 2 1 3\n",
      "int 3 k*p+i: 9  k*p+j: 12  k,i,j 2 1 4\n",
      "int 3 k*p+i: 10  k*p+j: 8  k,i,j 2 2 0\n",
      "int 3 k*p+i: 10  k*p+j: 9  k,i,j 2 2 1\n",
      "int 3 k*p+i: 10  k*p+j: 10  k,i,j 2 2 2\n",
      "int 3 k*p+i: 10  k*p+j: 11  k,i,j 2 2 3\n",
      "int 3 k*p+i: 10  k*p+j: 12  k,i,j 2 2 4\n",
      "int 3 k*p+i: 11  k*p+j: 8  k,i,j 2 3 0\n",
      "int 3 k*p+i: 11  k*p+j: 9  k,i,j 2 3 1\n",
      "int 3 k*p+i: 11  k*p+j: 10  k,i,j 2 3 2\n",
      "int 3 k*p+i: 11  k*p+j: 11  k,i,j 2 3 3\n",
      "int 3 k*p+i: 11  k*p+j: 12  k,i,j 2 3 4\n",
      "int 3 k*p+i: 12  k*p+j: 8  k,i,j 2 4 0\n",
      "int 3 k*p+i: 12  k*p+j: 9  k,i,j 2 4 1\n",
      "int 3 k*p+i: 12  k*p+j: 10  k,i,j 2 4 2\n",
      "int 3 k*p+i: 12  k*p+j: 11  k,i,j 2 4 3\n",
      "int 3 k*p+i: 12  k*p+j: 12  k,i,j 2 4 4\n",
      "int 4 k*p+i: 12  k*p+j: 12  k,i,j 3 0 0\n",
      "int 4 k*p+i: 12  k*p+j: 13  k,i,j 3 0 1\n",
      "int 4 k*p+i: 12  k*p+j: 14  k,i,j 3 0 2\n",
      "int 4 k*p+i: 12  k*p+j: 15  k,i,j 3 0 3\n",
      "int 4 k*p+i: 12  k*p+j: 16  k,i,j 3 0 4\n",
      "int 4 k*p+i: 13  k*p+j: 12  k,i,j 3 1 0\n",
      "int 4 k*p+i: 13  k*p+j: 13  k,i,j 3 1 1\n",
      "int 4 k*p+i: 13  k*p+j: 14  k,i,j 3 1 2\n",
      "int 4 k*p+i: 13  k*p+j: 15  k,i,j 3 1 3\n",
      "int 4 k*p+i: 13  k*p+j: 16  k,i,j 3 1 4\n",
      "int 4 k*p+i: 14  k*p+j: 12  k,i,j 3 2 0\n",
      "int 4 k*p+i: 14  k*p+j: 13  k,i,j 3 2 1\n",
      "int 4 k*p+i: 14  k*p+j: 14  k,i,j 3 2 2\n",
      "int 4 k*p+i: 14  k*p+j: 15  k,i,j 3 2 3\n",
      "int 4 k*p+i: 14  k*p+j: 16  k,i,j 3 2 4\n",
      "int 4 k*p+i: 15  k*p+j: 12  k,i,j 3 3 0\n",
      "int 4 k*p+i: 15  k*p+j: 13  k,i,j 3 3 1\n",
      "int 4 k*p+i: 15  k*p+j: 14  k,i,j 3 3 2\n",
      "int 4 k*p+i: 15  k*p+j: 15  k,i,j 3 3 3\n",
      "int 4 k*p+i: 15  k*p+j: 16  k,i,j 3 3 4\n",
      "int 4 k*p+i: 16  k*p+j: 12  k,i,j 3 4 0\n",
      "int 4 k*p+i: 16  k*p+j: 13  k,i,j 3 4 1\n",
      "int 4 k*p+i: 16  k*p+j: 14  k,i,j 3 4 2\n",
      "int 4 k*p+i: 16  k*p+j: 15  k,i,j 3 4 3\n",
      "int 4 k*p+i: 16  k*p+j: 16  k,i,j 3 4 4\n",
      "int 5 k*p+i: 16  k*p+j: 16  k,i,j 4 0 0\n",
      "int 5 k*p+i: 16  k*p+j: 17  k,i,j 4 0 1\n",
      "int 5 k*p+i: 16  k*p+j: 18  k,i,j 4 0 2\n",
      "int 5 k*p+i: 16  k*p+j: 19  k,i,j 4 0 3\n",
      "int 5 k*p+i: 16  k*p+j: 20  k,i,j 4 0 4\n",
      "int 5 k*p+i: 17  k*p+j: 16  k,i,j 4 1 0\n",
      "int 5 k*p+i: 17  k*p+j: 17  k,i,j 4 1 1\n",
      "int 5 k*p+i: 17  k*p+j: 18  k,i,j 4 1 2\n",
      "int 5 k*p+i: 17  k*p+j: 19  k,i,j 4 1 3\n",
      "int 5 k*p+i: 17  k*p+j: 20  k,i,j 4 1 4\n",
      "int 5 k*p+i: 18  k*p+j: 16  k,i,j 4 2 0\n",
      "int 5 k*p+i: 18  k*p+j: 17  k,i,j 4 2 1\n",
      "int 5 k*p+i: 18  k*p+j: 18  k,i,j 4 2 2\n",
      "int 5 k*p+i: 18  k*p+j: 19  k,i,j 4 2 3\n",
      "int 5 k*p+i: 18  k*p+j: 20  k,i,j 4 2 4\n",
      "int 5 k*p+i: 19  k*p+j: 16  k,i,j 4 3 0\n",
      "int 5 k*p+i: 19  k*p+j: 17  k,i,j 4 3 1\n",
      "int 5 k*p+i: 19  k*p+j: 18  k,i,j 4 3 2\n",
      "int 5 k*p+i: 19  k*p+j: 19  k,i,j 4 3 3\n",
      "int 5 k*p+i: 19  k*p+j: 20  k,i,j 4 3 4\n",
      "int 5 k*p+i: 20  k*p+j: 16  k,i,j 4 4 0\n",
      "int 5 k*p+i: 20  k*p+j: 17  k,i,j 4 4 1\n",
      "int 5 k*p+i: 20  k*p+j: 18  k,i,j 4 4 2\n",
      "int 5 k*p+i: 20  k*p+j: 19  k,i,j 4 4 3\n",
      "int 5 k*p+i: 20  k*p+j: 20  k,i,j 4 4 4\n",
      "int 6 k*p+i: 20  k*p+j: 20  k,i,j 5 0 0\n",
      "int 6 k*p+i: 20  k*p+j: 21  k,i,j 5 0 1\n",
      "int 6 k*p+i: 20  k*p+j: 22  k,i,j 5 0 2\n",
      "int 6 k*p+i: 20  k*p+j: 23  k,i,j 5 0 3\n",
      "int 6 k*p+i: 20  k*p+j: 24  k,i,j 5 0 4\n",
      "int 6 k*p+i: 21  k*p+j: 20  k,i,j 5 1 0\n",
      "int 6 k*p+i: 21  k*p+j: 21  k,i,j 5 1 1\n",
      "int 6 k*p+i: 21  k*p+j: 22  k,i,j 5 1 2\n",
      "int 6 k*p+i: 21  k*p+j: 23  k,i,j 5 1 3\n",
      "int 6 k*p+i: 21  k*p+j: 24  k,i,j 5 1 4\n",
      "int 6 k*p+i: 22  k*p+j: 20  k,i,j 5 2 0\n",
      "int 6 k*p+i: 22  k*p+j: 21  k,i,j 5 2 1\n",
      "int 6 k*p+i: 22  k*p+j: 22  k,i,j 5 2 2\n",
      "int 6 k*p+i: 22  k*p+j: 23  k,i,j 5 2 3\n",
      "int 6 k*p+i: 22  k*p+j: 24  k,i,j 5 2 4\n",
      "int 6 k*p+i: 23  k*p+j: 20  k,i,j 5 3 0\n",
      "int 6 k*p+i: 23  k*p+j: 21  k,i,j 5 3 1\n",
      "int 6 k*p+i: 23  k*p+j: 22  k,i,j 5 3 2\n",
      "int 6 k*p+i: 23  k*p+j: 23  k,i,j 5 3 3\n",
      "int 6 k*p+i: 23  k*p+j: 24  k,i,j 5 3 4\n",
      "int 6 k*p+i: 24  k*p+j: 20  k,i,j 5 4 0\n",
      "int 6 k*p+i: 24  k*p+j: 21  k,i,j 5 4 1\n",
      "int 6 k*p+i: 24  k*p+j: 22  k,i,j 5 4 2\n",
      "int 6 k*p+i: 24  k*p+j: 23  k,i,j 5 4 3\n",
      "int 6 k*p+i: 24  k*p+j: 24  k,i,j 5 4 4\n"
     ]
    }
   ],
   "source": [
    "B=Matriz_Global(A,6,4)"
   ]
  },
  {
   "cell_type": "code",
   "execution_count": 82,
   "metadata": {
    "ExecuteTime": {
     "end_time": "2022-04-21T08:25:11.091438Z",
     "start_time": "2022-04-21T08:25:11.066860Z"
    }
   },
   "outputs": [
    {
     "data": {
      "text/plain": [
       "array([[ 3.11373337, -1.37353571,  0.31412673, -0.23511992,  0.04760573,\n",
       "         0.        ,  0.        ,  0.        ,  0.        ,  0.        ,\n",
       "         0.        ,  0.        ,  0.        ,  0.        ,  0.        ,\n",
       "         0.        ,  0.        ,  0.        ,  0.        ,  0.        ,\n",
       "         0.        ,  0.        ,  0.        ,  0.        ,  0.        ,\n",
       "         0.        ,  0.        ,  0.        ,  0.        ,  0.        ],\n",
       "       [-1.37353571,  3.84908852, -1.14565545,  0.92518683, -0.19423669,\n",
       "         0.        ,  0.        ,  0.        ,  0.        ,  0.        ,\n",
       "         0.        ,  0.        ,  0.        ,  0.        ,  0.        ,\n",
       "         0.        ,  0.        ,  0.        ,  0.        ,  0.        ,\n",
       "         0.        ,  0.        ,  0.        ,  0.        ,  0.        ,\n",
       "         0.        ,  0.        ,  0.        ,  0.        ,  0.        ],\n",
       "       [ 0.31412673, -1.14565545,  0.37619861, -0.31002267,  0.06567038,\n",
       "         0.        ,  0.        ,  0.        ,  0.        ,  0.        ,\n",
       "         0.        ,  0.        ,  0.        ,  0.        ,  0.        ,\n",
       "         0.        ,  0.        ,  0.        ,  0.        ,  0.        ,\n",
       "         0.        ,  0.        ,  0.        ,  0.        ,  0.        ,\n",
       "         0.        ,  0.        ,  0.        ,  0.        ,  0.        ],\n",
       "       [-0.23511992,  0.92518683, -0.31002267,  0.25660178, -0.05446004,\n",
       "         0.        ,  0.        ,  0.        ,  0.        ,  0.        ,\n",
       "         0.        ,  0.        ,  0.        ,  0.        ,  0.        ,\n",
       "         0.        ,  0.        ,  0.        ,  0.        ,  0.        ,\n",
       "         0.        ,  0.        ,  0.        ,  0.        ,  0.        ,\n",
       "         0.        ,  0.        ,  0.        ,  0.        ,  0.        ],\n",
       "       [ 0.04760573, -0.19423669,  0.06567038, -0.05446004,  0.11029672,\n",
       "                inf, -0.26645176,  0.17203758, -0.03306241,  0.        ,\n",
       "         0.        ,  0.        ,  0.        ,  0.        ,  0.        ,\n",
       "         0.        ,  0.        ,  0.        ,  0.        ,  0.        ,\n",
       "         0.        ,  0.        ,  0.        ,  0.        ,  0.        ,\n",
       "         0.        ,  0.        ,  0.        ,  0.        ,  0.        ],\n",
       "       [ 0.        ,  0.        ,  0.        ,  0.        ,         inf,\n",
       "                inf,        -inf,         inf,        -inf,  0.        ,\n",
       "         0.        ,  0.        ,  0.        ,  0.        ,  0.        ,\n",
       "         0.        ,  0.        ,  0.        ,  0.        ,  0.        ,\n",
       "         0.        ,  0.        ,  0.        ,  0.        ,  0.        ,\n",
       "         0.        ,  0.        ,  0.        ,  0.        ,  0.        ],\n",
       "       [ 0.        ,  0.        ,  0.        ,  0.        , -0.26645176,\n",
       "               -inf,  1.43946598, -0.76826438,  0.13940127,  0.        ,\n",
       "         0.        ,  0.        ,  0.        ,  0.        ,  0.        ,\n",
       "         0.        ,  0.        ,  0.        ,  0.        ,  0.        ,\n",
       "         0.        ,  0.        ,  0.        ,  0.        ,  0.        ,\n",
       "         0.        ,  0.        ,  0.        ,  0.        ,  0.        ],\n",
       "       [ 0.        ,  0.        ,  0.        ,  0.        ,  0.17203758,\n",
       "                inf, -0.76826438,  0.43169433, -0.07956797,  0.        ,\n",
       "         0.        ,  0.        ,  0.        ,  0.        ,  0.        ,\n",
       "         0.        ,  0.        ,  0.        ,  0.        ,  0.        ,\n",
       "         0.        ,  0.        ,  0.        ,  0.        ,  0.        ,\n",
       "         0.        ,  0.        ,  0.        ,  0.        ,  0.        ],\n",
       "       [ 0.        ,  0.        ,  0.        ,  0.        , -0.03306241,\n",
       "               -inf,  0.13940127, -0.07956797,  0.06429915, -0.60711315,\n",
       "         0.12664191,  0.13768976, -0.02528548,  0.        ,  0.        ,\n",
       "         0.        ,  0.        ,  0.        ,  0.        ,  0.        ,\n",
       "         0.        ,  0.        ,  0.        ,  0.        ,  0.        ,\n",
       "         0.        ,  0.        ,  0.        ,  0.        ,  0.        ],\n",
       "       [ 0.        ,  0.        ,  0.        ,  0.        ,  0.        ,\n",
       "         0.        ,  0.        ,  0.        , -0.60711315,  9.23751197,\n",
       "        -1.96244168, -1.29884854,  0.25468457,  0.        ,  0.        ,\n",
       "         0.        ,  0.        ,  0.        ,  0.        ,  0.        ,\n",
       "         0.        ,  0.        ,  0.        ,  0.        ,  0.        ,\n",
       "         0.        ,  0.        ,  0.        ,  0.        ,  0.        ],\n",
       "       [ 0.        ,  0.        ,  0.        ,  0.        ,  0.        ,\n",
       "         0.        ,  0.        ,  0.        ,  0.12664191, -1.96244168,\n",
       "         0.43119213,  0.23744682, -0.04887812,  0.        ,  0.        ,\n",
       "         0.        ,  0.        ,  0.        ,  0.        ,  0.        ,\n",
       "         0.        ,  0.        ,  0.        ,  0.        ,  0.        ,\n",
       "         0.        ,  0.        ,  0.        ,  0.        ,  0.        ],\n",
       "       [ 0.        ,  0.        ,  0.        ,  0.        ,  0.        ,\n",
       "         0.        ,  0.        ,  0.        ,  0.13768976, -1.29884854,\n",
       "         0.23744682,  0.51591316, -0.08811488,  0.        ,  0.        ,\n",
       "         0.        ,  0.        ,  0.        ,  0.        ,  0.        ,\n",
       "         0.        ,  0.        ,  0.        ,  0.        ,  0.        ,\n",
       "         0.        ,  0.        ,  0.        ,  0.        ,  0.        ],\n",
       "       [ 0.        ,  0.        ,  0.        ,  0.        ,  0.        ,\n",
       "         0.        ,  0.        ,  0.        , -0.02528548,  0.25468457,\n",
       "        -0.04887812, -0.08811488,  0.03062911, -0.08811488, -0.04887812,\n",
       "         0.25468457, -0.02528548,  0.        ,  0.        ,  0.        ,\n",
       "         0.        ,  0.        ,  0.        ,  0.        ,  0.        ,\n",
       "         0.        ,  0.        ,  0.        ,  0.        ,  0.        ],\n",
       "       [ 0.        ,  0.        ,  0.        ,  0.        ,  0.        ,\n",
       "         0.        ,  0.        ,  0.        ,  0.        ,  0.        ,\n",
       "         0.        ,  0.        , -0.08811488,  0.51591316,  0.23744682,\n",
       "        -1.29884854,  0.13768976,  0.        ,  0.        ,  0.        ,\n",
       "         0.        ,  0.        ,  0.        ,  0.        ,  0.        ,\n",
       "         0.        ,  0.        ,  0.        ,  0.        ,  0.        ],\n",
       "       [ 0.        ,  0.        ,  0.        ,  0.        ,  0.        ,\n",
       "         0.        ,  0.        ,  0.        ,  0.        ,  0.        ,\n",
       "         0.        ,  0.        , -0.04887812,  0.23744682,  0.43119213,\n",
       "        -1.96244168,  0.12664191,  0.        ,  0.        ,  0.        ,\n",
       "         0.        ,  0.        ,  0.        ,  0.        ,  0.        ,\n",
       "         0.        ,  0.        ,  0.        ,  0.        ,  0.        ],\n",
       "       [ 0.        ,  0.        ,  0.        ,  0.        ,  0.        ,\n",
       "         0.        ,  0.        ,  0.        ,  0.        ,  0.        ,\n",
       "         0.        ,  0.        ,  0.25468457, -1.29884854, -1.96244168,\n",
       "         9.23751197, -0.60711315,  0.        ,  0.        ,  0.        ,\n",
       "         0.        ,  0.        ,  0.        ,  0.        ,  0.        ,\n",
       "         0.        ,  0.        ,  0.        ,  0.        ,  0.        ],\n",
       "       [ 0.        ,  0.        ,  0.        ,  0.        ,  0.        ,\n",
       "         0.        ,  0.        ,  0.        ,  0.        ,  0.        ,\n",
       "         0.        ,  0.        , -0.02528548,  0.13768976,  0.12664191,\n",
       "        -0.60711315,  0.06429915, -0.07956797,  0.13940127,        -inf,\n",
       "        -0.03306241,  0.        ,  0.        ,  0.        ,  0.        ,\n",
       "         0.        ,  0.        ,  0.        ,  0.        ,  0.        ],\n",
       "       [ 0.        ,  0.        ,  0.        ,  0.        ,  0.        ,\n",
       "         0.        ,  0.        ,  0.        ,  0.        ,  0.        ,\n",
       "         0.        ,  0.        ,  0.        ,  0.        ,  0.        ,\n",
       "         0.        , -0.07956797,  0.43169433, -0.76826438,         inf,\n",
       "         0.17203758,  0.        ,  0.        ,  0.        ,  0.        ,\n",
       "         0.        ,  0.        ,  0.        ,  0.        ,  0.        ],\n",
       "       [ 0.        ,  0.        ,  0.        ,  0.        ,  0.        ,\n",
       "         0.        ,  0.        ,  0.        ,  0.        ,  0.        ,\n",
       "         0.        ,  0.        ,  0.        ,  0.        ,  0.        ,\n",
       "         0.        ,  0.13940127, -0.76826438,  1.43946598,        -inf,\n",
       "        -0.26645176,  0.        ,  0.        ,  0.        ,  0.        ,\n",
       "         0.        ,  0.        ,  0.        ,  0.        ,  0.        ],\n",
       "       [ 0.        ,  0.        ,  0.        ,  0.        ,  0.        ,\n",
       "         0.        ,  0.        ,  0.        ,  0.        ,  0.        ,\n",
       "         0.        ,  0.        ,  0.        ,  0.        ,  0.        ,\n",
       "         0.        ,        -inf,         inf,        -inf,         inf,\n",
       "                inf,  0.        ,  0.        ,  0.        ,  0.        ,\n",
       "         0.        ,  0.        ,  0.        ,  0.        ,  0.        ],\n",
       "       [ 0.        ,  0.        ,  0.        ,  0.        ,  0.        ,\n",
       "         0.        ,  0.        ,  0.        ,  0.        ,  0.        ,\n",
       "         0.        ,  0.        ,  0.        ,  0.        ,  0.        ,\n",
       "         0.        , -0.03306241,  0.17203758, -0.26645176,         inf,\n",
       "         0.11029672, -0.05446004,  0.06567038, -0.19423669,  0.04760573,\n",
       "         0.        ,  0.        ,  0.        ,  0.        ,  0.        ],\n",
       "       [ 0.        ,  0.        ,  0.        ,  0.        ,  0.        ,\n",
       "         0.        ,  0.        ,  0.        ,  0.        ,  0.        ,\n",
       "         0.        ,  0.        ,  0.        ,  0.        ,  0.        ,\n",
       "         0.        ,  0.        ,  0.        ,  0.        ,  0.        ,\n",
       "        -0.05446004,  0.25660178, -0.31002267,  0.92518683, -0.23511992,\n",
       "         0.        ,  0.        ,  0.        ,  0.        ,  0.        ],\n",
       "       [ 0.        ,  0.        ,  0.        ,  0.        ,  0.        ,\n",
       "         0.        ,  0.        ,  0.        ,  0.        ,  0.        ,\n",
       "         0.        ,  0.        ,  0.        ,  0.        ,  0.        ,\n",
       "         0.        ,  0.        ,  0.        ,  0.        ,  0.        ,\n",
       "         0.06567038, -0.31002267,  0.37619861, -1.14565545,  0.31412673,\n",
       "         0.        ,  0.        ,  0.        ,  0.        ,  0.        ],\n",
       "       [ 0.        ,  0.        ,  0.        ,  0.        ,  0.        ,\n",
       "         0.        ,  0.        ,  0.        ,  0.        ,  0.        ,\n",
       "         0.        ,  0.        ,  0.        ,  0.        ,  0.        ,\n",
       "         0.        ,  0.        ,  0.        ,  0.        ,  0.        ,\n",
       "        -0.19423669,  0.92518683, -1.14565545,  3.84908852, -1.37353571,\n",
       "         0.        ,  0.        ,  0.        ,  0.        ,  0.        ],\n",
       "       [ 0.        ,  0.        ,  0.        ,  0.        ,  0.        ,\n",
       "         0.        ,  0.        ,  0.        ,  0.        ,  0.        ,\n",
       "         0.        ,  0.        ,  0.        ,  0.        ,  0.        ,\n",
       "         0.        ,  0.        ,  0.        ,  0.        ,  0.        ,\n",
       "         0.04760573, -0.23511992,  0.31412673, -1.37353571,  3.11373337,\n",
       "         0.        ,  0.        ,  0.        ,  0.        ,  0.        ],\n",
       "       [ 0.        ,  0.        ,  0.        ,  0.        ,  0.        ,\n",
       "         0.        ,  0.        ,  0.        ,  0.        ,  0.        ,\n",
       "         0.        ,  0.        ,  0.        ,  0.        ,  0.        ,\n",
       "         0.        ,  0.        ,  0.        ,  0.        ,  0.        ,\n",
       "         0.        ,  0.        ,  0.        ,  0.        ,  0.        ,\n",
       "         0.        ,  0.        ,  0.        ,  0.        ,  0.        ],\n",
       "       [ 0.        ,  0.        ,  0.        ,  0.        ,  0.        ,\n",
       "         0.        ,  0.        ,  0.        ,  0.        ,  0.        ,\n",
       "         0.        ,  0.        ,  0.        ,  0.        ,  0.        ,\n",
       "         0.        ,  0.        ,  0.        ,  0.        ,  0.        ,\n",
       "         0.        ,  0.        ,  0.        ,  0.        ,  0.        ,\n",
       "         0.        ,  0.        ,  0.        ,  0.        ,  0.        ],\n",
       "       [ 0.        ,  0.        ,  0.        ,  0.        ,  0.        ,\n",
       "         0.        ,  0.        ,  0.        ,  0.        ,  0.        ,\n",
       "         0.        ,  0.        ,  0.        ,  0.        ,  0.        ,\n",
       "         0.        ,  0.        ,  0.        ,  0.        ,  0.        ,\n",
       "         0.        ,  0.        ,  0.        ,  0.        ,  0.        ,\n",
       "         0.        ,  0.        ,  0.        ,  0.        ,  0.        ],\n",
       "       [ 0.        ,  0.        ,  0.        ,  0.        ,  0.        ,\n",
       "         0.        ,  0.        ,  0.        ,  0.        ,  0.        ,\n",
       "         0.        ,  0.        ,  0.        ,  0.        ,  0.        ,\n",
       "         0.        ,  0.        ,  0.        ,  0.        ,  0.        ,\n",
       "         0.        ,  0.        ,  0.        ,  0.        ,  0.        ,\n",
       "         0.        ,  0.        ,  0.        ,  0.        ,  0.        ],\n",
       "       [ 0.        ,  0.        ,  0.        ,  0.        ,  0.        ,\n",
       "         0.        ,  0.        ,  0.        ,  0.        ,  0.        ,\n",
       "         0.        ,  0.        ,  0.        ,  0.        ,  0.        ,\n",
       "         0.        ,  0.        ,  0.        ,  0.        ,  0.        ,\n",
       "         0.        ,  0.        ,  0.        ,  0.        ,  0.        ,\n",
       "         0.        ,  0.        ,  0.        ,  0.        ,  0.        ]])"
      ]
     },
     "execution_count": 82,
     "metadata": {},
     "output_type": "execute_result"
    }
   ],
   "source": [
    "B"
   ]
  },
  {
   "cell_type": "code",
   "execution_count": null,
   "metadata": {},
   "outputs": [],
   "source": []
  }
 ],
 "metadata": {
  "kernelspec": {
   "display_name": "Python 3",
   "language": "python",
   "name": "python3"
  },
  "language_info": {
   "codemirror_mode": {
    "name": "ipython",
    "version": 3
   },
   "file_extension": ".py",
   "mimetype": "text/x-python",
   "name": "python",
   "nbconvert_exporter": "python",
   "pygments_lexer": "ipython3",
   "version": "3.7.6"
  },
  "latex_envs": {
   "LaTeX_envs_menu_present": true,
   "autoclose": false,
   "autocomplete": true,
   "bibliofile": "biblio.bib",
   "cite_by": "apalike",
   "current_citInitial": 1,
   "eqLabelWithNumbers": true,
   "eqNumInitial": 1,
   "hotkeys": {
    "equation": "Ctrl-E",
    "itemize": "Ctrl-I"
   },
   "labels_anchors": false,
   "latex_user_defs": false,
   "report_style_numbering": false,
   "user_envs_cfg": false
  }
 },
 "nbformat": 4,
 "nbformat_minor": 2
}
