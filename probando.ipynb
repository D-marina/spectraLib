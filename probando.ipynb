{
 "cells": [
  {
   "cell_type": "code",
   "execution_count": 60,
   "metadata": {
    "ExecuteTime": {
     "end_time": "2022-04-04T08:25:38.107173Z",
     "start_time": "2022-04-04T08:25:38.101243Z"
    }
   },
   "outputs": [],
   "source": [
    "import sympy as sp\n",
    "import numpy as np\n",
    "from scipy.special import legendre"
   ]
  },
  {
   "cell_type": "code",
   "execution_count": 2,
   "metadata": {
    "ExecuteTime": {
     "end_time": "2022-04-04T07:52:30.962767Z",
     "start_time": "2022-04-04T07:52:30.954034Z"
    }
   },
   "outputs": [],
   "source": [
    "x = sp.symbols('x')\n",
    "\n",
    "def P(n, x): \n",
    "    if(n == 0):\n",
    "        return 1 # P0 = 1\n",
    "    elif(n == 1):\n",
    "        return x # P1 = x\n",
    "    else:\n",
    "        return (((2 * n)-1)*x * P(n-1, x)-(n-1)*P(n-2, x))/float(n)"
   ]
  },
  {
   "cell_type": "markdown",
   "metadata": {},
   "source": [
    "Quiero conseguir la función phi a partir de las funciones de legendre y su derivada, sin crear P(n,x)"
   ]
  },
  {
   "cell_type": "code",
   "execution_count": 4,
   "metadata": {
    "ExecuteTime": {
     "end_time": "2022-04-04T07:52:47.186023Z",
     "start_time": "2022-04-04T07:52:47.052354Z"
    }
   },
   "outputs": [
    {
     "data": {
      "text/latex": [
       "$\\displaystyle 4.375 x^{4} - 3.75 x^{2} + 0.375$"
      ],
      "text/plain": [
       "4.375*x**4 - 3.75*x**2 + 0.375"
      ]
     },
     "execution_count": 4,
     "metadata": {},
     "output_type": "execute_result"
    }
   ],
   "source": [
    "sp.simplify(P(4,x))"
   ]
  },
  {
   "cell_type": "code",
   "execution_count": 37,
   "metadata": {
    "ExecuteTime": {
     "end_time": "2022-04-04T08:17:23.904302Z",
     "start_time": "2022-04-04T08:17:23.896771Z"
    },
    "scrolled": true
   },
   "outputs": [
    {
     "data": {
      "text/plain": [
       "poly1d([ 4.37500000e+00,  4.85722573e-16, -3.75000000e+00,  2.42861287e-16,\n",
       "        3.75000000e-01])"
      ]
     },
     "execution_count": 37,
     "metadata": {},
     "output_type": "execute_result"
    }
   ],
   "source": [
    "legendre(4)"
   ]
  },
  {
   "cell_type": "code",
   "execution_count": 51,
   "metadata": {
    "ExecuteTime": {
     "end_time": "2022-04-04T08:21:44.795956Z",
     "start_time": "2022-04-04T08:21:44.787285Z"
    }
   },
   "outputs": [
    {
     "data": {
      "text/plain": [
       "array([ 0.375,  1.   , 55.375])"
      ]
     },
     "execution_count": 51,
     "metadata": {},
     "output_type": "execute_result"
    }
   ],
   "source": [
    "legendre(4)([0,1,2])"
   ]
  },
  {
   "cell_type": "code",
   "execution_count": 58,
   "metadata": {
    "ExecuteTime": {
     "end_time": "2022-04-04T08:24:21.657988Z",
     "start_time": "2022-04-04T08:24:21.649210Z"
    }
   },
   "outputs": [
    {
     "data": {
      "text/plain": [
       "55.375"
      ]
     },
     "execution_count": 58,
     "metadata": {},
     "output_type": "execute_result"
    }
   ],
   "source": [
    "Ln = lambda x:legendre(4)(x)\n",
    "Ln(2)"
   ]
  },
  {
   "cell_type": "code",
   "execution_count": 52,
   "metadata": {
    "ExecuteTime": {
     "end_time": "2022-04-04T08:22:52.133271Z",
     "start_time": "2022-04-04T08:22:52.072321Z"
    }
   },
   "outputs": [
    {
     "data": {
      "text/latex": [
       "$\\displaystyle x \\left(17.5 x^{2} - 7.5\\right)$"
      ],
      "text/plain": [
       "x*(17.5*x**2 - 7.5)"
      ]
     },
     "execution_count": 52,
     "metadata": {},
     "output_type": "execute_result"
    }
   ],
   "source": [
    "sp.simplify(sp.diff(P(4,x)))"
   ]
  },
  {
   "cell_type": "code",
   "execution_count": 53,
   "metadata": {
    "ExecuteTime": {
     "end_time": "2022-04-04T08:22:54.328306Z",
     "start_time": "2022-04-04T08:22:54.315338Z"
    }
   },
   "outputs": [
    {
     "data": {
      "text/latex": [
       "$\\displaystyle 17.5 x^{3} + 1.45716771982052 \\cdot 10^{-15} x^{2} - 7.5 x + 2.42861286636753 \\cdot 10^{-16}$"
      ],
      "text/plain": [
       "17.5*x**3 + 1.45716771982052e-15*x**2 - 7.5*x + 2.42861286636753e-16"
      ]
     },
     "execution_count": 53,
     "metadata": {},
     "output_type": "execute_result"
    }
   ],
   "source": [
    "Lnp= lambda x:legendre(4).deriv()(x)\n",
    "sp.expand(Lnp(x))"
   ]
  },
  {
   "cell_type": "code",
   "execution_count": null,
   "metadata": {},
   "outputs": [],
   "source": []
  },
  {
   "cell_type": "code",
   "execution_count": 65,
   "metadata": {
    "ExecuteTime": {
     "end_time": "2022-04-04T08:26:37.854480Z",
     "start_time": "2022-04-04T08:26:37.679916Z"
    }
   },
   "outputs": [
    {
     "name": "stdout",
     "output_type": "stream",
     "text": [
      "0.875*x**4 - 0.875*x**3 - 0.375*x**2 + 0.375*x - 1.21430643318376e-17\n",
      "-0.05*(x**2 - 1)*(x*(x*(17.5*x + 1.45716771982052e-15) - 7.5) + 2.42861286636753e-16)/(0.2890625*x + 0.14453125)\n"
     ]
    }
   ],
   "source": [
    "N=4\n",
    "xvals = np.linspace(-1,1,N+1)\n",
    "\n",
    "i=0\n",
    "phi0 = lambda x: ((-1)/(N*(N+1)))*((1-x**2)*(Lnp(x))/((x-xvals[[i]])*(Ln(xvals)[[i]])))\n",
    "print(sp.simplify(phi0(x)))\n",
    "\n",
    "i=1\n",
    "phi1 = lambda x: ((-1)/(N*(N+1)))*((1-x**2)*(Lnp(x))/((x-xvals[[i]])*(Ln(xvals)[[i]])))\n",
    "print(sp.simplify(phi1(x)))"
   ]
  },
  {
   "cell_type": "code",
   "execution_count": 73,
   "metadata": {
    "ExecuteTime": {
     "end_time": "2022-04-04T08:27:24.463399Z",
     "start_time": "2022-04-04T08:27:24.446466Z"
    }
   },
   "outputs": [
    {
     "data": {
      "text/latex": [
       "$\\displaystyle - \\frac{0.05 \\left(1 - x^{2}\\right) \\left(x \\left(x \\left(17.5 x + 1.45716771982052 \\cdot 10^{-15}\\right) - 7.5\\right) + 2.42861286636753 \\cdot 10^{-16}\\right)}{- 0.2890625 x - 0.14453125}$"
      ],
      "text/plain": [
       "-0.05*(1 - x**2)*(x*(x*(17.5*x + 1.45716771982052e-15) - 7.5) + 2.42861286636753e-16)/(-0.2890625*x - 0.14453125)"
      ]
     },
     "execution_count": 73,
     "metadata": {},
     "output_type": "execute_result"
    }
   ],
   "source": [
    "i=1\n",
    "phi0(x)"
   ]
  },
  {
   "cell_type": "code",
   "execution_count": 74,
   "metadata": {
    "ExecuteTime": {
     "end_time": "2022-04-04T08:27:26.847338Z",
     "start_time": "2022-04-04T08:27:26.830349Z"
    }
   },
   "outputs": [
    {
     "data": {
      "text/latex": [
       "$\\displaystyle - \\frac{0.05 \\left(1 - x^{2}\\right) \\left(x \\left(x \\left(17.5 x + 1.45716771982052 \\cdot 10^{-15}\\right) - 7.5\\right) + 2.42861286636753 \\cdot 10^{-16}\\right)}{- 0.2890625 x - 0.14453125}$"
      ],
      "text/plain": [
       "-0.05*(1 - x**2)*(x*(x*(17.5*x + 1.45716771982052e-15) - 7.5) + 2.42861286636753e-16)/(-0.2890625*x - 0.14453125)"
      ]
     },
     "execution_count": 74,
     "metadata": {},
     "output_type": "execute_result"
    }
   ],
   "source": [
    "i=1\n",
    "phi1(x)"
   ]
  },
  {
   "cell_type": "code",
   "execution_count": null,
   "metadata": {},
   "outputs": [],
   "source": []
  }
 ],
 "metadata": {
  "kernelspec": {
   "display_name": "Python 3",
   "language": "python",
   "name": "python3"
  },
  "language_info": {
   "codemirror_mode": {
    "name": "ipython",
    "version": 3
   },
   "file_extension": ".py",
   "mimetype": "text/x-python",
   "name": "python",
   "nbconvert_exporter": "python",
   "pygments_lexer": "ipython3",
   "version": "3.7.6"
  },
  "latex_envs": {
   "LaTeX_envs_menu_present": true,
   "autoclose": false,
   "autocomplete": true,
   "bibliofile": "biblio.bib",
   "cite_by": "apalike",
   "current_citInitial": 1,
   "eqLabelWithNumbers": true,
   "eqNumInitial": 1,
   "hotkeys": {
    "equation": "Ctrl-E",
    "itemize": "Ctrl-I"
   },
   "labels_anchors": false,
   "latex_user_defs": false,
   "report_style_numbering": false,
   "user_envs_cfg": false
  }
 },
 "nbformat": 4,
 "nbformat_minor": 2
}
