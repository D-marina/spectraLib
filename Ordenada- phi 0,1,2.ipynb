{
 "cells": [
  {
   "cell_type": "code",
   "execution_count": 1,
   "metadata": {
    "ExecuteTime": {
     "end_time": "2022-06-01T20:18:36.025390Z",
     "start_time": "2022-06-01T20:18:35.021953Z"
    }
   },
   "outputs": [],
   "source": [
    "import numpy as np  \n",
    "import numpy.polynomial.legendre as npl\n",
    "import sympy as sp\n",
    "import matplotlib.pyplot as plt\n",
    "from scipy.special import legendre\n",
    "from scipy.interpolate import lagrange\n",
    "import math "
   ]
  },
  {
   "cell_type": "code",
   "execution_count": 2,
   "metadata": {
    "ExecuteTime": {
     "end_time": "2022-06-01T20:18:36.655243Z",
     "start_time": "2022-06-01T20:18:36.647263Z"
    }
   },
   "outputs": [],
   "source": [
    "def Transformation(nodes, weight,a,b):\n",
    "    nodes=(b-a)/2*nodes+(a+b)/2\n",
    "    weight=(b-a)/2 *weight\n",
    "    return (nodes,weight)"
   ]
  },
  {
   "cell_type": "code",
   "execution_count": 3,
   "metadata": {
    "ExecuteTime": {
     "end_time": "2022-06-01T20:18:37.481846Z",
     "start_time": "2022-06-01T20:18:37.186897Z"
    }
   },
   "outputs": [],
   "source": [
    "def chop(lista):\n",
    "    for i in range(len(lista)):\n",
    "        if(abs(lista[i])<(10**(-10))):\n",
    "            lista[i]=0\n",
    "    return lista"
   ]
  },
  {
   "cell_type": "code",
   "execution_count": 4,
   "metadata": {
    "ExecuteTime": {
     "end_time": "2022-06-01T20:18:38.105527Z",
     "start_time": "2022-06-01T20:18:37.792143Z"
    }
   },
   "outputs": [],
   "source": [
    "class Cuadrature:\n",
    "    def __init__(self,nodes=None,weight=None):\n",
    "        if(list(nodes)!=None):\n",
    "                self.nodes=nodes\n",
    "        if(list(weight)!=None):\n",
    "                self.weight=weight\n",
    "        \n",
    "    def getNodes(self):\n",
    "        return self.nodes\n",
    "    def getWeight(self):\n",
    "        return self.weight\n",
    "    def getNumPoints(self):\n",
    "        return len(self.nodes)\n",
    "    \n",
    "    def Integrate(self,f):\n",
    "        return self.Integrate_List(f(np.array(self.nodes)))\n",
    "    \n",
    "    def Integrate_List(self,lista):\n",
    "        if (len(lista)==len(self.weight)):\n",
    "            return np.array(lista).dot(np.array(self.weight))\n",
    "        else:\n",
    "            raise Exception(\"No has metido correctamente la lista\")"
   ]
  },
  {
   "cell_type": "code",
   "execution_count": 5,
   "metadata": {
    "ExecuteTime": {
     "end_time": "2022-06-01T20:18:38.373213Z",
     "start_time": "2022-06-01T20:18:38.255131Z"
    }
   },
   "outputs": [],
   "source": [
    "class Lobato(Cuadrature):\n",
    "    def __init__(self, num_points,a,b):\n",
    "        aux=[-1,*sorted(list(legendre(num_points).deriv().r)),1]\n",
    "        Cuadrature.__init__(self, nodes=np.array(aux), weight=np.array(2/(num_points*(num_points+1)*(legendre(num_points)(aux))**2)))\n",
    "        self.nodes,self.weight=Transformation(self.nodes, self.weight, a, b)\n",
    "    def __str__(self):\n",
    "        return \"Nodos: %s \\nPesos: %s \" %(self.nodes,self.weight)"
   ]
  },
  {
   "cell_type": "code",
   "execution_count": 6,
   "metadata": {
    "ExecuteTime": {
     "end_time": "2022-06-01T20:18:38.927242Z",
     "start_time": "2022-06-01T20:18:38.672079Z"
    }
   },
   "outputs": [],
   "source": [
    "class Legendre(Cuadrature):\n",
    "    def __init__(self,num_points,a,b):\n",
    "        Cuadrature.__init__(self,nodes=npl.leggauss(num_points)[0], weight=npl.leggauss(num_points)[1]) \n",
    "        self.nodes,self.weight=Transformation(self.nodes, self.weight, a, b)\n",
    "    def __str__(self):\n",
    "        return \"Nodos: %s \\nPesos: %s \" %(self.nodes,self.weight)"
   ]
  },
  {
   "cell_type": "code",
   "execution_count": 7,
   "metadata": {
    "ExecuteTime": {
     "end_time": "2022-06-01T20:18:39.374897Z",
     "start_time": "2022-06-01T20:18:39.048896Z"
    }
   },
   "outputs": [],
   "source": [
    "class Trapecio_Compuesto(Cuadrature): #están considerados los extremos(-1,1)\n",
    "    def __init__(self,num_points,a,b):\n",
    "        Cuadrature.__init__(self, nodes=np.array([*np.arange(-1,1,float(2/num_points)).tolist(),1]), weight=np.array([2/(2*num_points),*[2/num_points]*(num_points-1),2/(2*num_points)]))\n",
    "        self.nodes,self.weight=Transformation(self.nodes, self.weight, a, b)\n",
    "    def __str__(self):\n",
    "        return \"Nodos: %s \\nPesos: %s \" %(self.nodes,self.weight)"
   ]
  },
  {
   "cell_type": "markdown",
   "metadata": {},
   "source": [
    "Hacemos interpolación en vez de continuar con phi"
   ]
  },
  {
   "cell_type": "code",
   "execution_count": 8,
   "metadata": {
    "ExecuteTime": {
     "end_time": "2022-06-01T20:18:41.121398Z",
     "start_time": "2022-06-01T20:18:40.483150Z"
    },
    "scrolled": false
   },
   "outputs": [
    {
     "data": {
      "text/plain": [
       "<matplotlib.legend.Legend at 0x1bcaffab548>"
      ]
     },
     "execution_count": 8,
     "metadata": {},
     "output_type": "execute_result"
    },
    {
     "data": {
      "image/png": "[encoded data removed]",
      "text/plain": [
       "<Figure size 432x288 with 1 Axes>"
      ]
     },
     "metadata": {
      "needs_background": "light"
     },
     "output_type": "display_data"
    }
   ],
   "source": [
    "N=1\n",
    "x = sp.symbols('x')\n",
    "xvals = chop(Lobato(N,-1,1).getNodes())\n",
    "\n",
    "phi0=lambda x:lagrange(xvals,[1,0])(x)\n",
    "difphi0=lambda x: lagrange(xvals,[1,0]).deriv()(x)\n",
    "                                                                                    \n",
    "phi1=lambda x:lagrange(xvals,[0,1])(x)\n",
    "difphi1=lambda x: lagrange(xvals,[0,1]).deriv()(x)\n",
    "\n",
    "phi=[phi0,phi1]\n",
    "difphi=[difphi0,difphi1]\n",
    "\n",
    "xval=np.linspace(-1,1,200)\n",
    "for i in range(0,len(phi)):\n",
    "    plt.plot(xval,phi[i](xval),label=\"$\\phi_{0}$\".format(i))\n",
    "plt.legend()"
   ]
  },
  {
   "cell_type": "code",
   "execution_count": 10,
   "metadata": {
    "ExecuteTime": {
     "end_time": "2022-06-01T20:18:42.692402Z",
     "start_time": "2022-06-01T20:18:42.436055Z"
    }
   },
   "outputs": [
    {
     "data": {
      "text/plain": [
       "<matplotlib.legend.Legend at 0x1bcb045c488>"
      ]
     },
     "execution_count": 10,
     "metadata": {},
     "output_type": "execute_result"
    },
    {
     "data": {
      "image/png": "[encoded data removed]",
      "text/plain": [
       "<Figure size 432x288 with 1 Axes>"
      ]
     },
     "metadata": {
      "needs_background": "light"
     },
     "output_type": "display_data"
    }
   ],
   "source": [
    "xval=np.linspace(-1,1,200)\n",
    "for i in range(0,len(phi)):\n",
    "    plt.plot(xval,difphi[i](xval),label=\"$\\phi_{0}$\".format(i))\n",
    "plt.legend()"
   ]
  },
  {
   "cell_type": "code",
   "execution_count": 11,
   "metadata": {
    "ExecuteTime": {
     "end_time": "2022-06-01T20:18:54.468264Z",
     "start_time": "2022-06-01T20:18:54.459285Z"
    }
   },
   "outputs": [],
   "source": [
    "def Matriz_Local_bonita(m,p,Nq,num_interval): #p siempre será 4 en nuestra actividad\n",
    "    \n",
    "    intervals=np.linspace(-1,1,m+1)\n",
    "    A=np.zeros((p+1, p+1))\n",
    "    a=intervals[num_interval-1]\n",
    "    b=intervals[num_interval]\n",
    "    xvals2 = chop(Lobato(Nq-1,-1,1).getNodes())\n",
    "    J=(b-a)/2\n",
    "    \n",
    "    for i in range(0,p+1):\n",
    "        for j in range(0,p+1):\n",
    "            A[i][j]=Lobato(Nq-1,a,b).Integrate_List((difphi[i](xvals2))/J*(difphi[j](xvals2)/J))\n",
    "    \n",
    "    return A"
   ]
  },
  {
   "cell_type": "code",
   "execution_count": 12,
   "metadata": {
    "ExecuteTime": {
     "end_time": "2022-06-01T20:18:55.761718Z",
     "start_time": "2022-06-01T20:18:55.473421Z"
    }
   },
   "outputs": [
    {
     "data": {
      "text/plain": [
       "array([[ 1., -1.],\n",
       "       [-1.,  1.]])"
      ]
     },
     "execution_count": 12,
     "metadata": {},
     "output_type": "execute_result"
    }
   ],
   "source": [
    "Matriz_Local_bonita(2,1,5,1)"
   ]
  },
  {
   "cell_type": "code",
   "execution_count": 13,
   "metadata": {
    "ExecuteTime": {
     "end_time": "2022-06-01T20:19:00.103917Z",
     "start_time": "2022-06-01T20:19:00.091950Z"
    }
   },
   "outputs": [],
   "source": [
    "def Vector_Ind_bonita(m,p,Nq,num_interval,f): #p siempre será 4 en nuestra actividad\n",
    "    \n",
    "    intervals=np.linspace(-1,1,m+1)\n",
    "    A=np.zeros(p+1)\n",
    "    a=intervals[num_interval-1]\n",
    "    b=intervals[num_interval]\n",
    " \n",
    "    xvals2 = chop(Lobato(Nq-1,-1,1).getNodes())\n",
    "    xvals3 = chop(Lobato(Nq-1,a,b).getNodes())\n",
    "    \n",
    "    for i in range(0,p+1):\n",
    "            A[i]=Lobato(Nq-1,a,b).Integrate_List(f(xvals3)*phi[i](xvals2))  \n",
    "        \n",
    "    return A"
   ]
  },
  {
   "cell_type": "code",
   "execution_count": 14,
   "metadata": {
    "ExecuteTime": {
     "end_time": "2022-06-01T20:19:01.082850Z",
     "start_time": "2022-06-01T20:19:01.065896Z"
    }
   },
   "outputs": [
    {
     "data": {
      "text/plain": [
       "array([-1.11111111, -1.55555556])"
      ]
     },
     "execution_count": 14,
     "metadata": {},
     "output_type": "execute_result"
    }
   ],
   "source": [
    "f=lambda x: -6*x\n",
    "Vector_Ind_bonita(3,1,5,3,f)"
   ]
  },
  {
   "cell_type": "markdown",
   "metadata": {},
   "source": [
    "### Al hacer la matriz local la incorporamos dentro de la global y luego al siguiente intervalo."
   ]
  },
  {
   "cell_type": "code",
   "execution_count": 16,
   "metadata": {
    "ExecuteTime": {
     "end_time": "2022-06-01T20:19:10.320363Z",
     "start_time": "2022-06-01T20:19:10.311421Z"
    }
   },
   "outputs": [],
   "source": [
    "def Matriz_Global(m,p,Nq,f):#m es nº de intervalos\n",
    "    \n",
    "    AG=np.zeros((p*m+1, p*m+1))\n",
    "    BG=np.zeros(p*m+1)\n",
    "    for k in range(0,m):\n",
    "        A=Matriz_Local_bonita(m,p,Nq,k+1)\n",
    "        B=Vector_Ind_bonita(m,p,Nq,k+1,f)\n",
    "        for i in range(0,p+1):\n",
    "            BG[k*p+i]=BG[k*p+i]+B[i]\n",
    "            for j in range(0,p+1):\n",
    "                AG[k*p+i][k*p+j] = AG[k*p+i][k*p+j] + A[i][j]\n",
    "                #print(\"int\",k+1,\"k*p+i:\",k*p+i,\" k*p+j:\",k*p+j,\" k,i,j\",k,i,j,\" sol:\",AG[k*p+i][k*p+j] )\n",
    "    return (AG,BG)"
   ]
  },
  {
   "cell_type": "code",
   "execution_count": 17,
   "metadata": {
    "ExecuteTime": {
     "end_time": "2022-06-01T20:19:16.489471Z",
     "start_time": "2022-06-01T20:19:16.479526Z"
    }
   },
   "outputs": [],
   "source": [
    "def Matriz_A_Global(m,p,Nq,f):#m es nº de intervalos\n",
    "    \n",
    "    AG=np.zeros((p*m+1, p*m+1))\n",
    "    for k in range(0,m):\n",
    "        A=Matriz_Local_bonita(m,p,Nq,k+1)\n",
    "        for i in range(0,p+1):\n",
    "            for j in range(0,p+1):\n",
    "                AG[k*p+i][k*p+j] = AG[k*p+i][k*p+j] + A[i][j]\n",
    "                #print(\"int\",k+1,\"k*p+i:\",k*p+i,\" k*p+j:\",k*p+j,\" k,i,j\",k,i,j,\" sol:\",AG[k*p+i][k*p+j] )\n",
    "    return AG"
   ]
  },
  {
   "cell_type": "code",
   "execution_count": 18,
   "metadata": {
    "ExecuteTime": {
     "end_time": "2022-06-01T20:19:17.149558Z",
     "start_time": "2022-06-01T20:19:16.895181Z"
    }
   },
   "outputs": [],
   "source": [
    "def Matriz_B_Global(m,p,Nq,f):#m es nº de intervalos\n",
    "    \n",
    "    BG=np.zeros(p*m+1)\n",
    "    for k in range(0,m):\n",
    "        B=Vector_Ind_bonita(m,p,Nq,k+1,f)\n",
    "        for i in range(0,p+1):\n",
    "            BG[k*p+i]=BG[k*p+i]+B[i]\n",
    "                 #print(\"int\",k+1,\"k*p+i:\",k*p+i,\" k*p+j:\",k*p+j,\" k,i,j\",k,i,j,\" sol:\",AG[k*p+i][k*p+j] )\n",
    "    return BG"
   ]
  },
  {
   "cell_type": "code",
   "execution_count": 19,
   "metadata": {
    "ExecuteTime": {
     "end_time": "2022-06-01T20:19:20.894412Z",
     "start_time": "2022-06-01T20:19:20.862497Z"
    }
   },
   "outputs": [
    {
     "data": {
      "text/plain": [
       "(array([[ 1., -1.,  0.],\n",
       "        [-1.,  2., -1.],\n",
       "        [ 0., -1.,  1.]]), array([1., 2., 1.]))"
      ]
     },
     "execution_count": 19,
     "metadata": {},
     "output_type": "execute_result"
    }
   ],
   "source": [
    "f= lambda x:2\n",
    "Matriz_Global(2,1,5,f)"
   ]
  },
  {
   "cell_type": "code",
   "execution_count": 20,
   "metadata": {
    "ExecuteTime": {
     "end_time": "2022-06-01T20:19:23.261837Z",
     "start_time": "2022-06-01T20:19:23.251863Z"
    }
   },
   "outputs": [],
   "source": [
    "def Solucion(N_vals, Nq, f, cond1, cond2):\n",
    "    AG=Matriz_A_Global(N_vals,1,Nq,f) \n",
    "    BG=Matriz_B_Global(N_vals,1,Nq,f) \n",
    "    \n",
    "    AG[0][0]=10**30\n",
    "    BG[0]=cond1*10**30\n",
    "    AG[len(AG)-1][len(AG)-1]=10**30\n",
    "    BG[len(BG)-1]=cond2*10**30\n",
    "\n",
    "    return np.linalg.solve(AG,BG) "
   ]
  },
  {
   "cell_type": "markdown",
   "metadata": {},
   "source": [
    "## Ejemplos 1D : $-u''=f$"
   ]
  },
  {
   "cell_type": "code",
   "execution_count": 21,
   "metadata": {
    "ExecuteTime": {
     "end_time": "2022-06-01T20:19:27.857052Z",
     "start_time": "2022-06-01T20:19:26.320751Z"
    }
   },
   "outputs": [
    {
     "data": {
      "text/plain": [
       "<matplotlib.legend.Legend at 0x1bcb0498848>"
      ]
     },
     "execution_count": 21,
     "metadata": {},
     "output_type": "execute_result"
    },
    {
     "data": {
      "image/png": "[encoded data removed]",
      "text/plain": [
       "<Figure size 432x288 with 1 Axes>"
      ]
     },
     "metadata": {
      "needs_background": "light"
     },
     "output_type": "display_data"
    }
   ],
   "source": [
    "f= lambda x: -2\n",
    "real = lambda x: x**2-1\n",
    "\n",
    "N_vals=100 #Num intervalos\n",
    "Nq=5 #nodos de cuadratura \n",
    "cond1=cond2=0\n",
    "X = Solucion(N_vals, Nq, f, cond1, cond2)\n",
    "\n",
    "valores=np.linspace(-1,1,len(X))\n",
    "plt.plot(valores,real(valores),label=\"real\")\n",
    "plt.plot(np.linspace(-1,1,len(X)),X,label=\"aprox real\")\n",
    "plt.legend()"
   ]
  },
  {
   "cell_type": "code",
   "execution_count": 22,
   "metadata": {
    "ExecuteTime": {
     "end_time": "2022-06-01T20:19:29.974233Z",
     "start_time": "2022-06-01T20:19:29.529442Z"
    }
   },
   "outputs": [
    {
     "data": {
      "text/plain": [
       "<matplotlib.legend.Legend at 0x1bcb052c8c8>"
      ]
     },
     "execution_count": 22,
     "metadata": {},
     "output_type": "execute_result"
    },
    {
     "data": {
      "image/png": "[encoded data removed]",
      "text/plain": [
       "<Figure size 432x288 with 1 Axes>"
      ]
     },
     "metadata": {
      "needs_background": "light"
     },
     "output_type": "display_data"
    }
   ],
   "source": [
    "f= lambda x:-6*x\n",
    "real= lambda x: x*(x+1)*(x-1) \n",
    "\n",
    "N_vals=20 #Num intervalos\n",
    "Nq=20 #nodos de cuadratura \n",
    "cond1=cond2=0\n",
    "X = Solucion(N_vals, Nq, f, cond1, cond2)\n",
    "\n",
    "valores=np.linspace(-1,1,101)\n",
    "plt.plot(valores,real(valores),label=\"real\")\n",
    "plt.plot(np.linspace(-1,1,len(X)),X,label=\"aprox\")\n",
    "plt.legend()"
   ]
  },
  {
   "cell_type": "code",
   "execution_count": 23,
   "metadata": {
    "ExecuteTime": {
     "end_time": "2022-06-01T20:19:33.332615Z",
     "start_time": "2022-06-01T20:19:32.631022Z"
    }
   },
   "outputs": [
    {
     "data": {
      "text/plain": [
       "<matplotlib.legend.Legend at 0x1bcb0a50888>"
      ]
     },
     "execution_count": 23,
     "metadata": {},
     "output_type": "execute_result"
    },
    {
     "data": {
      "image/png": "[encoded data removed]",
      "text/plain": [
       "<Figure size 432x288 with 1 Axes>"
      ]
     },
     "metadata": {
      "needs_background": "light"
     },
     "output_type": "display_data"
    }
   ],
   "source": [
    "f= lambda x: -16*np.pi**2*np.cos(2*np.pi*x)*np.sin(2*np.pi*x)\n",
    "real = lambda x: -np.sin(2*np.pi*x)*np.cos(2*np.pi*x)\n",
    "\n",
    "N_vals=30 #Num intervalos\n",
    "Nq=7 #nodos de cuadratura \n",
    "cond1=cond2=0\n",
    "X = Solucion(N_vals, Nq, f, cond1, cond2)\n",
    "\n",
    "valores=np.linspace(-1,1,101)\n",
    "plt.plot(valores,real(valores),label=\"real\")\n",
    "plt.plot(np.linspace(-1,1,len(X)),X,label=\"aprox\")\n",
    "plt.legend()"
   ]
  },
  {
   "cell_type": "code",
   "execution_count": 24,
   "metadata": {
    "ExecuteTime": {
     "end_time": "2022-06-01T20:19:33.828829Z",
     "start_time": "2022-06-01T20:19:33.387011Z"
    }
   },
   "outputs": [
    {
     "data": {
      "text/plain": [
       "<matplotlib.legend.Legend at 0x1bcb0adabc8>"
      ]
     },
     "execution_count": 24,
     "metadata": {},
     "output_type": "execute_result"
    },
    {
     "data": {
      "image/png": "[encoded data removed]",
      "text/plain": [
       "<Figure size 432x288 with 1 Axes>"
      ]
     },
     "metadata": {
      "needs_background": "light"
     },
     "output_type": "display_data"
    }
   ],
   "source": [
    "f=lambda x:2-12*x**2\n",
    "real = lambda x:-x**2*(1 - x**2)\n",
    "\n",
    "N_vals=20 #Num intervalos\n",
    "Nq=20 #nodos de cuadratura \n",
    "cond1=cond2=0\n",
    "X = Solucion(N_vals, Nq, f, cond1, cond2)\n",
    "\n",
    "valores=np.linspace(-1,1,101)\n",
    "plt.plot(valores,real(valores),label=\"real\")\n",
    "plt.plot(np.linspace(-1,1,len(X)),X,label=\"aprox\")\n",
    "plt.legend()"
   ]
  },
  {
   "cell_type": "markdown",
   "metadata": {},
   "source": [
    "Ejemplos cuyas condiciones de contorno no son 0"
   ]
  },
  {
   "cell_type": "code",
   "execution_count": 25,
   "metadata": {
    "ExecuteTime": {
     "end_time": "2022-06-01T20:19:36.119836Z",
     "start_time": "2022-06-01T20:19:35.705839Z"
    }
   },
   "outputs": [
    {
     "data": {
      "text/plain": [
       "<matplotlib.legend.Legend at 0x1bcb0b51e48>"
      ]
     },
     "execution_count": 25,
     "metadata": {},
     "output_type": "execute_result"
    },
    {
     "data": {
      "image/png": "[encoded data removed]",
      "text/plain": [
       "<Figure size 432x288 with 1 Axes>"
      ]
     },
     "metadata": {
      "needs_background": "light"
     },
     "output_type": "display_data"
    }
   ],
   "source": [
    "f= lambda x: -6\n",
    "real = lambda x: 3*x**2+x\n",
    "\n",
    "N_vals=20 #Num intervalos\n",
    "Nq=20 #nodos de cuadratura \n",
    "cond1=2\n",
    "cond2=4\n",
    "X = Solucion(N_vals, Nq, f, cond1, cond2)\n",
    "\n",
    "valores=np.linspace(-1,1,101)\n",
    "plt.plot(valores,real(valores),label=\"real\")\n",
    "plt.plot(np.linspace(-1,1,len(X)),X,label=\"aprox\")\n",
    "plt.legend()"
   ]
  },
  {
   "cell_type": "code",
   "execution_count": 26,
   "metadata": {
    "ExecuteTime": {
     "end_time": "2022-06-01T20:19:37.918990Z",
     "start_time": "2022-06-01T20:19:37.457543Z"
    }
   },
   "outputs": [
    {
     "data": {
      "text/plain": [
       "<matplotlib.legend.Legend at 0x1bcb0ba3b08>"
      ]
     },
     "execution_count": 26,
     "metadata": {},
     "output_type": "execute_result"
    },
    {
     "data": {
      "image/png": "[encoded data removed]",
      "text/plain": [
       "<Figure size 432x288 with 1 Axes>"
      ]
     },
     "metadata": {
      "needs_background": "light"
     },
     "output_type": "display_data"
    }
   ],
   "source": [
    "f= lambda x: -2\n",
    "real = lambda x: (x-1)**2\n",
    "\n",
    "N_vals=20 #Num intervalos\n",
    "Nq=20 #nodos de cuadratura \n",
    "cond1=4\n",
    "cond2=0\n",
    "X = Solucion(N_vals, Nq, f, cond1, cond2)\n",
    "\n",
    "valores=np.linspace(-1,1,101)\n",
    "plt.plot(valores,real(valores),label=\"real\")\n",
    "plt.plot(np.linspace(-1,1,len(X)),X,label=\"aprox\")\n",
    "plt.legend()"
   ]
  },
  {
   "cell_type": "code",
   "execution_count": null,
   "metadata": {},
   "outputs": [],
   "source": []
  },
  {
   "cell_type": "markdown",
   "metadata": {},
   "source": [
    "## Dimensión 2"
   ]
  },
  {
   "cell_type": "code",
   "execution_count": 27,
   "metadata": {
    "ExecuteTime": {
     "end_time": "2022-06-01T20:19:43.305851Z",
     "start_time": "2022-06-01T20:19:43.270947Z"
    }
   },
   "outputs": [
    {
     "data": {
      "text/plain": [
       "array([[ 1., -1.,  0.],\n",
       "       [-1.,  2., -1.],\n",
       "       [ 0., -1.,  1.]])"
      ]
     },
     "execution_count": 27,
     "metadata": {},
     "output_type": "execute_result"
    }
   ],
   "source": [
    "f= lambda x:-2\n",
    "A,B=Matriz_Global(2,1,5,f)\n",
    "A"
   ]
  },
  {
   "cell_type": "markdown",
   "metadata": {},
   "source": [
    "Para sacar a partir de I los índices I=(i,j)"
   ]
  },
  {
   "cell_type": "code",
   "execution_count": 28,
   "metadata": {
    "ExecuteTime": {
     "end_time": "2022-06-01T20:20:28.375524Z",
     "start_time": "2022-06-01T20:20:28.364586Z"
    }
   },
   "outputs": [
    {
     "name": "stdout",
     "output_type": "stream",
     "text": [
      "2 2\n"
     ]
    }
   ],
   "source": [
    "k=8\n",
    "i=round(math.modf(k/3)[1])\n",
    "j=round(math.modf(k/3)[0]*3)\n",
    "print(i,j)"
   ]
  },
  {
   "cell_type": "code",
   "execution_count": 32,
   "metadata": {
    "ExecuteTime": {
     "end_time": "2022-06-01T20:21:46.107392Z",
     "start_time": "2022-06-01T20:21:46.092431Z"
    }
   },
   "outputs": [],
   "source": [
    "def Matriz_Local_SinD(m,p,Nq,num_interval):\n",
    "    \n",
    "    intervals=np.linspace(-1,1,m+1)\n",
    "    A=np.zeros((p+1, p+1))\n",
    "    a=intervals[num_interval-1]\n",
    "    b=intervals[num_interval]\n",
    "    xvals2 = chop(Lobato(Nq-1,-1,1).getNodes())\n",
    "    \n",
    "    for i in range(0,p+1):\n",
    "        for j in range(0,p+1):\n",
    "            A[i][j]=Lobato(Nq-1,a,b).Integrate_List(phi[i](xvals2)*phi[j](xvals2))\n",
    "    \n",
    "    return A\n",
    "\n",
    "def Matriz_Global_SinD(m,p,Nq,f):#m es nº de intervalos\n",
    "    \n",
    "    AG=np.zeros((p*m+1, p*m+1))\n",
    "    BG=np.zeros(p*m+1)\n",
    "    for k in range(0,m):\n",
    "        A=Matriz_Local_SinD(m,p,Nq,k+1)\n",
    "        B=Vector_Ind_bonita(m,p,Nq,k+1,f)\n",
    "        for i in range(0,p+1):\n",
    "            BG[k*p+i]=BG[k*p+i]+B[i]\n",
    "            for j in range(0,p+1):\n",
    "                AG[k*p+i][k*p+j] = AG[k*p+i][k*p+j] + A[i][j]\n",
    "                #print(\"int\",k+1,\"k*p+i:\",k*p+i,\" k*p+j:\",k*p+j,\" k,i,j\",k,i,j,\" sol:\",AG[k*p+i][k*p+j] )\n",
    "    return (AG,BG)"
   ]
  },
  {
   "cell_type": "code",
   "execution_count": 37,
   "metadata": {
    "ExecuteTime": {
     "end_time": "2022-06-01T20:51:23.071117Z",
     "start_time": "2022-06-01T20:51:23.058155Z"
    }
   },
   "outputs": [],
   "source": [
    "def Matriz_Global_2D(m,p,Nq): \n",
    "    \n",
    "    intervals=np.linspace(-1,1,m+1)\n",
    "    A,B=Matriz_Global(m,p,Nq,f) #las B no sirven de momento\n",
    "    A1,B1=Matriz_Global_SinD(m,p,Nq,f)\n",
    "    print(\"A: \",A)\n",
    "    print(\"A1: \",A1)\n",
    "    A2=np.zeros(((m+1)*(m+1),(m+1)*(m+1)))\n",
    "    \n",
    "    for k1 in range(0,(m+1)*(m+1)):\n",
    "        i1=round(math.modf(k1/3)[1])\n",
    "        j1=round(math.modf(k1/3)[0]*3)\n",
    "        #print(\"k1: \",k1, \"i1,j1: \",i1,j1)\n",
    "        for k2 in range(0,(m+1)*(m+1)):\n",
    "            i2=round(math.modf(k2/3)[1])\n",
    "            j2=round(math.modf(k2/3)[0]*3)\n",
    "            #print(\"k2: \",k2, \"i2,j2: \",i2,j2 )\n",
    "            A2[k1][k2]=A[i1][j1]*A1[i2][j2]+A1[i1][j1]*A[i2][j2]\n",
    "            #print(A2)\n",
    "                        \n",
    "    return A2"
   ]
  },
  {
   "cell_type": "markdown",
   "metadata": {},
   "source": [
    "A partir de las globales donde ya tenemos cada punto final y los respectivos índices a partir de esta ecuación creo la matriz global de 2D\n",
    "\n",
    "$\\int_{-1}^{1} d_x(\\varphi_i(x)) d_x(\\varphi_k(x))dx \\int_{-1}^{1} \\varphi_j(y)\\varphi_l(y))dy +\n",
    "\\int_{-1}^{1} d_y(\\varphi_j(y)) d_y(\\varphi_l(y))dy \\int_{-1}^{1} \\varphi_i(x)\\varphi_k(x))dx  $"
   ]
  },
  {
   "cell_type": "code",
   "execution_count": 38,
   "metadata": {
    "ExecuteTime": {
     "end_time": "2022-06-01T20:51:23.641045Z",
     "start_time": "2022-06-01T20:51:23.582169Z"
    },
    "scrolled": true
   },
   "outputs": [
    {
     "name": "stdout",
     "output_type": "stream",
     "text": [
      "A:  [[ 1. -1.  0.]\n",
      " [-1.  2. -1.]\n",
      " [ 0. -1.  1.]]\n",
      "A1:  [[0.33333333 0.16666667 0.        ]\n",
      " [0.16666667 0.66666667 0.16666667]\n",
      " [0.         0.16666667 0.33333333]]\n"
     ]
    },
    {
     "data": {
      "text/plain": [
       "array([[ 0.66666667, -0.16666667,  0.        , -0.16666667,  1.33333333,\n",
       "        -0.16666667,  0.        , -0.16666667,  0.66666667],\n",
       "       [-0.16666667, -0.33333333,  0.        , -0.33333333, -0.33333333,\n",
       "        -0.33333333,  0.        , -0.33333333, -0.16666667],\n",
       "       [ 0.        ,  0.        ,  0.        ,  0.        ,  0.        ,\n",
       "         0.        ,  0.        ,  0.        ,  0.        ],\n",
       "       [-0.16666667, -0.33333333,  0.        , -0.33333333, -0.33333333,\n",
       "        -0.33333333,  0.        , -0.33333333, -0.16666667],\n",
       "       [ 1.33333333, -0.33333333,  0.        , -0.33333333,  2.66666667,\n",
       "        -0.33333333,  0.        , -0.33333333,  1.33333333],\n",
       "       [-0.16666667, -0.33333333,  0.        , -0.33333333, -0.33333333,\n",
       "        -0.33333333,  0.        , -0.33333333, -0.16666667],\n",
       "       [ 0.        ,  0.        ,  0.        ,  0.        ,  0.        ,\n",
       "         0.        ,  0.        ,  0.        ,  0.        ],\n",
       "       [-0.16666667, -0.33333333,  0.        , -0.33333333, -0.33333333,\n",
       "        -0.33333333,  0.        , -0.33333333, -0.16666667],\n",
       "       [ 0.66666667, -0.16666667,  0.        , -0.16666667,  1.33333333,\n",
       "        -0.16666667,  0.        , -0.16666667,  0.66666667]])"
      ]
     },
     "execution_count": 38,
     "metadata": {},
     "output_type": "execute_result"
    }
   ],
   "source": [
    "Matriz_Global_2D(2,1,5)"
   ]
  },
  {
   "cell_type": "markdown",
   "metadata": {},
   "source": [
    "Lo de abajo no hay que hacerle caso!!"
   ]
  },
  {
   "cell_type": "code",
   "execution_count": 51,
   "metadata": {
    "ExecuteTime": {
     "end_time": "2022-06-01T20:56:44.411461Z",
     "start_time": "2022-06-01T20:56:44.396502Z"
    }
   },
   "outputs": [],
   "source": [
    "def Vector_Ind_2D(m,p,Nq,num_interval,f): #p siempre será 4 en nuestra actividad\n",
    "    \n",
    "    intervals=np.linspace(-1,1,m+1)\n",
    "    A=np.zeros((m+1)*(m+1))\n",
    "    print(\"len\",len(A))\n",
    "    a=intervals[num_interval-1]\n",
    "    b=intervals[num_interval]\n",
    " \n",
    "    xvals2 = chop(Lobato(Nq-1,-1,1).getNodes())\n",
    "    xvals3 = chop(Lobato(Nq-1,a,b).getNodes())\n",
    "    \n",
    "    for k in range(0,((m+1)*(m+1))):\n",
    "        print(k)\n",
    "        i=round(math.modf(k/(m+1))[1])\n",
    "        j=round(math.modf(k/(m+1))[0]*(m+1))\n",
    "        aux=Lobato(Nq-1,a,b).Integrate_List(f(xvals3,xvals3)*phi[i](xvals2))  \n",
    "        A[k]=Lobato(Nq-1,a,b).Integrate_List(aux*phi[j](xvals2))\n",
    "            \n",
    "    return A"
   ]
  },
  {
   "cell_type": "code",
   "execution_count": 52,
   "metadata": {
    "ExecuteTime": {
     "end_time": "2022-06-01T20:56:45.599019Z",
     "start_time": "2022-06-01T20:56:44.812049Z"
    }
   },
   "outputs": [
    {
     "name": "stdout",
     "output_type": "stream",
     "text": [
      "len 9\n",
      "0\n",
      "1\n",
      "2\n"
     ]
    },
    {
     "ename": "IndexError",
     "evalue": "list index out of range",
     "output_type": "error",
     "traceback": [
      "\u001b[1;31m---------------------------------------------------------------------------\u001b[0m",
      "\u001b[1;31mIndexError\u001b[0m                                Traceback (most recent call last)",
      "\u001b[1;32m<ipython-input-52-f10a0dc760c8>\u001b[0m in \u001b[0;36m<module>\u001b[1;34m\u001b[0m\n\u001b[0;32m      1\u001b[0m \u001b[0mf\u001b[0m\u001b[1;33m=\u001b[0m \u001b[1;32mlambda\u001b[0m \u001b[0mx\u001b[0m\u001b[1;33m,\u001b[0m\u001b[0my\u001b[0m\u001b[1;33m:\u001b[0m\u001b[0mx\u001b[0m\u001b[1;33m**\u001b[0m\u001b[1;36m2\u001b[0m\u001b[1;33m+\u001b[0m\u001b[0my\u001b[0m\u001b[1;33m**\u001b[0m\u001b[1;36m2\u001b[0m\u001b[1;33m\u001b[0m\u001b[1;33m\u001b[0m\u001b[0m\n\u001b[1;32m----> 2\u001b[1;33m \u001b[0mVector_Ind_2D\u001b[0m\u001b[1;33m(\u001b[0m\u001b[1;36m2\u001b[0m\u001b[1;33m,\u001b[0m\u001b[1;36m1\u001b[0m\u001b[1;33m,\u001b[0m\u001b[1;36m5\u001b[0m\u001b[1;33m,\u001b[0m\u001b[1;36m1\u001b[0m\u001b[1;33m,\u001b[0m\u001b[0mf\u001b[0m\u001b[1;33m)\u001b[0m\u001b[1;33m\u001b[0m\u001b[1;33m\u001b[0m\u001b[0m\n\u001b[0m",
      "\u001b[1;32m<ipython-input-51-d2add756742b>\u001b[0m in \u001b[0;36mVector_Ind_2D\u001b[1;34m(m, p, Nq, num_interval, f)\u001b[0m\n\u001b[0;32m     15\u001b[0m         \u001b[0mj\u001b[0m\u001b[1;33m=\u001b[0m\u001b[0mround\u001b[0m\u001b[1;33m(\u001b[0m\u001b[0mmath\u001b[0m\u001b[1;33m.\u001b[0m\u001b[0mmodf\u001b[0m\u001b[1;33m(\u001b[0m\u001b[0mk\u001b[0m\u001b[1;33m/\u001b[0m\u001b[1;33m(\u001b[0m\u001b[0mm\u001b[0m\u001b[1;33m+\u001b[0m\u001b[1;36m1\u001b[0m\u001b[1;33m)\u001b[0m\u001b[1;33m)\u001b[0m\u001b[1;33m[\u001b[0m\u001b[1;36m0\u001b[0m\u001b[1;33m]\u001b[0m\u001b[1;33m*\u001b[0m\u001b[1;33m(\u001b[0m\u001b[0mm\u001b[0m\u001b[1;33m+\u001b[0m\u001b[1;36m1\u001b[0m\u001b[1;33m)\u001b[0m\u001b[1;33m)\u001b[0m\u001b[1;33m\u001b[0m\u001b[1;33m\u001b[0m\u001b[0m\n\u001b[0;32m     16\u001b[0m         \u001b[0maux\u001b[0m\u001b[1;33m=\u001b[0m\u001b[0mLobato\u001b[0m\u001b[1;33m(\u001b[0m\u001b[0mNq\u001b[0m\u001b[1;33m-\u001b[0m\u001b[1;36m1\u001b[0m\u001b[1;33m,\u001b[0m\u001b[0ma\u001b[0m\u001b[1;33m,\u001b[0m\u001b[0mb\u001b[0m\u001b[1;33m)\u001b[0m\u001b[1;33m.\u001b[0m\u001b[0mIntegrate_List\u001b[0m\u001b[1;33m(\u001b[0m\u001b[0mf\u001b[0m\u001b[1;33m(\u001b[0m\u001b[0mxvals3\u001b[0m\u001b[1;33m,\u001b[0m\u001b[0mxvals3\u001b[0m\u001b[1;33m)\u001b[0m\u001b[1;33m*\u001b[0m\u001b[0mphi\u001b[0m\u001b[1;33m[\u001b[0m\u001b[0mi\u001b[0m\u001b[1;33m]\u001b[0m\u001b[1;33m(\u001b[0m\u001b[0mxvals2\u001b[0m\u001b[1;33m)\u001b[0m\u001b[1;33m)\u001b[0m\u001b[1;33m\u001b[0m\u001b[1;33m\u001b[0m\u001b[0m\n\u001b[1;32m---> 17\u001b[1;33m         \u001b[0mA\u001b[0m\u001b[1;33m[\u001b[0m\u001b[0mk\u001b[0m\u001b[1;33m]\u001b[0m\u001b[1;33m=\u001b[0m\u001b[0mLobato\u001b[0m\u001b[1;33m(\u001b[0m\u001b[0mNq\u001b[0m\u001b[1;33m-\u001b[0m\u001b[1;36m1\u001b[0m\u001b[1;33m,\u001b[0m\u001b[0ma\u001b[0m\u001b[1;33m,\u001b[0m\u001b[0mb\u001b[0m\u001b[1;33m)\u001b[0m\u001b[1;33m.\u001b[0m\u001b[0mIntegrate_List\u001b[0m\u001b[1;33m(\u001b[0m\u001b[0maux\u001b[0m\u001b[1;33m*\u001b[0m\u001b[0mphi\u001b[0m\u001b[1;33m[\u001b[0m\u001b[0mj\u001b[0m\u001b[1;33m]\u001b[0m\u001b[1;33m(\u001b[0m\u001b[0mxvals2\u001b[0m\u001b[1;33m)\u001b[0m\u001b[1;33m)\u001b[0m\u001b[1;33m\u001b[0m\u001b[1;33m\u001b[0m\u001b[0m\n\u001b[0m\u001b[0;32m     18\u001b[0m \u001b[1;33m\u001b[0m\u001b[0m\n\u001b[0;32m     19\u001b[0m     \u001b[1;32mreturn\u001b[0m \u001b[0mA\u001b[0m\u001b[1;33m\u001b[0m\u001b[1;33m\u001b[0m\u001b[0m\n",
      "\u001b[1;31mIndexError\u001b[0m: list index out of range"
     ]
    }
   ],
   "source": [
    "f= lambda x,y:x**2+y**2\n",
    "Vector_Ind_2D(2,1,5,1,f)"
   ]
  },
  {
   "cell_type": "code",
   "execution_count": null,
   "metadata": {},
   "outputs": [],
   "source": []
  }
 ],
 "metadata": {
  "kernelspec": {
   "display_name": "Python 3",
   "language": "python",
   "name": "python3"
  },
  "language_info": {
   "codemirror_mode": {
    "name": "ipython",
    "version": 3
   },
   "file_extension": ".py",
   "mimetype": "text/x-python",
   "name": "python",
   "nbconvert_exporter": "python",
   "pygments_lexer": "ipython3",
   "version": "3.7.6"
  },
  "latex_envs": {
   "LaTeX_envs_menu_present": true,
   "autoclose": false,
   "autocomplete": true,
   "bibliofile": "biblio.bib",
   "cite_by": "apalike",
   "current_citInitial": 1,
   "eqLabelWithNumbers": true,
   "eqNumInitial": 1,
   "hotkeys": {
    "equation": "Ctrl-E",
    "itemize": "Ctrl-I"
   },
   "labels_anchors": false,
   "latex_user_defs": false,
   "report_style_numbering": false,
   "user_envs_cfg": false
  }
 },
 "nbformat": 4,
 "nbformat_minor": 2
}
